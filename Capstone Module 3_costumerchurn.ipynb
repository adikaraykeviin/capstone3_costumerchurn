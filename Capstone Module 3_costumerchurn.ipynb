{
 "cells": [
  {
   "cell_type": "markdown",
   "metadata": {},
   "source": [
    "# **E-COMMERCE CUSTOMER CHURN**"
   ]
  },
  {
   "cell_type": "markdown",
   "metadata": {},
   "source": [
    "---\n",
    "## **Business Problem Understanding**"
   ]
  },
  {
   "cell_type": "markdown",
   "metadata": {},
   "source": [
    "### Context"
   ]
  },
  {
   "cell_type": "markdown",
   "metadata": {},
   "source": [
    "e-commerce company is a place where seller and costumer can do its transaction through website or mobile app. The Transaction can be from various category. the company gets profit from each trancsaction done by the costumer, the costumer growth is needed so the company can get more profit. the company wants to know the costumer churn, minimizing the company loss of income.    "
   ]
  },
  {
   "cell_type": "markdown",
   "metadata": {},
   "source": [
    "### Problem Statement"
   ]
  },
  {
   "cell_type": "markdown",
   "metadata": {},
   "source": [
    "The Company wants to know the costumer churn, so the loss of income can be minimized. For that reason,  the company needs to predict the costumer before the costumer really churn, so that the company can give the costumer the better services, like giving appealing promos. however, the promo should be given to the right person. By doing so, the company can avoid the loss of income from losing costumers "
   ]
  },
  {
   "cell_type": "markdown",
   "metadata": {},
   "source": [
    "### Goals"
   ]
  },
  {
   "cell_type": "markdown",
   "metadata": {},
   "source": [
    "- Potential costumer churn prediction, so the promo given is on the right person\n",
    "- Knowing the factor that affecting the costumer to churn to avoid loss of income"
   ]
  },
  {
   "cell_type": "markdown",
   "metadata": {},
   "source": [
    "### Analytic Approach"
   ]
  },
  {
   "cell_type": "markdown",
   "metadata": {},
   "source": [
    "- Finding the pattern that differentiate the costumer that will churn or not by analyzing the company data\n",
    "- Doing prediction on costumer who will churn or not by doing classification model"
   ]
  },
  {
   "cell_type": "markdown",
   "metadata": {},
   "source": [
    "### Metric Evaluation"
   ]
  },
  {
   "cell_type": "markdown",
   "metadata": {},
   "source": [
    "- **(TP) True Positive**: Costumer predicted to churn and actually churn\n",
    "- **(FP) False Positive**: Costumer predicted to churn, but actually not to churn\n",
    "- **(FN) False Negative**: Costumer is predicted not to churn, but actually churn\n",
    "- **(TN) True Negative**: costumer is predicted not to churn and actually not to churn\n",
    "\n",
    "Fault that might happen in doing prediction:\n",
    "\n",
    "**Type 1 error**: False Positive \n",
    "- Action: Giving promotion with estimated cost *$150* per capita per year.\n",
    "- Consequences: giving promotion to wrong target, creating inappropiate cost to the company\n",
    "\n",
    " **Type 2 error**: False Negative\n",
    "- Action: Not giving attention to costumer predicted not to churn that could give profit up to *$600* per capita per year. \n",
    "- Consequences: Company is losing income because losing costumer\n",
    "\n",
    "Because the probability of false prediction above, the model created should be able to minimized the company loss of income from losing of costumers by surpressing the false negative, so the company can be maintained to avoid inappropriate cost in giving promotion (avoid false positive). by that reason, `F2 score` will be used.\n",
    "\n",
    "F2 score is one of evaluation metrics for classification that measuring model accuracy by considering trade off between precision and recall. F2 score based on beta score where if beta score is bigger than 1, it will lead to recall instead of precision. F2 score can be used to evaluate classification model perfromance where mistake from false negative is more considerable than to avoid than false positive."
   ]
  },
  {
   "cell_type": "markdown",
   "metadata": {},
   "source": [
    "### Dataset"
   ]
  },
  {
   "cell_type": "markdown",
   "metadata": {},
   "source": [
    "**Dataset E-commerce Customer Churn**\n",
    "\n",
    "   The dataset will be used is data_ecommerce_customer_churn.csv. However, there's any data similar with this dataset with more column/feature. The owner of the data is Ankit Verma and the address source on the internet is in the following link.\n",
    "\n",
    " https://www.kaggle.com/datasets/ankitverma2010/ecommerce-customer-churn-analysis-and-prediction\n",
    " \n",
    "**Target and Features**\n",
    "\n",
    "Target : \n",
    "- 0 : Not Churn Costumer\n",
    "- 1 : Churn costumer"
   ]
  },
  {
   "cell_type": "markdown",
   "metadata": {},
   "source": [
    "| Feature | Description |\n",
    "| --- | --- |\n",
    "| Tenure | Tenure of a customer in the company |\n",
    "| WarehouseToHome | Distance between the warehouse to the customer’s home |\n",
    "| NumberOfDeviceRegistered | Total number of devices is registered on a particular customer |\n",
    "| PreferedOrderCat | Preferred order category of a customer in the last month |\n",
    "| SatisfactionScore | Satisfactory score of a customer on service |\n",
    "| MaritalStatus | Marital status of a customer |\n",
    "| NumberOfAddress | Total number of address on a particular customer |\n",
    "| Complaint | Any complaint has been raised in the last month |\n",
    "| DaySinceLastOrder | Day since last order by customer |\n",
    "| CashbackAmount | Average cashback in last month |\n"
   ]
  },
  {
   "cell_type": "markdown",
   "metadata": {},
   "source": [
    "---\n",
    "## **Data Understanding**"
   ]
  },
  {
   "cell_type": "markdown",
   "metadata": {},
   "source": [
    "### Import Library"
   ]
  },
  {
   "cell_type": "code",
   "execution_count": 1,
   "metadata": {},
   "outputs": [],
   "source": [
    "# Library\n",
    "import pandas as pd\n",
    "import numpy as np\n",
    "\n",
    "# Visualization\n",
    "import matplotlib.pyplot as plt\n",
    "import seaborn as sns\n",
    "from IPython.display import display\n",
    "\n",
    "# Feature Engineering\n",
    "from sklearn.pipeline import Pipeline\n",
    "from sklearn.impute import SimpleImputer\n",
    "from sklearn.preprocessing import OneHotEncoder, RobustScaler, MinMaxScaler, StandardScaler\n",
    "from sklearn.compose import ColumnTransformer\n",
    "import category_encoders as ce\n",
    "from sklearn.preprocessing import PolynomialFeatures\n",
    "\n",
    "# Imbalance Dataset\n",
    "from imblearn.pipeline import Pipeline\n",
    "from imblearn.over_sampling import RandomOverSampler, SMOTE\n",
    "from imblearn.under_sampling import RandomUnderSampler, NearMiss\n",
    "\n",
    "# Algorithm ML\n",
    "from sklearn.linear_model import LogisticRegression\n",
    "from sklearn.tree import DecisionTreeClassifier\n",
    "from sklearn.neighbors import KNeighborsClassifier\n",
    "from sklearn.ensemble import RandomForestClassifier\n",
    "from sklearn.ensemble import AdaBoostClassifier\n",
    "from sklearn.ensemble import GradientBoostingClassifier\n",
    "from xgboost import XGBClassifier\n",
    "\n",
    "# Crossval\n",
    "from sklearn.model_selection import RandomizedSearchCV, train_test_split, cross_val_score\n",
    "from sklearn.metrics import confusion_matrix\n",
    "from sklearn.metrics import fbeta_score, make_scorer\n",
    "\n",
    "# Explainable ML\n",
    "import shap\n",
    "\n",
    "# Ignore Warning\n",
    "import sys\n",
    "import warnings\n",
    "if not sys.warnoptions:\n",
    "    warnings.simplefilter(\"ignore\")\n",
    "\n",
    "# Set max columns\n",
    "pd.set_option('display.max_columns', None)"
   ]
  },
  {
   "cell_type": "markdown",
   "metadata": {},
   "source": [
    "### Load Dataset"
   ]
  },
  {
   "cell_type": "code",
   "execution_count": 2,
   "metadata": {},
   "outputs": [
    {
     "data": {
      "text/html": [
       "<div>\n",
       "<style scoped>\n",
       "    .dataframe tbody tr th:only-of-type {\n",
       "        vertical-align: middle;\n",
       "    }\n",
       "\n",
       "    .dataframe tbody tr th {\n",
       "        vertical-align: top;\n",
       "    }\n",
       "\n",
       "    .dataframe thead th {\n",
       "        text-align: right;\n",
       "    }\n",
       "</style>\n",
       "<table border=\"1\" class=\"dataframe\">\n",
       "  <thead>\n",
       "    <tr style=\"text-align: right;\">\n",
       "      <th></th>\n",
       "      <th>Tenure</th>\n",
       "      <th>WarehouseToHome</th>\n",
       "      <th>NumberOfDeviceRegistered</th>\n",
       "      <th>PreferedOrderCat</th>\n",
       "      <th>SatisfactionScore</th>\n",
       "      <th>MaritalStatus</th>\n",
       "      <th>NumberOfAddress</th>\n",
       "      <th>Complain</th>\n",
       "      <th>DaySinceLastOrder</th>\n",
       "      <th>CashbackAmount</th>\n",
       "      <th>Churn</th>\n",
       "    </tr>\n",
       "  </thead>\n",
       "  <tbody>\n",
       "    <tr>\n",
       "      <th>0</th>\n",
       "      <td>15.0</td>\n",
       "      <td>29.0</td>\n",
       "      <td>4</td>\n",
       "      <td>Laptop &amp; Accessory</td>\n",
       "      <td>3</td>\n",
       "      <td>Single</td>\n",
       "      <td>2</td>\n",
       "      <td>0</td>\n",
       "      <td>7.0</td>\n",
       "      <td>143.32</td>\n",
       "      <td>0</td>\n",
       "    </tr>\n",
       "    <tr>\n",
       "      <th>1</th>\n",
       "      <td>7.0</td>\n",
       "      <td>25.0</td>\n",
       "      <td>4</td>\n",
       "      <td>Mobile</td>\n",
       "      <td>1</td>\n",
       "      <td>Married</td>\n",
       "      <td>2</td>\n",
       "      <td>0</td>\n",
       "      <td>7.0</td>\n",
       "      <td>129.29</td>\n",
       "      <td>0</td>\n",
       "    </tr>\n",
       "    <tr>\n",
       "      <th>2</th>\n",
       "      <td>27.0</td>\n",
       "      <td>13.0</td>\n",
       "      <td>3</td>\n",
       "      <td>Laptop &amp; Accessory</td>\n",
       "      <td>1</td>\n",
       "      <td>Married</td>\n",
       "      <td>5</td>\n",
       "      <td>0</td>\n",
       "      <td>7.0</td>\n",
       "      <td>168.54</td>\n",
       "      <td>0</td>\n",
       "    </tr>\n",
       "    <tr>\n",
       "      <th>3</th>\n",
       "      <td>20.0</td>\n",
       "      <td>25.0</td>\n",
       "      <td>4</td>\n",
       "      <td>Fashion</td>\n",
       "      <td>3</td>\n",
       "      <td>Divorced</td>\n",
       "      <td>7</td>\n",
       "      <td>0</td>\n",
       "      <td>NaN</td>\n",
       "      <td>230.27</td>\n",
       "      <td>0</td>\n",
       "    </tr>\n",
       "    <tr>\n",
       "      <th>4</th>\n",
       "      <td>30.0</td>\n",
       "      <td>15.0</td>\n",
       "      <td>4</td>\n",
       "      <td>Others</td>\n",
       "      <td>4</td>\n",
       "      <td>Single</td>\n",
       "      <td>8</td>\n",
       "      <td>0</td>\n",
       "      <td>8.0</td>\n",
       "      <td>322.17</td>\n",
       "      <td>0</td>\n",
       "    </tr>\n",
       "  </tbody>\n",
       "</table>\n",
       "</div>"
      ],
      "text/plain": [
       "   Tenure  WarehouseToHome  NumberOfDeviceRegistered    PreferedOrderCat  \\\n",
       "0    15.0             29.0                         4  Laptop & Accessory   \n",
       "1     7.0             25.0                         4              Mobile   \n",
       "2    27.0             13.0                         3  Laptop & Accessory   \n",
       "3    20.0             25.0                         4             Fashion   \n",
       "4    30.0             15.0                         4              Others   \n",
       "\n",
       "   SatisfactionScore MaritalStatus  NumberOfAddress  Complain  \\\n",
       "0                  3        Single                2         0   \n",
       "1                  1       Married                2         0   \n",
       "2                  1       Married                5         0   \n",
       "3                  3      Divorced                7         0   \n",
       "4                  4        Single                8         0   \n",
       "\n",
       "   DaySinceLastOrder  CashbackAmount  Churn  \n",
       "0                7.0          143.32      0  \n",
       "1                7.0          129.29      0  \n",
       "2                7.0          168.54      0  \n",
       "3                NaN          230.27      0  \n",
       "4                8.0          322.17      0  "
      ]
     },
     "execution_count": 2,
     "metadata": {},
     "output_type": "execute_result"
    }
   ],
   "source": [
    "df = pd.read_csv(\"data_ecommerce_customer_churn.csv\")\n",
    "df.head()"
   ]
  },
  {
   "cell_type": "markdown",
   "metadata": {},
   "source": [
    "### Explore Dataset"
   ]
  },
  {
   "cell_type": "markdown",
   "metadata": {},
   "source": [
    "Knowing information of how many and type of the data:"
   ]
  },
  {
   "cell_type": "code",
   "execution_count": 3,
   "metadata": {},
   "outputs": [
    {
     "name": "stdout",
     "output_type": "stream",
     "text": [
      "<class 'pandas.core.frame.DataFrame'>\n",
      "RangeIndex: 3941 entries, 0 to 3940\n",
      "Data columns (total 11 columns):\n",
      " #   Column                    Non-Null Count  Dtype  \n",
      "---  ------                    --------------  -----  \n",
      " 0   Tenure                    3747 non-null   float64\n",
      " 1   WarehouseToHome           3772 non-null   float64\n",
      " 2   NumberOfDeviceRegistered  3941 non-null   int64  \n",
      " 3   PreferedOrderCat          3941 non-null   object \n",
      " 4   SatisfactionScore         3941 non-null   int64  \n",
      " 5   MaritalStatus             3941 non-null   object \n",
      " 6   NumberOfAddress           3941 non-null   int64  \n",
      " 7   Complain                  3941 non-null   int64  \n",
      " 8   DaySinceLastOrder         3728 non-null   float64\n",
      " 9   CashbackAmount            3941 non-null   float64\n",
      " 10  Churn                     3941 non-null   int64  \n",
      "dtypes: float64(4), int64(5), object(2)\n",
      "memory usage: 338.8+ KB\n"
     ]
    }
   ],
   "source": [
    "df.info()\n",
    "\n",
    "# There are missing values and numerical data type (float64, int64) and categorical (object)"
   ]
  },
  {
   "cell_type": "markdown",
   "metadata": {},
   "source": [
    "Summary of Descriptive statistic in nummerical and categorical column:"
   ]
  },
  {
   "cell_type": "code",
   "execution_count": 4,
   "metadata": {},
   "outputs": [
    {
     "data": {
      "text/html": [
       "<div>\n",
       "<style scoped>\n",
       "    .dataframe tbody tr th:only-of-type {\n",
       "        vertical-align: middle;\n",
       "    }\n",
       "\n",
       "    .dataframe tbody tr th {\n",
       "        vertical-align: top;\n",
       "    }\n",
       "\n",
       "    .dataframe thead th {\n",
       "        text-align: right;\n",
       "    }\n",
       "</style>\n",
       "<table border=\"1\" class=\"dataframe\">\n",
       "  <thead>\n",
       "    <tr style=\"text-align: right;\">\n",
       "      <th></th>\n",
       "      <th>Tenure</th>\n",
       "      <th>WarehouseToHome</th>\n",
       "      <th>NumberOfDeviceRegistered</th>\n",
       "      <th>SatisfactionScore</th>\n",
       "      <th>NumberOfAddress</th>\n",
       "      <th>Complain</th>\n",
       "      <th>DaySinceLastOrder</th>\n",
       "      <th>CashbackAmount</th>\n",
       "      <th>Churn</th>\n",
       "    </tr>\n",
       "  </thead>\n",
       "  <tbody>\n",
       "    <tr>\n",
       "      <th>count</th>\n",
       "      <td>3747.000000</td>\n",
       "      <td>3772.000000</td>\n",
       "      <td>3941.000000</td>\n",
       "      <td>3941.000000</td>\n",
       "      <td>3941.000000</td>\n",
       "      <td>3941.000000</td>\n",
       "      <td>3728.000000</td>\n",
       "      <td>3941.000000</td>\n",
       "      <td>3941.000000</td>\n",
       "    </tr>\n",
       "    <tr>\n",
       "      <th>mean</th>\n",
       "      <td>10.081398</td>\n",
       "      <td>15.650583</td>\n",
       "      <td>3.679269</td>\n",
       "      <td>3.088302</td>\n",
       "      <td>4.237757</td>\n",
       "      <td>0.282416</td>\n",
       "      <td>4.531652</td>\n",
       "      <td>176.707419</td>\n",
       "      <td>0.171023</td>\n",
       "    </tr>\n",
       "    <tr>\n",
       "      <th>std</th>\n",
       "      <td>8.498864</td>\n",
       "      <td>8.452301</td>\n",
       "      <td>1.013938</td>\n",
       "      <td>1.381832</td>\n",
       "      <td>2.626699</td>\n",
       "      <td>0.450232</td>\n",
       "      <td>3.667648</td>\n",
       "      <td>48.791784</td>\n",
       "      <td>0.376576</td>\n",
       "    </tr>\n",
       "    <tr>\n",
       "      <th>min</th>\n",
       "      <td>0.000000</td>\n",
       "      <td>5.000000</td>\n",
       "      <td>1.000000</td>\n",
       "      <td>1.000000</td>\n",
       "      <td>1.000000</td>\n",
       "      <td>0.000000</td>\n",
       "      <td>0.000000</td>\n",
       "      <td>0.000000</td>\n",
       "      <td>0.000000</td>\n",
       "    </tr>\n",
       "    <tr>\n",
       "      <th>25%</th>\n",
       "      <td>2.000000</td>\n",
       "      <td>9.000000</td>\n",
       "      <td>3.000000</td>\n",
       "      <td>2.000000</td>\n",
       "      <td>2.000000</td>\n",
       "      <td>0.000000</td>\n",
       "      <td>2.000000</td>\n",
       "      <td>145.700000</td>\n",
       "      <td>0.000000</td>\n",
       "    </tr>\n",
       "    <tr>\n",
       "      <th>50%</th>\n",
       "      <td>9.000000</td>\n",
       "      <td>14.000000</td>\n",
       "      <td>4.000000</td>\n",
       "      <td>3.000000</td>\n",
       "      <td>3.000000</td>\n",
       "      <td>0.000000</td>\n",
       "      <td>3.000000</td>\n",
       "      <td>163.340000</td>\n",
       "      <td>0.000000</td>\n",
       "    </tr>\n",
       "    <tr>\n",
       "      <th>75%</th>\n",
       "      <td>16.000000</td>\n",
       "      <td>21.000000</td>\n",
       "      <td>4.000000</td>\n",
       "      <td>4.000000</td>\n",
       "      <td>6.000000</td>\n",
       "      <td>1.000000</td>\n",
       "      <td>7.000000</td>\n",
       "      <td>195.250000</td>\n",
       "      <td>0.000000</td>\n",
       "    </tr>\n",
       "    <tr>\n",
       "      <th>max</th>\n",
       "      <td>61.000000</td>\n",
       "      <td>127.000000</td>\n",
       "      <td>6.000000</td>\n",
       "      <td>5.000000</td>\n",
       "      <td>22.000000</td>\n",
       "      <td>1.000000</td>\n",
       "      <td>46.000000</td>\n",
       "      <td>324.990000</td>\n",
       "      <td>1.000000</td>\n",
       "    </tr>\n",
       "  </tbody>\n",
       "</table>\n",
       "</div>"
      ],
      "text/plain": [
       "            Tenure  WarehouseToHome  NumberOfDeviceRegistered  \\\n",
       "count  3747.000000      3772.000000               3941.000000   \n",
       "mean     10.081398        15.650583                  3.679269   \n",
       "std       8.498864         8.452301                  1.013938   \n",
       "min       0.000000         5.000000                  1.000000   \n",
       "25%       2.000000         9.000000                  3.000000   \n",
       "50%       9.000000        14.000000                  4.000000   \n",
       "75%      16.000000        21.000000                  4.000000   \n",
       "max      61.000000       127.000000                  6.000000   \n",
       "\n",
       "       SatisfactionScore  NumberOfAddress     Complain  DaySinceLastOrder  \\\n",
       "count        3941.000000      3941.000000  3941.000000        3728.000000   \n",
       "mean            3.088302         4.237757     0.282416           4.531652   \n",
       "std             1.381832         2.626699     0.450232           3.667648   \n",
       "min             1.000000         1.000000     0.000000           0.000000   \n",
       "25%             2.000000         2.000000     0.000000           2.000000   \n",
       "50%             3.000000         3.000000     0.000000           3.000000   \n",
       "75%             4.000000         6.000000     1.000000           7.000000   \n",
       "max             5.000000        22.000000     1.000000          46.000000   \n",
       "\n",
       "       CashbackAmount        Churn  \n",
       "count     3941.000000  3941.000000  \n",
       "mean       176.707419     0.171023  \n",
       "std         48.791784     0.376576  \n",
       "min          0.000000     0.000000  \n",
       "25%        145.700000     0.000000  \n",
       "50%        163.340000     0.000000  \n",
       "75%        195.250000     0.000000  \n",
       "max        324.990000     1.000000  "
      ]
     },
     "metadata": {},
     "output_type": "display_data"
    },
    {
     "data": {
      "text/html": [
       "<div>\n",
       "<style scoped>\n",
       "    .dataframe tbody tr th:only-of-type {\n",
       "        vertical-align: middle;\n",
       "    }\n",
       "\n",
       "    .dataframe tbody tr th {\n",
       "        vertical-align: top;\n",
       "    }\n",
       "\n",
       "    .dataframe thead th {\n",
       "        text-align: right;\n",
       "    }\n",
       "</style>\n",
       "<table border=\"1\" class=\"dataframe\">\n",
       "  <thead>\n",
       "    <tr style=\"text-align: right;\">\n",
       "      <th></th>\n",
       "      <th>PreferedOrderCat</th>\n",
       "      <th>MaritalStatus</th>\n",
       "    </tr>\n",
       "  </thead>\n",
       "  <tbody>\n",
       "    <tr>\n",
       "      <th>count</th>\n",
       "      <td>3941</td>\n",
       "      <td>3941</td>\n",
       "    </tr>\n",
       "    <tr>\n",
       "      <th>unique</th>\n",
       "      <td>6</td>\n",
       "      <td>3</td>\n",
       "    </tr>\n",
       "    <tr>\n",
       "      <th>top</th>\n",
       "      <td>Laptop &amp; Accessory</td>\n",
       "      <td>Married</td>\n",
       "    </tr>\n",
       "    <tr>\n",
       "      <th>freq</th>\n",
       "      <td>1458</td>\n",
       "      <td>2055</td>\n",
       "    </tr>\n",
       "  </tbody>\n",
       "</table>\n",
       "</div>"
      ],
      "text/plain": [
       "          PreferedOrderCat MaritalStatus\n",
       "count                 3941          3941\n",
       "unique                   6             3\n",
       "top     Laptop & Accessory       Married\n",
       "freq                  1458          2055"
      ]
     },
     "metadata": {},
     "output_type": "display_data"
    }
   ],
   "source": [
    "display(df.describe(), df.describe(include='object'))"
   ]
  },
  {
   "cell_type": "markdown",
   "metadata": {},
   "source": [
    "Finding missing value in every column:"
   ]
  },
  {
   "cell_type": "code",
   "execution_count": 5,
   "metadata": {},
   "outputs": [
    {
     "data": {
      "text/plain": [
       "Tenure                      194\n",
       "WarehouseToHome             169\n",
       "NumberOfDeviceRegistered      0\n",
       "PreferedOrderCat              0\n",
       "SatisfactionScore             0\n",
       "MaritalStatus                 0\n",
       "NumberOfAddress               0\n",
       "Complain                      0\n",
       "DaySinceLastOrder           213\n",
       "CashbackAmount                0\n",
       "Churn                         0\n",
       "dtype: int64"
      ]
     },
     "execution_count": 5,
     "metadata": {},
     "output_type": "execute_result"
    }
   ],
   "source": [
    "df.isna().sum()\n",
    "\n",
    "# There are missing values on Tenure, WarehouseToHome, DaySinceLastOrder column"
   ]
  },
  {
   "cell_type": "markdown",
   "metadata": {},
   "source": [
    "dataframe line and column of df :"
   ]
  },
  {
   "cell_type": "code",
   "execution_count": 6,
   "metadata": {},
   "outputs": [
    {
     "data": {
      "text/plain": [
       "(3941, 11)"
      ]
     },
     "execution_count": 6,
     "metadata": {},
     "output_type": "execute_result"
    }
   ],
   "source": [
    "df.shape\n",
    "\n",
    "# there are 3941 of line and 11 of column"
   ]
  },
  {
   "cell_type": "markdown",
   "metadata": {},
   "source": [
    "Percentage of duplicated data:"
   ]
  },
  {
   "cell_type": "code",
   "execution_count": 7,
   "metadata": {},
   "outputs": [
    {
     "data": {
      "text/plain": [
       "17.026135498604415"
      ]
     },
     "execution_count": 7,
     "metadata": {},
     "output_type": "execute_result"
    }
   ],
   "source": [
    "df.duplicated().sum() / len(df) * 100\n",
    "\n",
    "# 17% of data are duplicated"
   ]
  },
  {
   "cell_type": "markdown",
   "metadata": {},
   "source": [
    "Deleting duplicated data and knowing the dataframe shape of df after deleting:"
   ]
  },
  {
   "cell_type": "code",
   "execution_count": 8,
   "metadata": {},
   "outputs": [
    {
     "data": {
      "text/plain": [
       "(3270, 11)"
      ]
     },
     "execution_count": 8,
     "metadata": {},
     "output_type": "execute_result"
    }
   ],
   "source": [
    "# Deleting duplicated data\n",
    "df = df.drop_duplicates()\n",
    "\n",
    "# Dataframe shape after deleting\n",
    "df.shape\n",
    "\n",
    "# 3270 line and 11 column"
   ]
  },
  {
   "cell_type": "markdown",
   "metadata": {},
   "source": [
    "Unique data in every column:"
   ]
  },
  {
   "cell_type": "code",
   "execution_count": 9,
   "metadata": {},
   "outputs": [
    {
     "data": {
      "text/html": [
       "<div>\n",
       "<style scoped>\n",
       "    .dataframe tbody tr th:only-of-type {\n",
       "        vertical-align: middle;\n",
       "    }\n",
       "\n",
       "    .dataframe tbody tr th {\n",
       "        vertical-align: top;\n",
       "    }\n",
       "\n",
       "    .dataframe thead th {\n",
       "        text-align: right;\n",
       "    }\n",
       "</style>\n",
       "<table border=\"1\" class=\"dataframe\">\n",
       "  <thead>\n",
       "    <tr style=\"text-align: right;\">\n",
       "      <th></th>\n",
       "      <th>Column Name</th>\n",
       "      <th>Number of Unique</th>\n",
       "      <th>Unique Sample</th>\n",
       "    </tr>\n",
       "  </thead>\n",
       "  <tbody>\n",
       "    <tr>\n",
       "      <th>0</th>\n",
       "      <td>Tenure</td>\n",
       "      <td>36</td>\n",
       "      <td>[15.0, 7.0, 27.0, 20.0, 30.0, 1.0, 11.0, 17.0,...</td>\n",
       "    </tr>\n",
       "    <tr>\n",
       "      <th>1</th>\n",
       "      <td>WarehouseToHome</td>\n",
       "      <td>33</td>\n",
       "      <td>[29.0, 25.0, 13.0, 15.0, 16.0, 11.0, 12.0, 7.0...</td>\n",
       "    </tr>\n",
       "    <tr>\n",
       "      <th>2</th>\n",
       "      <td>NumberOfDeviceRegistered</td>\n",
       "      <td>6</td>\n",
       "      <td>[4, 3, 6, 2, 5, 1]</td>\n",
       "    </tr>\n",
       "    <tr>\n",
       "      <th>3</th>\n",
       "      <td>PreferedOrderCat</td>\n",
       "      <td>6</td>\n",
       "      <td>[Laptop &amp; Accessory, Mobile, Fashion, Others, ...</td>\n",
       "    </tr>\n",
       "    <tr>\n",
       "      <th>4</th>\n",
       "      <td>SatisfactionScore</td>\n",
       "      <td>5</td>\n",
       "      <td>[3, 1, 4, 2, 5]</td>\n",
       "    </tr>\n",
       "    <tr>\n",
       "      <th>5</th>\n",
       "      <td>MaritalStatus</td>\n",
       "      <td>3</td>\n",
       "      <td>[Single, Married, Divorced]</td>\n",
       "    </tr>\n",
       "    <tr>\n",
       "      <th>6</th>\n",
       "      <td>NumberOfAddress</td>\n",
       "      <td>14</td>\n",
       "      <td>[2, 5, 7, 8, 3, 1, 9, 4, 10, 11, 6, 19, 22, 21]</td>\n",
       "    </tr>\n",
       "    <tr>\n",
       "      <th>7</th>\n",
       "      <td>Complain</td>\n",
       "      <td>2</td>\n",
       "      <td>[0, 1]</td>\n",
       "    </tr>\n",
       "    <tr>\n",
       "      <th>8</th>\n",
       "      <td>DaySinceLastOrder</td>\n",
       "      <td>22</td>\n",
       "      <td>[7.0, nan, 8.0, 11.0, 2.0, 1.0, 4.0, 3.0, 6.0,...</td>\n",
       "    </tr>\n",
       "    <tr>\n",
       "      <th>9</th>\n",
       "      <td>CashbackAmount</td>\n",
       "      <td>2335</td>\n",
       "      <td>[143.32, 129.29, 168.54, 230.27, 322.17, 152.8...</td>\n",
       "    </tr>\n",
       "    <tr>\n",
       "      <th>10</th>\n",
       "      <td>Churn</td>\n",
       "      <td>2</td>\n",
       "      <td>[0, 1]</td>\n",
       "    </tr>\n",
       "  </tbody>\n",
       "</table>\n",
       "</div>"
      ],
      "text/plain": [
       "                 Column Name  Number of Unique  \\\n",
       "0                     Tenure                36   \n",
       "1            WarehouseToHome                33   \n",
       "2   NumberOfDeviceRegistered                 6   \n",
       "3           PreferedOrderCat                 6   \n",
       "4          SatisfactionScore                 5   \n",
       "5              MaritalStatus                 3   \n",
       "6            NumberOfAddress                14   \n",
       "7                   Complain                 2   \n",
       "8          DaySinceLastOrder                22   \n",
       "9             CashbackAmount              2335   \n",
       "10                     Churn                 2   \n",
       "\n",
       "                                        Unique Sample  \n",
       "0   [15.0, 7.0, 27.0, 20.0, 30.0, 1.0, 11.0, 17.0,...  \n",
       "1   [29.0, 25.0, 13.0, 15.0, 16.0, 11.0, 12.0, 7.0...  \n",
       "2                                  [4, 3, 6, 2, 5, 1]  \n",
       "3   [Laptop & Accessory, Mobile, Fashion, Others, ...  \n",
       "4                                     [3, 1, 4, 2, 5]  \n",
       "5                         [Single, Married, Divorced]  \n",
       "6     [2, 5, 7, 8, 3, 1, 9, 4, 10, 11, 6, 19, 22, 21]  \n",
       "7                                              [0, 1]  \n",
       "8   [7.0, nan, 8.0, 11.0, 2.0, 1.0, 4.0, 3.0, 6.0,...  \n",
       "9   [143.32, 129.29, 168.54, 230.27, 322.17, 152.8...  \n",
       "10                                             [0, 1]  "
      ]
     },
     "execution_count": 9,
     "metadata": {},
     "output_type": "execute_result"
    }
   ],
   "source": [
    "listItem = []\n",
    "for col in df.columns :\n",
    "    listItem.append( [col, df[col].nunique(), df[col].unique()])\n",
    "\n",
    "tabel1Desc = pd.DataFrame(columns=['Column Name', 'Number of Unique', 'Unique Sample'],\n",
    "                     data=listItem)\n",
    "tabel1Desc"
   ]
  },
  {
   "cell_type": "markdown",
   "metadata": {},
   "source": [
    "knowing how many categorical column:"
   ]
  },
  {
   "cell_type": "code",
   "execution_count": 10,
   "metadata": {},
   "outputs": [
    {
     "data": {
      "text/plain": [
       "['PreferedOrderCat', 'MaritalStatus']"
      ]
     },
     "execution_count": 10,
     "metadata": {},
     "output_type": "execute_result"
    }
   ],
   "source": [
    "cat_features = [feature for feature in df.columns if (df[feature].dtypes == 'O')]\n",
    "cat_features\n",
    "\n",
    "# 2 categorical column "
   ]
  },
  {
   "cell_type": "markdown",
   "metadata": {},
   "source": [
    "Knowing how many numerical column:"
   ]
  },
  {
   "cell_type": "code",
   "execution_count": 11,
   "metadata": {},
   "outputs": [
    {
     "data": {
      "text/plain": [
       "['Tenure',\n",
       " 'WarehouseToHome',\n",
       " 'NumberOfDeviceRegistered',\n",
       " 'SatisfactionScore',\n",
       " 'NumberOfAddress',\n",
       " 'Complain',\n",
       " 'DaySinceLastOrder',\n",
       " 'CashbackAmount']"
      ]
     },
     "execution_count": 11,
     "metadata": {},
     "output_type": "execute_result"
    }
   ],
   "source": [
    "num_features = [feature for feature in df.columns if ((df[feature].dtypes != 'O') & (feature not in ['Churn']))]\n",
    "num_features\n",
    "\n",
    "# 8 Numerical column"
   ]
  },
  {
   "cell_type": "markdown",
   "metadata": {},
   "source": [
    "Knowing how many category and unique value of categorical column:"
   ]
  },
  {
   "cell_type": "code",
   "execution_count": 12,
   "metadata": {},
   "outputs": [
    {
     "name": "stdout",
     "output_type": "stream",
     "text": [
      "Total unique values in PreferedOrderCat:  6\n",
      "Unique values:  ['Laptop & Accessory' 'Mobile' 'Fashion' 'Others' 'Mobile Phone' 'Grocery']\n",
      "\n",
      "Total unique values in MaritalStatus:  3\n",
      "Unique values:  ['Single' 'Married' 'Divorced']\n",
      "\n"
     ]
    }
   ],
   "source": [
    "for i in cat_features:\n",
    "    print(f'Total unique values in {i}: ', df[i].nunique())\n",
    "    print(f'Unique values: ', df[i].unique())\n",
    "    print()"
   ]
  },
  {
   "cell_type": "markdown",
   "metadata": {},
   "source": [
    "Changing Mobile category into Mobile Phone in PreferedOrderCat column :"
   ]
  },
  {
   "cell_type": "code",
   "execution_count": 13,
   "metadata": {},
   "outputs": [],
   "source": [
    "df['PreferedOrderCat'] = df['PreferedOrderCat'].replace({'Mobile':'Mobile Phone'})"
   ]
  },
  {
   "cell_type": "markdown",
   "metadata": {},
   "source": [
    "Mobile category no longer exist, PreferedOrderCat is know became 5 category instead of 6 category"
   ]
  },
  {
   "cell_type": "code",
   "execution_count": 14,
   "metadata": {},
   "outputs": [
    {
     "data": {
      "text/plain": [
       "Laptop & Accessory    1213\n",
       "Mobile Phone          1183\n",
       "Fashion                484\n",
       "Grocery                241\n",
       "Others                 149\n",
       "Name: PreferedOrderCat, dtype: int64"
      ]
     },
     "execution_count": 14,
     "metadata": {},
     "output_type": "execute_result"
    }
   ],
   "source": [
    "df['PreferedOrderCat'].value_counts()"
   ]
  },
  {
   "cell_type": "markdown",
   "metadata": {},
   "source": [
    "Finding outliers in numerical column using boxplot:"
   ]
  },
  {
   "cell_type": "code",
   "execution_count": 15,
   "metadata": {},
   "outputs": [
    {
     "data": {
      "image/png": "[encoded data removed]",
      "text/plain": [
       "<Figure size 1600x1000 with 8 Axes>"
      ]
     },
     "metadata": {},
     "output_type": "display_data"
    }
   ],
   "source": [
    "col_names = num_features\n",
    "plotnumber = 1\n",
    "plt.figure(figsize=(16,10))\n",
    "\n",
    "for kolom in col_names:\n",
    "    plt.subplot(3,3, plotnumber)\n",
    "    sns.boxplot(data=df, x=kolom, color='blue')\n",
    "    plt.title(kolom)\n",
    "    plt.tight_layout()\n",
    "\n",
    "    plotnumber += 1"
   ]
  },
  {
   "cell_type": "markdown",
   "metadata": {},
   "source": [
    "According to the boxplot, we can know that there is outliers data exist. However, because the data is still consider to be normal or not error data, the data is not to be deleted and still can be used. those outliers can help the model to learn from various data."
   ]
  },
  {
   "cell_type": "markdown",
   "metadata": {},
   "source": [
    "Finding Relation between categorical features:"
   ]
  },
  {
   "cell_type": "code",
   "execution_count": 16,
   "metadata": {},
   "outputs": [
    {
     "data": {
      "text/html": [
       "<div>\n",
       "<style scoped>\n",
       "    .dataframe tbody tr th:only-of-type {\n",
       "        vertical-align: middle;\n",
       "    }\n",
       "\n",
       "    .dataframe tbody tr th {\n",
       "        vertical-align: top;\n",
       "    }\n",
       "\n",
       "    .dataframe thead th {\n",
       "        text-align: right;\n",
       "    }\n",
       "</style>\n",
       "<table border=\"1\" class=\"dataframe\">\n",
       "  <thead>\n",
       "    <tr style=\"text-align: right;\">\n",
       "      <th></th>\n",
       "      <th>Tenure</th>\n",
       "      <th>WarehouseToHome</th>\n",
       "      <th>NumberOfDeviceRegistered</th>\n",
       "      <th>SatisfactionScore</th>\n",
       "      <th>NumberOfAddress</th>\n",
       "      <th>Complain</th>\n",
       "      <th>DaySinceLastOrder</th>\n",
       "      <th>CashbackAmount</th>\n",
       "      <th>Churn</th>\n",
       "    </tr>\n",
       "  </thead>\n",
       "  <tbody>\n",
       "    <tr>\n",
       "      <th>Tenure</th>\n",
       "      <td>1.000000</td>\n",
       "      <td>-0.028010</td>\n",
       "      <td>-0.041742</td>\n",
       "      <td>-0.029982</td>\n",
       "      <td>0.227957</td>\n",
       "      <td>-0.020666</td>\n",
       "      <td>0.170329</td>\n",
       "      <td>0.464551</td>\n",
       "      <td>-0.348654</td>\n",
       "    </tr>\n",
       "    <tr>\n",
       "      <th>WarehouseToHome</th>\n",
       "      <td>-0.028010</td>\n",
       "      <td>1.000000</td>\n",
       "      <td>0.015884</td>\n",
       "      <td>0.007628</td>\n",
       "      <td>-0.010757</td>\n",
       "      <td>0.046227</td>\n",
       "      <td>0.018332</td>\n",
       "      <td>-0.006126</td>\n",
       "      <td>0.074237</td>\n",
       "    </tr>\n",
       "    <tr>\n",
       "      <th>NumberOfDeviceRegistered</th>\n",
       "      <td>-0.041742</td>\n",
       "      <td>0.015884</td>\n",
       "      <td>1.000000</td>\n",
       "      <td>-0.010991</td>\n",
       "      <td>0.076437</td>\n",
       "      <td>0.005338</td>\n",
       "      <td>0.010831</td>\n",
       "      <td>0.120136</td>\n",
       "      <td>0.109612</td>\n",
       "    </tr>\n",
       "    <tr>\n",
       "      <th>SatisfactionScore</th>\n",
       "      <td>-0.029982</td>\n",
       "      <td>0.007628</td>\n",
       "      <td>-0.010991</td>\n",
       "      <td>1.000000</td>\n",
       "      <td>0.042449</td>\n",
       "      <td>-0.035167</td>\n",
       "      <td>0.039855</td>\n",
       "      <td>0.006499</td>\n",
       "      <td>0.098393</td>\n",
       "    </tr>\n",
       "    <tr>\n",
       "      <th>NumberOfAddress</th>\n",
       "      <td>0.227957</td>\n",
       "      <td>-0.010757</td>\n",
       "      <td>0.076437</td>\n",
       "      <td>0.042449</td>\n",
       "      <td>1.000000</td>\n",
       "      <td>-0.011490</td>\n",
       "      <td>-0.062229</td>\n",
       "      <td>0.186623</td>\n",
       "      <td>0.046354</td>\n",
       "    </tr>\n",
       "    <tr>\n",
       "      <th>Complain</th>\n",
       "      <td>-0.020666</td>\n",
       "      <td>0.046227</td>\n",
       "      <td>0.005338</td>\n",
       "      <td>-0.035167</td>\n",
       "      <td>-0.011490</td>\n",
       "      <td>1.000000</td>\n",
       "      <td>-0.052269</td>\n",
       "      <td>-0.002040</td>\n",
       "      <td>0.262278</td>\n",
       "    </tr>\n",
       "    <tr>\n",
       "      <th>DaySinceLastOrder</th>\n",
       "      <td>0.170329</td>\n",
       "      <td>0.018332</td>\n",
       "      <td>0.010831</td>\n",
       "      <td>0.039855</td>\n",
       "      <td>-0.062229</td>\n",
       "      <td>-0.052269</td>\n",
       "      <td>1.000000</td>\n",
       "      <td>0.340341</td>\n",
       "      <td>-0.147918</td>\n",
       "    </tr>\n",
       "    <tr>\n",
       "      <th>CashbackAmount</th>\n",
       "      <td>0.464551</td>\n",
       "      <td>-0.006126</td>\n",
       "      <td>0.120136</td>\n",
       "      <td>0.006499</td>\n",
       "      <td>0.186623</td>\n",
       "      <td>-0.002040</td>\n",
       "      <td>0.340341</td>\n",
       "      <td>1.000000</td>\n",
       "      <td>-0.151475</td>\n",
       "    </tr>\n",
       "  </tbody>\n",
       "</table>\n",
       "</div>"
      ],
      "text/plain": [
       "                            Tenure  WarehouseToHome  NumberOfDeviceRegistered  \\\n",
       "Tenure                    1.000000        -0.028010                 -0.041742   \n",
       "WarehouseToHome          -0.028010         1.000000                  0.015884   \n",
       "NumberOfDeviceRegistered -0.041742         0.015884                  1.000000   \n",
       "SatisfactionScore        -0.029982         0.007628                 -0.010991   \n",
       "NumberOfAddress           0.227957        -0.010757                  0.076437   \n",
       "Complain                 -0.020666         0.046227                  0.005338   \n",
       "DaySinceLastOrder         0.170329         0.018332                  0.010831   \n",
       "CashbackAmount            0.464551        -0.006126                  0.120136   \n",
       "\n",
       "                          SatisfactionScore  NumberOfAddress  Complain  \\\n",
       "Tenure                            -0.029982         0.227957 -0.020666   \n",
       "WarehouseToHome                    0.007628        -0.010757  0.046227   \n",
       "NumberOfDeviceRegistered          -0.010991         0.076437  0.005338   \n",
       "SatisfactionScore                  1.000000         0.042449 -0.035167   \n",
       "NumberOfAddress                    0.042449         1.000000 -0.011490   \n",
       "Complain                          -0.035167        -0.011490  1.000000   \n",
       "DaySinceLastOrder                  0.039855        -0.062229 -0.052269   \n",
       "CashbackAmount                     0.006499         0.186623 -0.002040   \n",
       "\n",
       "                          DaySinceLastOrder  CashbackAmount     Churn  \n",
       "Tenure                             0.170329        0.464551 -0.348654  \n",
       "WarehouseToHome                    0.018332       -0.006126  0.074237  \n",
       "NumberOfDeviceRegistered           0.010831        0.120136  0.109612  \n",
       "SatisfactionScore                  0.039855        0.006499  0.098393  \n",
       "NumberOfAddress                   -0.062229        0.186623  0.046354  \n",
       "Complain                          -0.052269       -0.002040  0.262278  \n",
       "DaySinceLastOrder                  1.000000        0.340341 -0.147918  \n",
       "CashbackAmount                     0.340341        1.000000 -0.151475  "
      ]
     },
     "execution_count": 16,
     "metadata": {},
     "output_type": "execute_result"
    }
   ],
   "source": [
    "df.corr()[0:8]\n",
    "\n",
    "# there are no strong relation between features \n",
    "# all features has correlation < 0.5"
   ]
  },
  {
   "cell_type": "markdown",
   "metadata": {},
   "source": [
    "Observing the data distribution to see the data is normally distributed or not:"
   ]
  },
  {
   "cell_type": "code",
   "execution_count": 17,
   "metadata": {},
   "outputs": [
    {
     "data": {
      "text/plain": [
       "Text(0.5, 0.98, 'Frequency Distribution of Tenure, Warehouse to Home, Day Since Last Order')"
      ]
     },
     "execution_count": 17,
     "metadata": {},
     "output_type": "execute_result"
    },
    {
     "data": {
      "image/png": "[encoded data removed]",
      "text/plain": [
       "<Figure size 2000x500 with 3 Axes>"
      ]
     },
     "metadata": {},
     "output_type": "display_data"
    }
   ],
   "source": [
    "plt.figure(figsize=(20,5))\n",
    "\n",
    "plt.subplot(1,3,1)\n",
    "sns.histplot(data=df, x='Tenure', color='blue')\n",
    "\n",
    "plt.subplot(1,3,2)\n",
    "sns.histplot(data=df, x='WarehouseToHome', color='blue')\n",
    "\n",
    "plt.subplot(1,3,3)\n",
    "sns.histplot(data=df, x='DaySinceLastOrder', color='blue')\n",
    "\n",
    "plt.suptitle('Frequency Distribution of Tenure, Warehouse to Home, Day Since Last Order', size= 15)\n",
    "\n",
    "# Tenure, WarehouseToHome, DaySinceLastOrder are not normally distributed"
   ]
  },
  {
   "cell_type": "markdown",
   "metadata": {},
   "source": [
    "Knowing Target (churn) proportion:"
   ]
  },
  {
   "cell_type": "code",
   "execution_count": 18,
   "metadata": {},
   "outputs": [
    {
     "name": "stdout",
     "output_type": "stream",
     "text": [
      "0    2736\n",
      "1     534\n",
      "Name: Churn, dtype: int64\n",
      "\n",
      "0    83.669725\n",
      "1    16.330275\n",
      "Name: Churn, dtype: float64\n"
     ]
    }
   ],
   "source": [
    "print(df['Churn'].value_counts())\n",
    "print()\n",
    "\n",
    "# persentage\n",
    "print(df['Churn'].value_counts()/len(df['Churn'])*100)"
   ]
  },
  {
   "cell_type": "markdown",
   "metadata": {},
   "source": [
    "According : https://developers.google.com/machine-learning/data-prep/construct/sampling-splitting/imbalanced-data \n",
    "we can know that the target in this dataset has proportion of minority class of 16.3% **Moderate Imbalance**\n"
   ]
  },
  {
   "cell_type": "markdown",
   "metadata": {},
   "source": [
    "---\n",
    "## **Data Splitting**"
   ]
  },
  {
   "cell_type": "markdown",
   "metadata": {},
   "source": [
    "Data splitting is important in machine learning to improve model perfromance and avoid overfitting, by splitting dataset into 2 or more part for certain purposes, like model training, model validation and model testing. \n",
    "\n",
    "Data Splitting is to evaluate model performance by using unused data in model training, choosing the best parameter and evaluate trained data.\n",
    "\n",
    "Dataset is splitted into 3 part, there are training dataset, validation dataset, and testing dataset. Training dataset used for train model, validation dataset are used for choosing best paramater for the model, testing dataset are used for testing model performance. This will avoid overfitting, where the model are to complex and unable to generalize well on the data never seen before."
   ]
  },
  {
   "cell_type": "markdown",
   "metadata": {},
   "source": [
    "Define X (features) and y (target) :"
   ]
  },
  {
   "cell_type": "code",
   "execution_count": 19,
   "metadata": {},
   "outputs": [],
   "source": [
    "# features\n",
    "X = df.drop(columns=['Churn'])\n",
    "\n",
    "# target\n",
    "y = df['Churn']"
   ]
  },
  {
   "cell_type": "markdown",
   "metadata": {},
   "source": [
    "Data Splitting :"
   ]
  },
  {
   "cell_type": "code",
   "execution_count": 20,
   "metadata": {},
   "outputs": [],
   "source": [
    "X_train, X_test, y_train, y_test = train_test_split(X, y, test_size=0.2, random_state=0, stratify=y)\n",
    "\n",
    "# data train = 80%\n",
    "# data test = 20%"
   ]
  },
  {
   "cell_type": "markdown",
   "metadata": {},
   "source": [
    "---\n",
    "## **Preprocessing**"
   ]
  },
  {
   "cell_type": "markdown",
   "metadata": {},
   "source": [
    "the steps in doing Preprocessing is by doing **impute missing values** , **scaling** (transformed numerical data to have same scale)m, **encoding** (changing categorical data into numerical data), and **polynomial features**\n",
    "\n",
    "**Impute Missing Values**\n",
    "\n",
    "Using Simple Imputer with Median: *'Tenure', 'WarehouseToHome', 'DaySinceLastOrder'*\n",
    "\n",
    "On the data explore phase above, we can know that feature 'Tenure', 'WarehouseToHome' and 'DaySinceLastOrder', there are missing values and not normally distributed, so imputation is done using Median. those column is numerical features without relation with other features, shown by correlation of <0.5, so impattion is done with simple imputer, and not using other feature to predict missing values. \n",
    "\n",
    "**Scaling**\n",
    "\n",
    "Using Robust Scaler: *'Tenure', 'WarehouseToHome', 'NumberOfDeviceRegistered', 'SatisfactionScore', 'NumberOfAddress', 'DaySinceLastOrder', 'CashbackAmount'*\n",
    "\n",
    "Those Numerical features has outliers, so Robust Scaler can be used to handle outliers.'Complain' feature has 0 and 1, so no need to be scaled anymore.\n",
    "**Encoding**\n",
    "\n",
    "Using One Hot Encoder: *'PreferedOrderCat', 'MaritalStatus'*\n",
    "\n",
    "On data explore data, we can know that data inside 'PreferedOrderCat' and 'MaritalStatus' feature are categorical, encoding need to be done to change it into numericals. Encoding is done by One Hot Encoder becaus that categorical features doesn't have unordinal levelling  with a little unique data. 'PreferedOrderCat' has 5 unique data, and'MaritalStatus' has 3 unique data.\n",
    "\n",
    "**Polynomial**\n",
    "\n",
    "Doing polynomial by changing features into higher polynomial, so the model performance will improved."
   ]
  },
  {
   "cell_type": "code",
   "execution_count": 21,
   "metadata": {},
   "outputs": [],
   "source": [
    "pipe_impute_robust = Pipeline([\n",
    "    ('median', SimpleImputer(strategy='median')),\n",
    "    ('poly', PolynomialFeatures(degree=2)),\n",
    "    ('scaler', RobustScaler())\n",
    "])"
   ]
  },
  {
   "cell_type": "code",
   "execution_count": 22,
   "metadata": {},
   "outputs": [
    {
     "data": {
      "text/html": [
       "<style>#sk-container-id-1 {color: black;background-color: white;}#sk-container-id-1 pre{padding: 0;}#sk-container-id-1 div.sk-toggleable {background-color: white;}#sk-container-id-1 label.sk-toggleable__label {cursor: pointer;display: block;width: 100%;margin-bottom: 0;padding: 0.3em;box-sizing: border-box;text-align: center;}#sk-container-id-1 label.sk-toggleable__label-arrow:before {content: \"▸\";float: left;margin-right: 0.25em;color: #696969;}#sk-container-id-1 label.sk-toggleable__label-arrow:hover:before {color: black;}#sk-container-id-1 div.sk-estimator:hover label.sk-toggleable__label-arrow:before {color: black;}#sk-container-id-1 div.sk-toggleable__content {max-height: 0;max-width: 0;overflow: hidden;text-align: left;background-color: #f0f8ff;}#sk-container-id-1 div.sk-toggleable__content pre {margin: 0.2em;color: black;border-radius: 0.25em;background-color: #f0f8ff;}#sk-container-id-1 input.sk-toggleable__control:checked~div.sk-toggleable__content {max-height: 200px;max-width: 100%;overflow: auto;}#sk-container-id-1 input.sk-toggleable__control:checked~label.sk-toggleable__label-arrow:before {content: \"▾\";}#sk-container-id-1 div.sk-estimator input.sk-toggleable__control:checked~label.sk-toggleable__label {background-color: #d4ebff;}#sk-container-id-1 div.sk-label input.sk-toggleable__control:checked~label.sk-toggleable__label {background-color: #d4ebff;}#sk-container-id-1 input.sk-hidden--visually {border: 0;clip: rect(1px 1px 1px 1px);clip: rect(1px, 1px, 1px, 1px);height: 1px;margin: -1px;overflow: hidden;padding: 0;position: absolute;width: 1px;}#sk-container-id-1 div.sk-estimator {font-family: monospace;background-color: #f0f8ff;border: 1px dotted black;border-radius: 0.25em;box-sizing: border-box;margin-bottom: 0.5em;}#sk-container-id-1 div.sk-estimator:hover {background-color: #d4ebff;}#sk-container-id-1 div.sk-parallel-item::after {content: \"\";width: 100%;border-bottom: 1px solid gray;flex-grow: 1;}#sk-container-id-1 div.sk-label:hover label.sk-toggleable__label {background-color: #d4ebff;}#sk-container-id-1 div.sk-serial::before {content: \"\";position: absolute;border-left: 1px solid gray;box-sizing: border-box;top: 0;bottom: 0;left: 50%;z-index: 0;}#sk-container-id-1 div.sk-serial {display: flex;flex-direction: column;align-items: center;background-color: white;padding-right: 0.2em;padding-left: 0.2em;position: relative;}#sk-container-id-1 div.sk-item {position: relative;z-index: 1;}#sk-container-id-1 div.sk-parallel {display: flex;align-items: stretch;justify-content: center;background-color: white;position: relative;}#sk-container-id-1 div.sk-item::before, #sk-container-id-1 div.sk-parallel-item::before {content: \"\";position: absolute;border-left: 1px solid gray;box-sizing: border-box;top: 0;bottom: 0;left: 50%;z-index: -1;}#sk-container-id-1 div.sk-parallel-item {display: flex;flex-direction: column;z-index: 1;position: relative;background-color: white;}#sk-container-id-1 div.sk-parallel-item:first-child::after {align-self: flex-end;width: 50%;}#sk-container-id-1 div.sk-parallel-item:last-child::after {align-self: flex-start;width: 50%;}#sk-container-id-1 div.sk-parallel-item:only-child::after {width: 0;}#sk-container-id-1 div.sk-dashed-wrapped {border: 1px dashed gray;margin: 0 0.4em 0.5em 0.4em;box-sizing: border-box;padding-bottom: 0.4em;background-color: white;}#sk-container-id-1 div.sk-label label {font-family: monospace;font-weight: bold;display: inline-block;line-height: 1.2em;}#sk-container-id-1 div.sk-label-container {text-align: center;}#sk-container-id-1 div.sk-container {/* jupyter's `normalize.less` sets `[hidden] { display: none; }` but bootstrap.min.css set `[hidden] { display: none !important; }` so we also need the `!important` here to be able to override the default hidden behavior on the sphinx rendered scikit-learn.org. See: https://github.com/scikit-learn/scikit-learn/issues/21755 */display: inline-block !important;position: relative;}#sk-container-id-1 div.sk-text-repr-fallback {display: none;}</style><div id=\"sk-container-id-1\" class=\"sk-top-container\"><div class=\"sk-text-repr-fallback\"><pre>ColumnTransformer(remainder=&#x27;passthrough&#x27;,\n",
       "                  transformers=[(&#x27;pipe_impute_robust&#x27;,\n",
       "                                 Pipeline(steps=[(&#x27;median&#x27;,\n",
       "                                                  SimpleImputer(strategy=&#x27;median&#x27;)),\n",
       "                                                 (&#x27;poly&#x27;, PolynomialFeatures()),\n",
       "                                                 (&#x27;scaler&#x27;, RobustScaler())]),\n",
       "                                 [&#x27;Tenure&#x27;, &#x27;WarehouseToHome&#x27;,\n",
       "                                  &#x27;NumberOfDeviceRegistered&#x27;,\n",
       "                                  &#x27;SatisfactionScore&#x27;, &#x27;NumberOfAddress&#x27;,\n",
       "                                  &#x27;DaySinceLastOrder&#x27;, &#x27;CashbackAmount&#x27;]),\n",
       "                                (&#x27;onehot&#x27;, OneHotEncoder(drop=&#x27;first&#x27;),\n",
       "                                 [&#x27;PreferedOrderCat&#x27;, &#x27;MaritalStatus&#x27;])])</pre><b>In a Jupyter environment, please rerun this cell to show the HTML representation or trust the notebook. <br />On GitHub, the HTML representation is unable to render, please try loading this page with nbviewer.org.</b></div><div class=\"sk-container\" hidden><div class=\"sk-item sk-dashed-wrapped\"><div class=\"sk-label-container\"><div class=\"sk-label sk-toggleable\"><input class=\"sk-toggleable__control sk-hidden--visually\" id=\"sk-estimator-id-1\" type=\"checkbox\" ><label for=\"sk-estimator-id-1\" class=\"sk-toggleable__label sk-toggleable__label-arrow\">ColumnTransformer</label><div class=\"sk-toggleable__content\"><pre>ColumnTransformer(remainder=&#x27;passthrough&#x27;,\n",
       "                  transformers=[(&#x27;pipe_impute_robust&#x27;,\n",
       "                                 Pipeline(steps=[(&#x27;median&#x27;,\n",
       "                                                  SimpleImputer(strategy=&#x27;median&#x27;)),\n",
       "                                                 (&#x27;poly&#x27;, PolynomialFeatures()),\n",
       "                                                 (&#x27;scaler&#x27;, RobustScaler())]),\n",
       "                                 [&#x27;Tenure&#x27;, &#x27;WarehouseToHome&#x27;,\n",
       "                                  &#x27;NumberOfDeviceRegistered&#x27;,\n",
       "                                  &#x27;SatisfactionScore&#x27;, &#x27;NumberOfAddress&#x27;,\n",
       "                                  &#x27;DaySinceLastOrder&#x27;, &#x27;CashbackAmount&#x27;]),\n",
       "                                (&#x27;onehot&#x27;, OneHotEncoder(drop=&#x27;first&#x27;),\n",
       "                                 [&#x27;PreferedOrderCat&#x27;, &#x27;MaritalStatus&#x27;])])</pre></div></div></div><div class=\"sk-parallel\"><div class=\"sk-parallel-item\"><div class=\"sk-item\"><div class=\"sk-label-container\"><div class=\"sk-label sk-toggleable\"><input class=\"sk-toggleable__control sk-hidden--visually\" id=\"sk-estimator-id-2\" type=\"checkbox\" ><label for=\"sk-estimator-id-2\" class=\"sk-toggleable__label sk-toggleable__label-arrow\">pipe_impute_robust</label><div class=\"sk-toggleable__content\"><pre>[&#x27;Tenure&#x27;, &#x27;WarehouseToHome&#x27;, &#x27;NumberOfDeviceRegistered&#x27;, &#x27;SatisfactionScore&#x27;, &#x27;NumberOfAddress&#x27;, &#x27;DaySinceLastOrder&#x27;, &#x27;CashbackAmount&#x27;]</pre></div></div></div><div class=\"sk-serial\"><div class=\"sk-item\"><div class=\"sk-serial\"><div class=\"sk-item\"><div class=\"sk-estimator sk-toggleable\"><input class=\"sk-toggleable__control sk-hidden--visually\" id=\"sk-estimator-id-3\" type=\"checkbox\" ><label for=\"sk-estimator-id-3\" class=\"sk-toggleable__label sk-toggleable__label-arrow\">SimpleImputer</label><div class=\"sk-toggleable__content\"><pre>SimpleImputer(strategy=&#x27;median&#x27;)</pre></div></div></div><div class=\"sk-item\"><div class=\"sk-estimator sk-toggleable\"><input class=\"sk-toggleable__control sk-hidden--visually\" id=\"sk-estimator-id-4\" type=\"checkbox\" ><label for=\"sk-estimator-id-4\" class=\"sk-toggleable__label sk-toggleable__label-arrow\">PolynomialFeatures</label><div class=\"sk-toggleable__content\"><pre>PolynomialFeatures()</pre></div></div></div><div class=\"sk-item\"><div class=\"sk-estimator sk-toggleable\"><input class=\"sk-toggleable__control sk-hidden--visually\" id=\"sk-estimator-id-5\" type=\"checkbox\" ><label for=\"sk-estimator-id-5\" class=\"sk-toggleable__label sk-toggleable__label-arrow\">RobustScaler</label><div class=\"sk-toggleable__content\"><pre>RobustScaler()</pre></div></div></div></div></div></div></div></div><div class=\"sk-parallel-item\"><div class=\"sk-item\"><div class=\"sk-label-container\"><div class=\"sk-label sk-toggleable\"><input class=\"sk-toggleable__control sk-hidden--visually\" id=\"sk-estimator-id-6\" type=\"checkbox\" ><label for=\"sk-estimator-id-6\" class=\"sk-toggleable__label sk-toggleable__label-arrow\">onehot</label><div class=\"sk-toggleable__content\"><pre>[&#x27;PreferedOrderCat&#x27;, &#x27;MaritalStatus&#x27;]</pre></div></div></div><div class=\"sk-serial\"><div class=\"sk-item\"><div class=\"sk-estimator sk-toggleable\"><input class=\"sk-toggleable__control sk-hidden--visually\" id=\"sk-estimator-id-7\" type=\"checkbox\" ><label for=\"sk-estimator-id-7\" class=\"sk-toggleable__label sk-toggleable__label-arrow\">OneHotEncoder</label><div class=\"sk-toggleable__content\"><pre>OneHotEncoder(drop=&#x27;first&#x27;)</pre></div></div></div></div></div></div><div class=\"sk-parallel-item\"><div class=\"sk-item\"><div class=\"sk-label-container\"><div class=\"sk-label sk-toggleable\"><input class=\"sk-toggleable__control sk-hidden--visually\" id=\"sk-estimator-id-8\" type=\"checkbox\" ><label for=\"sk-estimator-id-8\" class=\"sk-toggleable__label sk-toggleable__label-arrow\">remainder</label><div class=\"sk-toggleable__content\"><pre></pre></div></div></div><div class=\"sk-serial\"><div class=\"sk-item\"><div class=\"sk-estimator sk-toggleable\"><input class=\"sk-toggleable__control sk-hidden--visually\" id=\"sk-estimator-id-9\" type=\"checkbox\" ><label for=\"sk-estimator-id-9\" class=\"sk-toggleable__label sk-toggleable__label-arrow\">passthrough</label><div class=\"sk-toggleable__content\"><pre>passthrough</pre></div></div></div></div></div></div></div></div></div></div>"
      ],
      "text/plain": [
       "ColumnTransformer(remainder='passthrough',\n",
       "                  transformers=[('pipe_impute_robust',\n",
       "                                 Pipeline(steps=[('median',\n",
       "                                                  SimpleImputer(strategy='median')),\n",
       "                                                 ('poly', PolynomialFeatures()),\n",
       "                                                 ('scaler', RobustScaler())]),\n",
       "                                 ['Tenure', 'WarehouseToHome',\n",
       "                                  'NumberOfDeviceRegistered',\n",
       "                                  'SatisfactionScore', 'NumberOfAddress',\n",
       "                                  'DaySinceLastOrder', 'CashbackAmount']),\n",
       "                                ('onehot', OneHotEncoder(drop='first'),\n",
       "                                 ['PreferedOrderCat', 'MaritalStatus'])])"
      ]
     },
     "execution_count": 22,
     "metadata": {},
     "output_type": "execute_result"
    }
   ],
   "source": [
    "transformer = ColumnTransformer([\n",
    "    ('pipe_impute_robust', pipe_impute_robust, ['Tenure', 'WarehouseToHome', 'NumberOfDeviceRegistered', 'SatisfactionScore', 'NumberOfAddress', 'DaySinceLastOrder', 'CashbackAmount']),\n",
    "    ('onehot', OneHotEncoder(drop='first'), ['PreferedOrderCat', 'MaritalStatus'])\n",
    "], remainder='passthrough')\n",
    "\n",
    "transformer"
   ]
  },
  {
   "cell_type": "markdown",
   "metadata": {},
   "source": [
    "---\n",
    "## **Benchmark Model**"
   ]
  },
  {
   "cell_type": "code",
   "execution_count": 23,
   "metadata": {},
   "outputs": [],
   "source": [
    "# algoritma ML\n",
    "logreg = LogisticRegression(random_state=0, class_weight='balanced')\n",
    "knn = KNeighborsClassifier()\n",
    "tree = DecisionTreeClassifier(random_state=0, class_weight='balanced') \n",
    "rf = RandomForestClassifier(random_state=0, class_weight='balanced') \n",
    "ada = AdaBoostClassifier(tree, random_state=0)\n",
    "gbc = GradientBoostingClassifier(random_state=0)\n",
    "xgbc = XGBClassifier(random_state=0, verbosity=0, class_weight='balanced')"
   ]
  },
  {
   "cell_type": "code",
   "execution_count": 24,
   "metadata": {},
   "outputs": [],
   "source": [
    "# resampler\n",
    "smote = SMOTE(random_state=0)\n",
    "nearmiss = NearMiss()\n",
    "rus = RandomUnderSampler(random_state=0)\n",
    "ros = RandomOverSampler(random_state=0)"
   ]
  },
  {
   "cell_type": "code",
   "execution_count": 25,
   "metadata": {},
   "outputs": [],
   "source": [
    "models = [logreg, knn, tree, rf, ada, gbc, xgbc]\n",
    "score = []\n",
    "list_mean = []\n",
    "list_std = []\n",
    "\n",
    "# evaluation matrics f2 score\n",
    "f2_score = make_scorer(fbeta_score, beta=2)\n",
    "\n",
    "# finding best algorithm by observing mean and deviations from f2 score\n",
    "for i in models:\n",
    "\n",
    "    pipe_model = Pipeline([\n",
    "        ('transformer', transformer),\n",
    "        ('resampler', smote),\n",
    "        ('model', i)\n",
    "    ])\n",
    "\n",
    "    model_cv = cross_val_score(\n",
    "        estimator = pipe_model, \n",
    "        X= X_train, \n",
    "        y= y_train, \n",
    "        cv=5, \n",
    "        scoring= f2_score, \n",
    "        error_score='raise'\n",
    "        )\n",
    "\n",
    "    score.append(model_cv)\n",
    "    list_mean.append(model_cv.mean())\n",
    "    list_std.append(model_cv.std())"
   ]
  },
  {
   "cell_type": "code",
   "execution_count": 26,
   "metadata": {},
   "outputs": [
    {
     "data": {
      "text/html": [
       "<div>\n",
       "<style scoped>\n",
       "    .dataframe tbody tr th:only-of-type {\n",
       "        vertical-align: middle;\n",
       "    }\n",
       "\n",
       "    .dataframe tbody tr th {\n",
       "        vertical-align: top;\n",
       "    }\n",
       "\n",
       "    .dataframe thead th {\n",
       "        text-align: right;\n",
       "    }\n",
       "</style>\n",
       "<table border=\"1\" class=\"dataframe\">\n",
       "  <thead>\n",
       "    <tr style=\"text-align: right;\">\n",
       "      <th></th>\n",
       "      <th>model</th>\n",
       "      <th>mean</th>\n",
       "      <th>std</th>\n",
       "    </tr>\n",
       "  </thead>\n",
       "  <tbody>\n",
       "    <tr>\n",
       "      <th>6</th>\n",
       "      <td>xgbc</td>\n",
       "      <td>0.707902</td>\n",
       "      <td>0.041326</td>\n",
       "    </tr>\n",
       "    <tr>\n",
       "      <th>3</th>\n",
       "      <td>rf</td>\n",
       "      <td>0.702343</td>\n",
       "      <td>0.047570</td>\n",
       "    </tr>\n",
       "    <tr>\n",
       "      <th>1</th>\n",
       "      <td>knn</td>\n",
       "      <td>0.686803</td>\n",
       "      <td>0.027228</td>\n",
       "    </tr>\n",
       "    <tr>\n",
       "      <th>0</th>\n",
       "      <td>logreg</td>\n",
       "      <td>0.677700</td>\n",
       "      <td>0.034660</td>\n",
       "    </tr>\n",
       "    <tr>\n",
       "      <th>5</th>\n",
       "      <td>gbc</td>\n",
       "      <td>0.655146</td>\n",
       "      <td>0.021299</td>\n",
       "    </tr>\n",
       "    <tr>\n",
       "      <th>2</th>\n",
       "      <td>tree</td>\n",
       "      <td>0.649341</td>\n",
       "      <td>0.036276</td>\n",
       "    </tr>\n",
       "    <tr>\n",
       "      <th>4</th>\n",
       "      <td>ada</td>\n",
       "      <td>0.634491</td>\n",
       "      <td>0.061782</td>\n",
       "    </tr>\n",
       "  </tbody>\n",
       "</table>\n",
       "</div>"
      ],
      "text/plain": [
       "    model      mean       std\n",
       "6    xgbc  0.707902  0.041326\n",
       "3      rf  0.702343  0.047570\n",
       "1     knn  0.686803  0.027228\n",
       "0  logreg  0.677700  0.034660\n",
       "5     gbc  0.655146  0.021299\n",
       "2    tree  0.649341  0.036276\n",
       "4     ada  0.634491  0.061782"
      ]
     },
     "execution_count": 26,
     "metadata": {},
     "output_type": "execute_result"
    }
   ],
   "source": [
    "# creating data frame mean and std from every looped algorithm\n",
    "df_cv = pd.DataFrame({\n",
    "    'model':['logreg', 'knn', 'tree', 'rf',' ada', 'gbc', 'xgbc'],\n",
    "    'mean':list_mean,\n",
    "    'std':list_std\n",
    "})\n",
    "\n",
    "# sorting by highest mean score\n",
    "df_cv.sort_values(by='mean', ascending=False)"
   ]
  },
  {
   "cell_type": "markdown",
   "metadata": {},
   "source": [
    "according to DataFrame df_cv, we can know that from six looped algorithm, `XGBoost Classifier` and `Random Forest` are the best algorithm, shown by mean score that also quite stable. for that reason, both algorithm will be tuned to get its best parameter using f2 score."
   ]
  },
  {
   "cell_type": "markdown",
   "metadata": {},
   "source": [
    "---\n",
    "## **Hyperparameter Tuning**"
   ]
  },
  {
   "cell_type": "markdown",
   "metadata": {},
   "source": [
    "Hyperparameter tuning is done to improve model performance by finding optimal hyperparameter. \n",
    "\n",
    "Hyperparameter tuning function:\n",
    "\n",
    "- improve model performance, by determining optimal hyperparameter, so the model will be accurate and efficient.\n",
    "\n",
    "- avoid overfitting and underfitting \n",
    "\n",
    "- improve generalization, to able predict new data\n",
    "\n",
    "- Saving time and cost"
   ]
  },
  {
   "cell_type": "markdown",
   "metadata": {},
   "source": [
    "Hyperparameter tuning is using `Random Search` by choosing best hyperparameter by random from define range."
   ]
  },
  {
   "cell_type": "markdown",
   "metadata": {},
   "source": [
    "### XGBoost Classifier"
   ]
  },
  {
   "cell_type": "markdown",
   "metadata": {},
   "source": [
    "First Tuning"
   ]
  },
  {
   "cell_type": "code",
   "execution_count": 27,
   "metadata": {},
   "outputs": [],
   "source": [
    "# Hyperparam space XGboost\n",
    "hyperparam_space_xgbc = {\n",
    "    'balancing':[smote, rus, ros, nearmiss, None],\n",
    "    'model__max_depth': list(np.arange(1,100,2)), \n",
    "    'model__learning_rate': list(np.arange(0.01, 1.0, 0.01)),\n",
    "    'model__n_estimators': list(np.arange(50,100,2)),\n",
    "    'model__subsample': list(np.arange(0.1, 1.0, 0.1)),\n",
    "    'model__colsample_bytree': list(np.arange(0.1, 1.0, 0.1)),\n",
    "    'transformer__pipe_impute_robust__scaler': [MinMaxScaler(), StandardScaler(), RobustScaler()],\n",
    "    'transformer__pipe_impute_robust__poly__degree': [1,2,3]\n",
    "}"
   ]
  },
  {
   "cell_type": "code",
   "execution_count": 28,
   "metadata": {},
   "outputs": [],
   "source": [
    "# Benchmark model 1\n",
    "xgbc = XGBClassifier(random_state=0, verbosity=0, class_weight='balanced')\n",
    "\n",
    "# Create the algorithm chains\n",
    "pipe_model = Pipeline([\n",
    "        ('transformer', transformer),\n",
    "        ('balancing', smote), \n",
    "        ('model', xgbc)\n",
    "        ])\n",
    "\n",
    "# Hyperparameter tuning\n",
    "random_xgbc = RandomizedSearchCV(\n",
    "    estimator = pipe_model, \n",
    "    param_distributions = hyperparam_space_xgbc, \n",
    "    cv = 5, \n",
    "    scoring = f2_score, \n",
    "    n_jobs = -1,  \n",
    "    random_state=0,\n",
    "    n_iter= 1000\n",
    ")"
   ]
  },
  {
   "cell_type": "code",
   "execution_count": 29,
   "metadata": {},
   "outputs": [
    {
     "data": {
      "text/html": [
       "<style>#sk-container-id-2 {color: black;background-color: white;}#sk-container-id-2 pre{padding: 0;}#sk-container-id-2 div.sk-toggleable {background-color: white;}#sk-container-id-2 label.sk-toggleable__label {cursor: pointer;display: block;width: 100%;margin-bottom: 0;padding: 0.3em;box-sizing: border-box;text-align: center;}#sk-container-id-2 label.sk-toggleable__label-arrow:before {content: \"▸\";float: left;margin-right: 0.25em;color: #696969;}#sk-container-id-2 label.sk-toggleable__label-arrow:hover:before {color: black;}#sk-container-id-2 div.sk-estimator:hover label.sk-toggleable__label-arrow:before {color: black;}#sk-container-id-2 div.sk-toggleable__content {max-height: 0;max-width: 0;overflow: hidden;text-align: left;background-color: #f0f8ff;}#sk-container-id-2 div.sk-toggleable__content pre {margin: 0.2em;color: black;border-radius: 0.25em;background-color: #f0f8ff;}#sk-container-id-2 input.sk-toggleable__control:checked~div.sk-toggleable__content {max-height: 200px;max-width: 100%;overflow: auto;}#sk-container-id-2 input.sk-toggleable__control:checked~label.sk-toggleable__label-arrow:before {content: \"▾\";}#sk-container-id-2 div.sk-estimator input.sk-toggleable__control:checked~label.sk-toggleable__label {background-color: #d4ebff;}#sk-container-id-2 div.sk-label input.sk-toggleable__control:checked~label.sk-toggleable__label {background-color: #d4ebff;}#sk-container-id-2 input.sk-hidden--visually {border: 0;clip: rect(1px 1px 1px 1px);clip: rect(1px, 1px, 1px, 1px);height: 1px;margin: -1px;overflow: hidden;padding: 0;position: absolute;width: 1px;}#sk-container-id-2 div.sk-estimator {font-family: monospace;background-color: #f0f8ff;border: 1px dotted black;border-radius: 0.25em;box-sizing: border-box;margin-bottom: 0.5em;}#sk-container-id-2 div.sk-estimator:hover {background-color: #d4ebff;}#sk-container-id-2 div.sk-parallel-item::after {content: \"\";width: 100%;border-bottom: 1px solid gray;flex-grow: 1;}#sk-container-id-2 div.sk-label:hover label.sk-toggleable__label {background-color: #d4ebff;}#sk-container-id-2 div.sk-serial::before {content: \"\";position: absolute;border-left: 1px solid gray;box-sizing: border-box;top: 0;bottom: 0;left: 50%;z-index: 0;}#sk-container-id-2 div.sk-serial {display: flex;flex-direction: column;align-items: center;background-color: white;padding-right: 0.2em;padding-left: 0.2em;position: relative;}#sk-container-id-2 div.sk-item {position: relative;z-index: 1;}#sk-container-id-2 div.sk-parallel {display: flex;align-items: stretch;justify-content: center;background-color: white;position: relative;}#sk-container-id-2 div.sk-item::before, #sk-container-id-2 div.sk-parallel-item::before {content: \"\";position: absolute;border-left: 1px solid gray;box-sizing: border-box;top: 0;bottom: 0;left: 50%;z-index: -1;}#sk-container-id-2 div.sk-parallel-item {display: flex;flex-direction: column;z-index: 1;position: relative;background-color: white;}#sk-container-id-2 div.sk-parallel-item:first-child::after {align-self: flex-end;width: 50%;}#sk-container-id-2 div.sk-parallel-item:last-child::after {align-self: flex-start;width: 50%;}#sk-container-id-2 div.sk-parallel-item:only-child::after {width: 0;}#sk-container-id-2 div.sk-dashed-wrapped {border: 1px dashed gray;margin: 0 0.4em 0.5em 0.4em;box-sizing: border-box;padding-bottom: 0.4em;background-color: white;}#sk-container-id-2 div.sk-label label {font-family: monospace;font-weight: bold;display: inline-block;line-height: 1.2em;}#sk-container-id-2 div.sk-label-container {text-align: center;}#sk-container-id-2 div.sk-container {/* jupyter's `normalize.less` sets `[hidden] { display: none; }` but bootstrap.min.css set `[hidden] { display: none !important; }` so we also need the `!important` here to be able to override the default hidden behavior on the sphinx rendered scikit-learn.org. See: https://github.com/scikit-learn/scikit-learn/issues/21755 */display: inline-block !important;position: relative;}#sk-container-id-2 div.sk-text-repr-fallback {display: none;}</style><div id=\"sk-container-id-2\" class=\"sk-top-container\"><div class=\"sk-text-repr-fallback\"><pre>RandomizedSearchCV(cv=5,\n",
       "                   estimator=Pipeline(steps=[(&#x27;transformer&#x27;,\n",
       "                                              ColumnTransformer(remainder=&#x27;passthrough&#x27;,\n",
       "                                                                transformers=[(&#x27;pipe_impute_robust&#x27;,\n",
       "                                                                               Pipeline(steps=[(&#x27;median&#x27;,\n",
       "                                                                                                SimpleImputer(strategy=&#x27;median&#x27;)),\n",
       "                                                                                               (&#x27;poly&#x27;,\n",
       "                                                                                                PolynomialFeatures()),\n",
       "                                                                                               (&#x27;scaler&#x27;,\n",
       "                                                                                                RobustScaler())]),\n",
       "                                                                               [&#x27;Tenure&#x27;,\n",
       "                                                                                &#x27;WarehouseToHome&#x27;,\n",
       "                                                                                &#x27;NumberOfDeviceRegistered&#x27;,\n",
       "                                                                                &#x27;SatisfactionScore&#x27;,\n",
       "                                                                                &#x27;NumberOfAddre...\n",
       "                                                                58, 60, 62, 64,\n",
       "                                                                66, 68, 70, 72,\n",
       "                                                                74, 76, 78, 80,\n",
       "                                                                82, 84, 86, 88,\n",
       "                                                                90, 92, 94, 96,\n",
       "                                                                98],\n",
       "                                        &#x27;model__subsample&#x27;: [0.1, 0.2,\n",
       "                                                             0.30000000000000004,\n",
       "                                                             0.4, 0.5, 0.6,\n",
       "                                                             0.7000000000000001,\n",
       "                                                             0.8, 0.9],\n",
       "                                        &#x27;transformer__pipe_impute_robust__poly__degree&#x27;: [1,\n",
       "                                                                                          2,\n",
       "                                                                                          3],\n",
       "                                        &#x27;transformer__pipe_impute_robust__scaler&#x27;: [MinMaxScaler(),\n",
       "                                                                                    StandardScaler(),\n",
       "                                                                                    RobustScaler()]},\n",
       "                   random_state=0, scoring=make_scorer(fbeta_score, beta=2))</pre><b>In a Jupyter environment, please rerun this cell to show the HTML representation or trust the notebook. <br />On GitHub, the HTML representation is unable to render, please try loading this page with nbviewer.org.</b></div><div class=\"sk-container\" hidden><div class=\"sk-item sk-dashed-wrapped\"><div class=\"sk-label-container\"><div class=\"sk-label sk-toggleable\"><input class=\"sk-toggleable__control sk-hidden--visually\" id=\"sk-estimator-id-10\" type=\"checkbox\" ><label for=\"sk-estimator-id-10\" class=\"sk-toggleable__label sk-toggleable__label-arrow\">RandomizedSearchCV</label><div class=\"sk-toggleable__content\"><pre>RandomizedSearchCV(cv=5,\n",
       "                   estimator=Pipeline(steps=[(&#x27;transformer&#x27;,\n",
       "                                              ColumnTransformer(remainder=&#x27;passthrough&#x27;,\n",
       "                                                                transformers=[(&#x27;pipe_impute_robust&#x27;,\n",
       "                                                                               Pipeline(steps=[(&#x27;median&#x27;,\n",
       "                                                                                                SimpleImputer(strategy=&#x27;median&#x27;)),\n",
       "                                                                                               (&#x27;poly&#x27;,\n",
       "                                                                                                PolynomialFeatures()),\n",
       "                                                                                               (&#x27;scaler&#x27;,\n",
       "                                                                                                RobustScaler())]),\n",
       "                                                                               [&#x27;Tenure&#x27;,\n",
       "                                                                                &#x27;WarehouseToHome&#x27;,\n",
       "                                                                                &#x27;NumberOfDeviceRegistered&#x27;,\n",
       "                                                                                &#x27;SatisfactionScore&#x27;,\n",
       "                                                                                &#x27;NumberOfAddre...\n",
       "                                                                58, 60, 62, 64,\n",
       "                                                                66, 68, 70, 72,\n",
       "                                                                74, 76, 78, 80,\n",
       "                                                                82, 84, 86, 88,\n",
       "                                                                90, 92, 94, 96,\n",
       "                                                                98],\n",
       "                                        &#x27;model__subsample&#x27;: [0.1, 0.2,\n",
       "                                                             0.30000000000000004,\n",
       "                                                             0.4, 0.5, 0.6,\n",
       "                                                             0.7000000000000001,\n",
       "                                                             0.8, 0.9],\n",
       "                                        &#x27;transformer__pipe_impute_robust__poly__degree&#x27;: [1,\n",
       "                                                                                          2,\n",
       "                                                                                          3],\n",
       "                                        &#x27;transformer__pipe_impute_robust__scaler&#x27;: [MinMaxScaler(),\n",
       "                                                                                    StandardScaler(),\n",
       "                                                                                    RobustScaler()]},\n",
       "                   random_state=0, scoring=make_scorer(fbeta_score, beta=2))</pre></div></div></div><div class=\"sk-parallel\"><div class=\"sk-parallel-item\"><div class=\"sk-item\"><div class=\"sk-label-container\"><div class=\"sk-label sk-toggleable\"><input class=\"sk-toggleable__control sk-hidden--visually\" id=\"sk-estimator-id-11\" type=\"checkbox\" ><label for=\"sk-estimator-id-11\" class=\"sk-toggleable__label sk-toggleable__label-arrow\">estimator: Pipeline</label><div class=\"sk-toggleable__content\"><pre>Pipeline(steps=[(&#x27;transformer&#x27;,\n",
       "                 ColumnTransformer(remainder=&#x27;passthrough&#x27;,\n",
       "                                   transformers=[(&#x27;pipe_impute_robust&#x27;,\n",
       "                                                  Pipeline(steps=[(&#x27;median&#x27;,\n",
       "                                                                   SimpleImputer(strategy=&#x27;median&#x27;)),\n",
       "                                                                  (&#x27;poly&#x27;,\n",
       "                                                                   PolynomialFeatures()),\n",
       "                                                                  (&#x27;scaler&#x27;,\n",
       "                                                                   RobustScaler())]),\n",
       "                                                  [&#x27;Tenure&#x27;, &#x27;WarehouseToHome&#x27;,\n",
       "                                                   &#x27;NumberOfDeviceRegistered&#x27;,\n",
       "                                                   &#x27;SatisfactionScore&#x27;,\n",
       "                                                   &#x27;NumberOfAddress&#x27;,\n",
       "                                                   &#x27;DaySinceLastOrder&#x27;,\n",
       "                                                   &#x27;CashbackA...\n",
       "                               feature_types=None, gamma=None, gpu_id=None,\n",
       "                               grow_policy=None, importance_type=None,\n",
       "                               interaction_constraints=None, learning_rate=None,\n",
       "                               max_bin=None, max_cat_threshold=None,\n",
       "                               max_cat_to_onehot=None, max_delta_step=None,\n",
       "                               max_depth=None, max_leaves=None,\n",
       "                               min_child_weight=None, missing=nan,\n",
       "                               monotone_constraints=None, n_estimators=100,\n",
       "                               n_jobs=None, num_parallel_tree=None,\n",
       "                               predictor=None, ...))])</pre></div></div></div><div class=\"sk-serial\"><div class=\"sk-item\"><div class=\"sk-serial\"><div class=\"sk-item sk-dashed-wrapped\"><div class=\"sk-label-container\"><div class=\"sk-label sk-toggleable\"><input class=\"sk-toggleable__control sk-hidden--visually\" id=\"sk-estimator-id-12\" type=\"checkbox\" ><label for=\"sk-estimator-id-12\" class=\"sk-toggleable__label sk-toggleable__label-arrow\">transformer: ColumnTransformer</label><div class=\"sk-toggleable__content\"><pre>ColumnTransformer(remainder=&#x27;passthrough&#x27;,\n",
       "                  transformers=[(&#x27;pipe_impute_robust&#x27;,\n",
       "                                 Pipeline(steps=[(&#x27;median&#x27;,\n",
       "                                                  SimpleImputer(strategy=&#x27;median&#x27;)),\n",
       "                                                 (&#x27;poly&#x27;, PolynomialFeatures()),\n",
       "                                                 (&#x27;scaler&#x27;, RobustScaler())]),\n",
       "                                 [&#x27;Tenure&#x27;, &#x27;WarehouseToHome&#x27;,\n",
       "                                  &#x27;NumberOfDeviceRegistered&#x27;,\n",
       "                                  &#x27;SatisfactionScore&#x27;, &#x27;NumberOfAddress&#x27;,\n",
       "                                  &#x27;DaySinceLastOrder&#x27;, &#x27;CashbackAmount&#x27;]),\n",
       "                                (&#x27;onehot&#x27;, OneHotEncoder(drop=&#x27;first&#x27;),\n",
       "                                 [&#x27;PreferedOrderCat&#x27;, &#x27;MaritalStatus&#x27;])])</pre></div></div></div><div class=\"sk-parallel\"><div class=\"sk-parallel-item\"><div class=\"sk-item\"><div class=\"sk-label-container\"><div class=\"sk-label sk-toggleable\"><input class=\"sk-toggleable__control sk-hidden--visually\" id=\"sk-estimator-id-13\" type=\"checkbox\" ><label for=\"sk-estimator-id-13\" class=\"sk-toggleable__label sk-toggleable__label-arrow\">pipe_impute_robust</label><div class=\"sk-toggleable__content\"><pre>[&#x27;Tenure&#x27;, &#x27;WarehouseToHome&#x27;, &#x27;NumberOfDeviceRegistered&#x27;, &#x27;SatisfactionScore&#x27;, &#x27;NumberOfAddress&#x27;, &#x27;DaySinceLastOrder&#x27;, &#x27;CashbackAmount&#x27;]</pre></div></div></div><div class=\"sk-serial\"><div class=\"sk-item\"><div class=\"sk-serial\"><div class=\"sk-item\"><div class=\"sk-estimator sk-toggleable\"><input class=\"sk-toggleable__control sk-hidden--visually\" id=\"sk-estimator-id-14\" type=\"checkbox\" ><label for=\"sk-estimator-id-14\" class=\"sk-toggleable__label sk-toggleable__label-arrow\">SimpleImputer</label><div class=\"sk-toggleable__content\"><pre>SimpleImputer(strategy=&#x27;median&#x27;)</pre></div></div></div><div class=\"sk-item\"><div class=\"sk-estimator sk-toggleable\"><input class=\"sk-toggleable__control sk-hidden--visually\" id=\"sk-estimator-id-15\" type=\"checkbox\" ><label for=\"sk-estimator-id-15\" class=\"sk-toggleable__label sk-toggleable__label-arrow\">PolynomialFeatures</label><div class=\"sk-toggleable__content\"><pre>PolynomialFeatures()</pre></div></div></div><div class=\"sk-item\"><div class=\"sk-estimator sk-toggleable\"><input class=\"sk-toggleable__control sk-hidden--visually\" id=\"sk-estimator-id-16\" type=\"checkbox\" ><label for=\"sk-estimator-id-16\" class=\"sk-toggleable__label sk-toggleable__label-arrow\">RobustScaler</label><div class=\"sk-toggleable__content\"><pre>RobustScaler()</pre></div></div></div></div></div></div></div></div><div class=\"sk-parallel-item\"><div class=\"sk-item\"><div class=\"sk-label-container\"><div class=\"sk-label sk-toggleable\"><input class=\"sk-toggleable__control sk-hidden--visually\" id=\"sk-estimator-id-17\" type=\"checkbox\" ><label for=\"sk-estimator-id-17\" class=\"sk-toggleable__label sk-toggleable__label-arrow\">onehot</label><div class=\"sk-toggleable__content\"><pre>[&#x27;PreferedOrderCat&#x27;, &#x27;MaritalStatus&#x27;]</pre></div></div></div><div class=\"sk-serial\"><div class=\"sk-item\"><div class=\"sk-estimator sk-toggleable\"><input class=\"sk-toggleable__control sk-hidden--visually\" id=\"sk-estimator-id-18\" type=\"checkbox\" ><label for=\"sk-estimator-id-18\" class=\"sk-toggleable__label sk-toggleable__label-arrow\">OneHotEncoder</label><div class=\"sk-toggleable__content\"><pre>OneHotEncoder(drop=&#x27;first&#x27;)</pre></div></div></div></div></div></div><div class=\"sk-parallel-item\"><div class=\"sk-item\"><div class=\"sk-label-container\"><div class=\"sk-label sk-toggleable\"><input class=\"sk-toggleable__control sk-hidden--visually\" id=\"sk-estimator-id-19\" type=\"checkbox\" ><label for=\"sk-estimator-id-19\" class=\"sk-toggleable__label sk-toggleable__label-arrow\">remainder</label><div class=\"sk-toggleable__content\"><pre></pre></div></div></div><div class=\"sk-serial\"><div class=\"sk-item\"><div class=\"sk-estimator sk-toggleable\"><input class=\"sk-toggleable__control sk-hidden--visually\" id=\"sk-estimator-id-20\" type=\"checkbox\" ><label for=\"sk-estimator-id-20\" class=\"sk-toggleable__label sk-toggleable__label-arrow\">passthrough</label><div class=\"sk-toggleable__content\"><pre>passthrough</pre></div></div></div></div></div></div></div></div><div class=\"sk-item\"><div class=\"sk-estimator sk-toggleable\"><input class=\"sk-toggleable__control sk-hidden--visually\" id=\"sk-estimator-id-21\" type=\"checkbox\" ><label for=\"sk-estimator-id-21\" class=\"sk-toggleable__label sk-toggleable__label-arrow\">SMOTE</label><div class=\"sk-toggleable__content\"><pre>SMOTE(random_state=0)</pre></div></div></div><div class=\"sk-item\"><div class=\"sk-estimator sk-toggleable\"><input class=\"sk-toggleable__control sk-hidden--visually\" id=\"sk-estimator-id-22\" type=\"checkbox\" ><label for=\"sk-estimator-id-22\" class=\"sk-toggleable__label sk-toggleable__label-arrow\">XGBClassifier</label><div class=\"sk-toggleable__content\"><pre>XGBClassifier(base_score=None, booster=None, callbacks=None,\n",
       "              class_weight=&#x27;balanced&#x27;, colsample_bylevel=None,\n",
       "              colsample_bynode=None, colsample_bytree=None,\n",
       "              early_stopping_rounds=None, enable_categorical=False,\n",
       "              eval_metric=None, feature_types=None, gamma=None, gpu_id=None,\n",
       "              grow_policy=None, importance_type=None,\n",
       "              interaction_constraints=None, learning_rate=None, max_bin=None,\n",
       "              max_cat_threshold=None, max_cat_to_onehot=None,\n",
       "              max_delta_step=None, max_depth=None, max_leaves=None,\n",
       "              min_child_weight=None, missing=nan, monotone_constraints=None,\n",
       "              n_estimators=100, n_jobs=None, num_parallel_tree=None,\n",
       "              predictor=None, ...)</pre></div></div></div></div></div></div></div></div></div></div></div></div>"
      ],
      "text/plain": [
       "RandomizedSearchCV(cv=5,\n",
       "                   estimator=Pipeline(steps=[('transformer',\n",
       "                                              ColumnTransformer(remainder='passthrough',\n",
       "                                                                transformers=[('pipe_impute_robust',\n",
       "                                                                               Pipeline(steps=[('median',\n",
       "                                                                                                SimpleImputer(strategy='median')),\n",
       "                                                                                               ('poly',\n",
       "                                                                                                PolynomialFeatures()),\n",
       "                                                                                               ('scaler',\n",
       "                                                                                                RobustScaler())]),\n",
       "                                                                               ['Tenure',\n",
       "                                                                                'WarehouseToHome',\n",
       "                                                                                'NumberOfDeviceRegistered',\n",
       "                                                                                'SatisfactionScore',\n",
       "                                                                                'NumberOfAddre...\n",
       "                                                                58, 60, 62, 64,\n",
       "                                                                66, 68, 70, 72,\n",
       "                                                                74, 76, 78, 80,\n",
       "                                                                82, 84, 86, 88,\n",
       "                                                                90, 92, 94, 96,\n",
       "                                                                98],\n",
       "                                        'model__subsample': [0.1, 0.2,\n",
       "                                                             0.30000000000000004,\n",
       "                                                             0.4, 0.5, 0.6,\n",
       "                                                             0.7000000000000001,\n",
       "                                                             0.8, 0.9],\n",
       "                                        'transformer__pipe_impute_robust__poly__degree': [1,\n",
       "                                                                                          2,\n",
       "                                                                                          3],\n",
       "                                        'transformer__pipe_impute_robust__scaler': [MinMaxScaler(),\n",
       "                                                                                    StandardScaler(),\n",
       "                                                                                    RobustScaler()]},\n",
       "                   random_state=0, scoring=make_scorer(fbeta_score, beta=2))"
      ]
     },
     "execution_count": 29,
     "metadata": {},
     "output_type": "execute_result"
    }
   ],
   "source": [
    "# fitting\n",
    "random_xgbc.fit(X_train, y_train)"
   ]
  },
  {
   "cell_type": "code",
   "execution_count": 30,
   "metadata": {},
   "outputs": [
    {
     "data": {
      "text/html": [
       "<div>\n",
       "<style scoped>\n",
       "    .dataframe tbody tr th:only-of-type {\n",
       "        vertical-align: middle;\n",
       "    }\n",
       "\n",
       "    .dataframe tbody tr th {\n",
       "        vertical-align: top;\n",
       "    }\n",
       "\n",
       "    .dataframe thead th {\n",
       "        text-align: right;\n",
       "    }\n",
       "</style>\n",
       "<table border=\"1\" class=\"dataframe\">\n",
       "  <thead>\n",
       "    <tr style=\"text-align: right;\">\n",
       "      <th></th>\n",
       "      <th>mean_fit_time</th>\n",
       "      <th>std_fit_time</th>\n",
       "      <th>mean_score_time</th>\n",
       "      <th>std_score_time</th>\n",
       "      <th>param_transformer__pipe_impute_robust__scaler</th>\n",
       "      <th>param_transformer__pipe_impute_robust__poly__degree</th>\n",
       "      <th>param_model__subsample</th>\n",
       "      <th>param_model__n_estimators</th>\n",
       "      <th>param_model__max_depth</th>\n",
       "      <th>param_model__learning_rate</th>\n",
       "      <th>param_model__colsample_bytree</th>\n",
       "      <th>param_balancing</th>\n",
       "      <th>params</th>\n",
       "      <th>split0_test_score</th>\n",
       "      <th>split1_test_score</th>\n",
       "      <th>split2_test_score</th>\n",
       "      <th>split3_test_score</th>\n",
       "      <th>split4_test_score</th>\n",
       "      <th>mean_test_score</th>\n",
       "      <th>std_test_score</th>\n",
       "      <th>rank_test_score</th>\n",
       "    </tr>\n",
       "  </thead>\n",
       "  <tbody>\n",
       "    <tr>\n",
       "      <th>973</th>\n",
       "      <td>0.365255</td>\n",
       "      <td>0.016035</td>\n",
       "      <td>0.033604</td>\n",
       "      <td>0.001745</td>\n",
       "      <td>RobustScaler()</td>\n",
       "      <td>1</td>\n",
       "      <td>0.7</td>\n",
       "      <td>90</td>\n",
       "      <td>45</td>\n",
       "      <td>0.1</td>\n",
       "      <td>0.7</td>\n",
       "      <td>RandomUnderSampler(random_state=0)</td>\n",
       "      <td>{'transformer__pipe_impute_robust__scaler': Ro...</td>\n",
       "      <td>0.821355</td>\n",
       "      <td>0.751029</td>\n",
       "      <td>0.744681</td>\n",
       "      <td>0.734694</td>\n",
       "      <td>0.784114</td>\n",
       "      <td>0.767175</td>\n",
       "      <td>0.031762</td>\n",
       "      <td>1</td>\n",
       "    </tr>\n",
       "    <tr>\n",
       "      <th>552</th>\n",
       "      <td>1.137137</td>\n",
       "      <td>0.088253</td>\n",
       "      <td>0.035602</td>\n",
       "      <td>0.006218</td>\n",
       "      <td>RobustScaler()</td>\n",
       "      <td>1</td>\n",
       "      <td>0.8</td>\n",
       "      <td>78</td>\n",
       "      <td>89</td>\n",
       "      <td>0.06</td>\n",
       "      <td>0.7</td>\n",
       "      <td>RandomOverSampler(random_state=0)</td>\n",
       "      <td>{'transformer__pipe_impute_robust__scaler': Ro...</td>\n",
       "      <td>0.807175</td>\n",
       "      <td>0.727700</td>\n",
       "      <td>0.753589</td>\n",
       "      <td>0.770115</td>\n",
       "      <td>0.776471</td>\n",
       "      <td>0.767010</td>\n",
       "      <td>0.026221</td>\n",
       "      <td>2</td>\n",
       "    </tr>\n",
       "    <tr>\n",
       "      <th>209</th>\n",
       "      <td>0.321226</td>\n",
       "      <td>0.006676</td>\n",
       "      <td>0.027600</td>\n",
       "      <td>0.004963</td>\n",
       "      <td>RobustScaler()</td>\n",
       "      <td>2</td>\n",
       "      <td>0.8</td>\n",
       "      <td>74</td>\n",
       "      <td>59</td>\n",
       "      <td>0.23</td>\n",
       "      <td>0.6</td>\n",
       "      <td>RandomUnderSampler(random_state=0)</td>\n",
       "      <td>{'transformer__pipe_impute_robust__scaler': Ro...</td>\n",
       "      <td>0.771543</td>\n",
       "      <td>0.757576</td>\n",
       "      <td>0.756303</td>\n",
       "      <td>0.712810</td>\n",
       "      <td>0.833333</td>\n",
       "      <td>0.766313</td>\n",
       "      <td>0.038880</td>\n",
       "      <td>3</td>\n",
       "    </tr>\n",
       "    <tr>\n",
       "      <th>556</th>\n",
       "      <td>0.535737</td>\n",
       "      <td>0.011881</td>\n",
       "      <td>0.020800</td>\n",
       "      <td>0.002639</td>\n",
       "      <td>StandardScaler()</td>\n",
       "      <td>1</td>\n",
       "      <td>0.6</td>\n",
       "      <td>56</td>\n",
       "      <td>47</td>\n",
       "      <td>0.36</td>\n",
       "      <td>0.7</td>\n",
       "      <td>RandomOverSampler(random_state=0)</td>\n",
       "      <td>{'transformer__pipe_impute_robust__scaler': St...</td>\n",
       "      <td>0.800915</td>\n",
       "      <td>0.742925</td>\n",
       "      <td>0.736715</td>\n",
       "      <td>0.749415</td>\n",
       "      <td>0.794931</td>\n",
       "      <td>0.764980</td>\n",
       "      <td>0.027262</td>\n",
       "      <td>4</td>\n",
       "    </tr>\n",
       "    <tr>\n",
       "      <th>453</th>\n",
       "      <td>0.750588</td>\n",
       "      <td>0.158194</td>\n",
       "      <td>0.026804</td>\n",
       "      <td>0.006046</td>\n",
       "      <td>StandardScaler()</td>\n",
       "      <td>2</td>\n",
       "      <td>0.9</td>\n",
       "      <td>90</td>\n",
       "      <td>51</td>\n",
       "      <td>0.09</td>\n",
       "      <td>0.8</td>\n",
       "      <td>RandomUnderSampler(random_state=0)</td>\n",
       "      <td>{'transformer__pipe_impute_robust__scaler': St...</td>\n",
       "      <td>0.797980</td>\n",
       "      <td>0.755694</td>\n",
       "      <td>0.738397</td>\n",
       "      <td>0.740741</td>\n",
       "      <td>0.791075</td>\n",
       "      <td>0.764777</td>\n",
       "      <td>0.025101</td>\n",
       "      <td>5</td>\n",
       "    </tr>\n",
       "  </tbody>\n",
       "</table>\n",
       "</div>"
      ],
      "text/plain": [
       "     mean_fit_time  std_fit_time  mean_score_time  std_score_time  \\\n",
       "973       0.365255      0.016035         0.033604        0.001745   \n",
       "552       1.137137      0.088253         0.035602        0.006218   \n",
       "209       0.321226      0.006676         0.027600        0.004963   \n",
       "556       0.535737      0.011881         0.020800        0.002639   \n",
       "453       0.750588      0.158194         0.026804        0.006046   \n",
       "\n",
       "    param_transformer__pipe_impute_robust__scaler  \\\n",
       "973                                RobustScaler()   \n",
       "552                                RobustScaler()   \n",
       "209                                RobustScaler()   \n",
       "556                              StandardScaler()   \n",
       "453                              StandardScaler()   \n",
       "\n",
       "    param_transformer__pipe_impute_robust__poly__degree  \\\n",
       "973                                                  1    \n",
       "552                                                  1    \n",
       "209                                                  2    \n",
       "556                                                  1    \n",
       "453                                                  2    \n",
       "\n",
       "    param_model__subsample param_model__n_estimators param_model__max_depth  \\\n",
       "973                    0.7                        90                     45   \n",
       "552                    0.8                        78                     89   \n",
       "209                    0.8                        74                     59   \n",
       "556                    0.6                        56                     47   \n",
       "453                    0.9                        90                     51   \n",
       "\n",
       "    param_model__learning_rate param_model__colsample_bytree  \\\n",
       "973                        0.1                           0.7   \n",
       "552                       0.06                           0.7   \n",
       "209                       0.23                           0.6   \n",
       "556                       0.36                           0.7   \n",
       "453                       0.09                           0.8   \n",
       "\n",
       "                        param_balancing  \\\n",
       "973  RandomUnderSampler(random_state=0)   \n",
       "552   RandomOverSampler(random_state=0)   \n",
       "209  RandomUnderSampler(random_state=0)   \n",
       "556   RandomOverSampler(random_state=0)   \n",
       "453  RandomUnderSampler(random_state=0)   \n",
       "\n",
       "                                                params  split0_test_score  \\\n",
       "973  {'transformer__pipe_impute_robust__scaler': Ro...           0.821355   \n",
       "552  {'transformer__pipe_impute_robust__scaler': Ro...           0.807175   \n",
       "209  {'transformer__pipe_impute_robust__scaler': Ro...           0.771543   \n",
       "556  {'transformer__pipe_impute_robust__scaler': St...           0.800915   \n",
       "453  {'transformer__pipe_impute_robust__scaler': St...           0.797980   \n",
       "\n",
       "     split1_test_score  split2_test_score  split3_test_score  \\\n",
       "973           0.751029           0.744681           0.734694   \n",
       "552           0.727700           0.753589           0.770115   \n",
       "209           0.757576           0.756303           0.712810   \n",
       "556           0.742925           0.736715           0.749415   \n",
       "453           0.755694           0.738397           0.740741   \n",
       "\n",
       "     split4_test_score  mean_test_score  std_test_score  rank_test_score  \n",
       "973           0.784114         0.767175        0.031762                1  \n",
       "552           0.776471         0.767010        0.026221                2  \n",
       "209           0.833333         0.766313        0.038880                3  \n",
       "556           0.794931         0.764980        0.027262                4  \n",
       "453           0.791075         0.764777        0.025101                5  "
      ]
     },
     "execution_count": 30,
     "metadata": {},
     "output_type": "execute_result"
    }
   ],
   "source": [
    "# create dataframe\n",
    "pd.DataFrame(random_xgbc.cv_results_).sort_values(by='rank_test_score').head()"
   ]
  },
  {
   "cell_type": "code",
   "execution_count": 31,
   "metadata": {},
   "outputs": [
    {
     "name": "stdout",
     "output_type": "stream",
     "text": [
      "XGBoost\n",
      "Best_score: 0.7671745648583999\n",
      "Best_params: {'transformer__pipe_impute_robust__scaler': RobustScaler(), 'transformer__pipe_impute_robust__poly__degree': 1, 'model__subsample': 0.7000000000000001, 'model__n_estimators': 90, 'model__max_depth': 45, 'model__learning_rate': 0.09999999999999999, 'model__colsample_bytree': 0.7000000000000001, 'balancing': RandomUnderSampler(random_state=0)}\n"
     ]
    }
   ],
   "source": [
    "print('XGBoost')\n",
    "print('Best_score:', random_xgbc.best_score_)\n",
    "print('Best_params:', random_xgbc.best_params_)"
   ]
  },
  {
   "cell_type": "markdown",
   "metadata": {},
   "source": [
    "Second Tuning"
   ]
  },
  {
   "cell_type": "code",
   "execution_count": 32,
   "metadata": {},
   "outputs": [],
   "source": [
    "# Hyperparam space XGboost\n",
    "hyperparam_space_xgbc = {\n",
    "    'balancing':[rus, ros],\n",
    "    'model__max_depth': list(np.arange(35,110,1)), \n",
    "    'model__learning_rate': list(np.arange(0.1, 0.5, 0.05)),\n",
    "    'model__n_estimators': list(np.arange(50,100,1)),\n",
    "    'model__subsample': list(np.arange(0.5, 1.0, 0.05)),\n",
    "    'model__colsample_bytree': list(np.arange(0.5, 1.0, 0.05)),\n",
    "    'transformer__pipe_impute_robust__scaler': [StandardScaler(), RobustScaler()],\n",
    "    'transformer__pipe_impute_robust__poly__degree': [1,2]\n",
    "}"
   ]
  },
  {
   "cell_type": "code",
   "execution_count": 33,
   "metadata": {},
   "outputs": [],
   "source": [
    "# Benchmark model 1\n",
    "xgbc = XGBClassifier(random_state=0, verbosity=0, class_weight='balanced')\n",
    "\n",
    "# Create the algorithm chains\n",
    "pipe_model = Pipeline([\n",
    "        ('transformer', transformer),\n",
    "        ('balancing', smote), \n",
    "        ('model', xgbc)\n",
    "        ])\n",
    "\n",
    "# Hyperparameter tuning\n",
    "random_xgbc = RandomizedSearchCV(\n",
    "    estimator = pipe_model, \n",
    "    param_distributions = hyperparam_space_xgbc, \n",
    "    cv = 5, \n",
    "    scoring = f2_score, \n",
    "    n_jobs = -1,  \n",
    "    random_state=0,\n",
    "    n_iter= 1000\n",
    ")"
   ]
  },
  {
   "cell_type": "code",
   "execution_count": 34,
   "metadata": {},
   "outputs": [
    {
     "data": {
      "text/html": [
       "<style>#sk-container-id-3 {color: black;background-color: white;}#sk-container-id-3 pre{padding: 0;}#sk-container-id-3 div.sk-toggleable {background-color: white;}#sk-container-id-3 label.sk-toggleable__label {cursor: pointer;display: block;width: 100%;margin-bottom: 0;padding: 0.3em;box-sizing: border-box;text-align: center;}#sk-container-id-3 label.sk-toggleable__label-arrow:before {content: \"▸\";float: left;margin-right: 0.25em;color: #696969;}#sk-container-id-3 label.sk-toggleable__label-arrow:hover:before {color: black;}#sk-container-id-3 div.sk-estimator:hover label.sk-toggleable__label-arrow:before {color: black;}#sk-container-id-3 div.sk-toggleable__content {max-height: 0;max-width: 0;overflow: hidden;text-align: left;background-color: #f0f8ff;}#sk-container-id-3 div.sk-toggleable__content pre {margin: 0.2em;color: black;border-radius: 0.25em;background-color: #f0f8ff;}#sk-container-id-3 input.sk-toggleable__control:checked~div.sk-toggleable__content {max-height: 200px;max-width: 100%;overflow: auto;}#sk-container-id-3 input.sk-toggleable__control:checked~label.sk-toggleable__label-arrow:before {content: \"▾\";}#sk-container-id-3 div.sk-estimator input.sk-toggleable__control:checked~label.sk-toggleable__label {background-color: #d4ebff;}#sk-container-id-3 div.sk-label input.sk-toggleable__control:checked~label.sk-toggleable__label {background-color: #d4ebff;}#sk-container-id-3 input.sk-hidden--visually {border: 0;clip: rect(1px 1px 1px 1px);clip: rect(1px, 1px, 1px, 1px);height: 1px;margin: -1px;overflow: hidden;padding: 0;position: absolute;width: 1px;}#sk-container-id-3 div.sk-estimator {font-family: monospace;background-color: #f0f8ff;border: 1px dotted black;border-radius: 0.25em;box-sizing: border-box;margin-bottom: 0.5em;}#sk-container-id-3 div.sk-estimator:hover {background-color: #d4ebff;}#sk-container-id-3 div.sk-parallel-item::after {content: \"\";width: 100%;border-bottom: 1px solid gray;flex-grow: 1;}#sk-container-id-3 div.sk-label:hover label.sk-toggleable__label {background-color: #d4ebff;}#sk-container-id-3 div.sk-serial::before {content: \"\";position: absolute;border-left: 1px solid gray;box-sizing: border-box;top: 0;bottom: 0;left: 50%;z-index: 0;}#sk-container-id-3 div.sk-serial {display: flex;flex-direction: column;align-items: center;background-color: white;padding-right: 0.2em;padding-left: 0.2em;position: relative;}#sk-container-id-3 div.sk-item {position: relative;z-index: 1;}#sk-container-id-3 div.sk-parallel {display: flex;align-items: stretch;justify-content: center;background-color: white;position: relative;}#sk-container-id-3 div.sk-item::before, #sk-container-id-3 div.sk-parallel-item::before {content: \"\";position: absolute;border-left: 1px solid gray;box-sizing: border-box;top: 0;bottom: 0;left: 50%;z-index: -1;}#sk-container-id-3 div.sk-parallel-item {display: flex;flex-direction: column;z-index: 1;position: relative;background-color: white;}#sk-container-id-3 div.sk-parallel-item:first-child::after {align-self: flex-end;width: 50%;}#sk-container-id-3 div.sk-parallel-item:last-child::after {align-self: flex-start;width: 50%;}#sk-container-id-3 div.sk-parallel-item:only-child::after {width: 0;}#sk-container-id-3 div.sk-dashed-wrapped {border: 1px dashed gray;margin: 0 0.4em 0.5em 0.4em;box-sizing: border-box;padding-bottom: 0.4em;background-color: white;}#sk-container-id-3 div.sk-label label {font-family: monospace;font-weight: bold;display: inline-block;line-height: 1.2em;}#sk-container-id-3 div.sk-label-container {text-align: center;}#sk-container-id-3 div.sk-container {/* jupyter's `normalize.less` sets `[hidden] { display: none; }` but bootstrap.min.css set `[hidden] { display: none !important; }` so we also need the `!important` here to be able to override the default hidden behavior on the sphinx rendered scikit-learn.org. See: https://github.com/scikit-learn/scikit-learn/issues/21755 */display: inline-block !important;position: relative;}#sk-container-id-3 div.sk-text-repr-fallback {display: none;}</style><div id=\"sk-container-id-3\" class=\"sk-top-container\"><div class=\"sk-text-repr-fallback\"><pre>RandomizedSearchCV(cv=5,\n",
       "                   estimator=Pipeline(steps=[(&#x27;transformer&#x27;,\n",
       "                                              ColumnTransformer(remainder=&#x27;passthrough&#x27;,\n",
       "                                                                transformers=[(&#x27;pipe_impute_robust&#x27;,\n",
       "                                                                               Pipeline(steps=[(&#x27;median&#x27;,\n",
       "                                                                                                SimpleImputer(strategy=&#x27;median&#x27;)),\n",
       "                                                                                               (&#x27;poly&#x27;,\n",
       "                                                                                                PolynomialFeatures()),\n",
       "                                                                                               (&#x27;scaler&#x27;,\n",
       "                                                                                                RobustScaler())]),\n",
       "                                                                               [&#x27;Tenure&#x27;,\n",
       "                                                                                &#x27;WarehouseToHome&#x27;,\n",
       "                                                                                &#x27;NumberOfDeviceRegistered&#x27;,\n",
       "                                                                                &#x27;SatisfactionScore&#x27;,\n",
       "                                                                                &#x27;NumberOfAddre...\n",
       "                                        &#x27;model__subsample&#x27;: [0.5, 0.55,\n",
       "                                                             0.6000000000000001,\n",
       "                                                             0.6500000000000001,\n",
       "                                                             0.7000000000000002,\n",
       "                                                             0.7500000000000002,\n",
       "                                                             0.8000000000000003,\n",
       "                                                             0.8500000000000003,\n",
       "                                                             0.9000000000000004,\n",
       "                                                             0.9500000000000004],\n",
       "                                        &#x27;transformer__pipe_impute_robust__poly__degree&#x27;: [1,\n",
       "                                                                                          2],\n",
       "                                        &#x27;transformer__pipe_impute_robust__scaler&#x27;: [StandardScaler(),\n",
       "                                                                                    RobustScaler()]},\n",
       "                   random_state=0, scoring=make_scorer(fbeta_score, beta=2))</pre><b>In a Jupyter environment, please rerun this cell to show the HTML representation or trust the notebook. <br />On GitHub, the HTML representation is unable to render, please try loading this page with nbviewer.org.</b></div><div class=\"sk-container\" hidden><div class=\"sk-item sk-dashed-wrapped\"><div class=\"sk-label-container\"><div class=\"sk-label sk-toggleable\"><input class=\"sk-toggleable__control sk-hidden--visually\" id=\"sk-estimator-id-23\" type=\"checkbox\" ><label for=\"sk-estimator-id-23\" class=\"sk-toggleable__label sk-toggleable__label-arrow\">RandomizedSearchCV</label><div class=\"sk-toggleable__content\"><pre>RandomizedSearchCV(cv=5,\n",
       "                   estimator=Pipeline(steps=[(&#x27;transformer&#x27;,\n",
       "                                              ColumnTransformer(remainder=&#x27;passthrough&#x27;,\n",
       "                                                                transformers=[(&#x27;pipe_impute_robust&#x27;,\n",
       "                                                                               Pipeline(steps=[(&#x27;median&#x27;,\n",
       "                                                                                                SimpleImputer(strategy=&#x27;median&#x27;)),\n",
       "                                                                                               (&#x27;poly&#x27;,\n",
       "                                                                                                PolynomialFeatures()),\n",
       "                                                                                               (&#x27;scaler&#x27;,\n",
       "                                                                                                RobustScaler())]),\n",
       "                                                                               [&#x27;Tenure&#x27;,\n",
       "                                                                                &#x27;WarehouseToHome&#x27;,\n",
       "                                                                                &#x27;NumberOfDeviceRegistered&#x27;,\n",
       "                                                                                &#x27;SatisfactionScore&#x27;,\n",
       "                                                                                &#x27;NumberOfAddre...\n",
       "                                        &#x27;model__subsample&#x27;: [0.5, 0.55,\n",
       "                                                             0.6000000000000001,\n",
       "                                                             0.6500000000000001,\n",
       "                                                             0.7000000000000002,\n",
       "                                                             0.7500000000000002,\n",
       "                                                             0.8000000000000003,\n",
       "                                                             0.8500000000000003,\n",
       "                                                             0.9000000000000004,\n",
       "                                                             0.9500000000000004],\n",
       "                                        &#x27;transformer__pipe_impute_robust__poly__degree&#x27;: [1,\n",
       "                                                                                          2],\n",
       "                                        &#x27;transformer__pipe_impute_robust__scaler&#x27;: [StandardScaler(),\n",
       "                                                                                    RobustScaler()]},\n",
       "                   random_state=0, scoring=make_scorer(fbeta_score, beta=2))</pre></div></div></div><div class=\"sk-parallel\"><div class=\"sk-parallel-item\"><div class=\"sk-item\"><div class=\"sk-label-container\"><div class=\"sk-label sk-toggleable\"><input class=\"sk-toggleable__control sk-hidden--visually\" id=\"sk-estimator-id-24\" type=\"checkbox\" ><label for=\"sk-estimator-id-24\" class=\"sk-toggleable__label sk-toggleable__label-arrow\">estimator: Pipeline</label><div class=\"sk-toggleable__content\"><pre>Pipeline(steps=[(&#x27;transformer&#x27;,\n",
       "                 ColumnTransformer(remainder=&#x27;passthrough&#x27;,\n",
       "                                   transformers=[(&#x27;pipe_impute_robust&#x27;,\n",
       "                                                  Pipeline(steps=[(&#x27;median&#x27;,\n",
       "                                                                   SimpleImputer(strategy=&#x27;median&#x27;)),\n",
       "                                                                  (&#x27;poly&#x27;,\n",
       "                                                                   PolynomialFeatures()),\n",
       "                                                                  (&#x27;scaler&#x27;,\n",
       "                                                                   RobustScaler())]),\n",
       "                                                  [&#x27;Tenure&#x27;, &#x27;WarehouseToHome&#x27;,\n",
       "                                                   &#x27;NumberOfDeviceRegistered&#x27;,\n",
       "                                                   &#x27;SatisfactionScore&#x27;,\n",
       "                                                   &#x27;NumberOfAddress&#x27;,\n",
       "                                                   &#x27;DaySinceLastOrder&#x27;,\n",
       "                                                   &#x27;CashbackA...\n",
       "                               feature_types=None, gamma=None, gpu_id=None,\n",
       "                               grow_policy=None, importance_type=None,\n",
       "                               interaction_constraints=None, learning_rate=None,\n",
       "                               max_bin=None, max_cat_threshold=None,\n",
       "                               max_cat_to_onehot=None, max_delta_step=None,\n",
       "                               max_depth=None, max_leaves=None,\n",
       "                               min_child_weight=None, missing=nan,\n",
       "                               monotone_constraints=None, n_estimators=100,\n",
       "                               n_jobs=None, num_parallel_tree=None,\n",
       "                               predictor=None, ...))])</pre></div></div></div><div class=\"sk-serial\"><div class=\"sk-item\"><div class=\"sk-serial\"><div class=\"sk-item sk-dashed-wrapped\"><div class=\"sk-label-container\"><div class=\"sk-label sk-toggleable\"><input class=\"sk-toggleable__control sk-hidden--visually\" id=\"sk-estimator-id-25\" type=\"checkbox\" ><label for=\"sk-estimator-id-25\" class=\"sk-toggleable__label sk-toggleable__label-arrow\">transformer: ColumnTransformer</label><div class=\"sk-toggleable__content\"><pre>ColumnTransformer(remainder=&#x27;passthrough&#x27;,\n",
       "                  transformers=[(&#x27;pipe_impute_robust&#x27;,\n",
       "                                 Pipeline(steps=[(&#x27;median&#x27;,\n",
       "                                                  SimpleImputer(strategy=&#x27;median&#x27;)),\n",
       "                                                 (&#x27;poly&#x27;, PolynomialFeatures()),\n",
       "                                                 (&#x27;scaler&#x27;, RobustScaler())]),\n",
       "                                 [&#x27;Tenure&#x27;, &#x27;WarehouseToHome&#x27;,\n",
       "                                  &#x27;NumberOfDeviceRegistered&#x27;,\n",
       "                                  &#x27;SatisfactionScore&#x27;, &#x27;NumberOfAddress&#x27;,\n",
       "                                  &#x27;DaySinceLastOrder&#x27;, &#x27;CashbackAmount&#x27;]),\n",
       "                                (&#x27;onehot&#x27;, OneHotEncoder(drop=&#x27;first&#x27;),\n",
       "                                 [&#x27;PreferedOrderCat&#x27;, &#x27;MaritalStatus&#x27;])])</pre></div></div></div><div class=\"sk-parallel\"><div class=\"sk-parallel-item\"><div class=\"sk-item\"><div class=\"sk-label-container\"><div class=\"sk-label sk-toggleable\"><input class=\"sk-toggleable__control sk-hidden--visually\" id=\"sk-estimator-id-26\" type=\"checkbox\" ><label for=\"sk-estimator-id-26\" class=\"sk-toggleable__label sk-toggleable__label-arrow\">pipe_impute_robust</label><div class=\"sk-toggleable__content\"><pre>[&#x27;Tenure&#x27;, &#x27;WarehouseToHome&#x27;, &#x27;NumberOfDeviceRegistered&#x27;, &#x27;SatisfactionScore&#x27;, &#x27;NumberOfAddress&#x27;, &#x27;DaySinceLastOrder&#x27;, &#x27;CashbackAmount&#x27;]</pre></div></div></div><div class=\"sk-serial\"><div class=\"sk-item\"><div class=\"sk-serial\"><div class=\"sk-item\"><div class=\"sk-estimator sk-toggleable\"><input class=\"sk-toggleable__control sk-hidden--visually\" id=\"sk-estimator-id-27\" type=\"checkbox\" ><label for=\"sk-estimator-id-27\" class=\"sk-toggleable__label sk-toggleable__label-arrow\">SimpleImputer</label><div class=\"sk-toggleable__content\"><pre>SimpleImputer(strategy=&#x27;median&#x27;)</pre></div></div></div><div class=\"sk-item\"><div class=\"sk-estimator sk-toggleable\"><input class=\"sk-toggleable__control sk-hidden--visually\" id=\"sk-estimator-id-28\" type=\"checkbox\" ><label for=\"sk-estimator-id-28\" class=\"sk-toggleable__label sk-toggleable__label-arrow\">PolynomialFeatures</label><div class=\"sk-toggleable__content\"><pre>PolynomialFeatures()</pre></div></div></div><div class=\"sk-item\"><div class=\"sk-estimator sk-toggleable\"><input class=\"sk-toggleable__control sk-hidden--visually\" id=\"sk-estimator-id-29\" type=\"checkbox\" ><label for=\"sk-estimator-id-29\" class=\"sk-toggleable__label sk-toggleable__label-arrow\">RobustScaler</label><div class=\"sk-toggleable__content\"><pre>RobustScaler()</pre></div></div></div></div></div></div></div></div><div class=\"sk-parallel-item\"><div class=\"sk-item\"><div class=\"sk-label-container\"><div class=\"sk-label sk-toggleable\"><input class=\"sk-toggleable__control sk-hidden--visually\" id=\"sk-estimator-id-30\" type=\"checkbox\" ><label for=\"sk-estimator-id-30\" class=\"sk-toggleable__label sk-toggleable__label-arrow\">onehot</label><div class=\"sk-toggleable__content\"><pre>[&#x27;PreferedOrderCat&#x27;, &#x27;MaritalStatus&#x27;]</pre></div></div></div><div class=\"sk-serial\"><div class=\"sk-item\"><div class=\"sk-estimator sk-toggleable\"><input class=\"sk-toggleable__control sk-hidden--visually\" id=\"sk-estimator-id-31\" type=\"checkbox\" ><label for=\"sk-estimator-id-31\" class=\"sk-toggleable__label sk-toggleable__label-arrow\">OneHotEncoder</label><div class=\"sk-toggleable__content\"><pre>OneHotEncoder(drop=&#x27;first&#x27;)</pre></div></div></div></div></div></div><div class=\"sk-parallel-item\"><div class=\"sk-item\"><div class=\"sk-label-container\"><div class=\"sk-label sk-toggleable\"><input class=\"sk-toggleable__control sk-hidden--visually\" id=\"sk-estimator-id-32\" type=\"checkbox\" ><label for=\"sk-estimator-id-32\" class=\"sk-toggleable__label sk-toggleable__label-arrow\">remainder</label><div class=\"sk-toggleable__content\"><pre></pre></div></div></div><div class=\"sk-serial\"><div class=\"sk-item\"><div class=\"sk-estimator sk-toggleable\"><input class=\"sk-toggleable__control sk-hidden--visually\" id=\"sk-estimator-id-33\" type=\"checkbox\" ><label for=\"sk-estimator-id-33\" class=\"sk-toggleable__label sk-toggleable__label-arrow\">passthrough</label><div class=\"sk-toggleable__content\"><pre>passthrough</pre></div></div></div></div></div></div></div></div><div class=\"sk-item\"><div class=\"sk-estimator sk-toggleable\"><input class=\"sk-toggleable__control sk-hidden--visually\" id=\"sk-estimator-id-34\" type=\"checkbox\" ><label for=\"sk-estimator-id-34\" class=\"sk-toggleable__label sk-toggleable__label-arrow\">SMOTE</label><div class=\"sk-toggleable__content\"><pre>SMOTE(random_state=0)</pre></div></div></div><div class=\"sk-item\"><div class=\"sk-estimator sk-toggleable\"><input class=\"sk-toggleable__control sk-hidden--visually\" id=\"sk-estimator-id-35\" type=\"checkbox\" ><label for=\"sk-estimator-id-35\" class=\"sk-toggleable__label sk-toggleable__label-arrow\">XGBClassifier</label><div class=\"sk-toggleable__content\"><pre>XGBClassifier(base_score=None, booster=None, callbacks=None,\n",
       "              class_weight=&#x27;balanced&#x27;, colsample_bylevel=None,\n",
       "              colsample_bynode=None, colsample_bytree=None,\n",
       "              early_stopping_rounds=None, enable_categorical=False,\n",
       "              eval_metric=None, feature_types=None, gamma=None, gpu_id=None,\n",
       "              grow_policy=None, importance_type=None,\n",
       "              interaction_constraints=None, learning_rate=None, max_bin=None,\n",
       "              max_cat_threshold=None, max_cat_to_onehot=None,\n",
       "              max_delta_step=None, max_depth=None, max_leaves=None,\n",
       "              min_child_weight=None, missing=nan, monotone_constraints=None,\n",
       "              n_estimators=100, n_jobs=None, num_parallel_tree=None,\n",
       "              predictor=None, ...)</pre></div></div></div></div></div></div></div></div></div></div></div></div>"
      ],
      "text/plain": [
       "RandomizedSearchCV(cv=5,\n",
       "                   estimator=Pipeline(steps=[('transformer',\n",
       "                                              ColumnTransformer(remainder='passthrough',\n",
       "                                                                transformers=[('pipe_impute_robust',\n",
       "                                                                               Pipeline(steps=[('median',\n",
       "                                                                                                SimpleImputer(strategy='median')),\n",
       "                                                                                               ('poly',\n",
       "                                                                                                PolynomialFeatures()),\n",
       "                                                                                               ('scaler',\n",
       "                                                                                                RobustScaler())]),\n",
       "                                                                               ['Tenure',\n",
       "                                                                                'WarehouseToHome',\n",
       "                                                                                'NumberOfDeviceRegistered',\n",
       "                                                                                'SatisfactionScore',\n",
       "                                                                                'NumberOfAddre...\n",
       "                                        'model__subsample': [0.5, 0.55,\n",
       "                                                             0.6000000000000001,\n",
       "                                                             0.6500000000000001,\n",
       "                                                             0.7000000000000002,\n",
       "                                                             0.7500000000000002,\n",
       "                                                             0.8000000000000003,\n",
       "                                                             0.8500000000000003,\n",
       "                                                             0.9000000000000004,\n",
       "                                                             0.9500000000000004],\n",
       "                                        'transformer__pipe_impute_robust__poly__degree': [1,\n",
       "                                                                                          2],\n",
       "                                        'transformer__pipe_impute_robust__scaler': [StandardScaler(),\n",
       "                                                                                    RobustScaler()]},\n",
       "                   random_state=0, scoring=make_scorer(fbeta_score, beta=2))"
      ]
     },
     "execution_count": 34,
     "metadata": {},
     "output_type": "execute_result"
    }
   ],
   "source": [
    "# fitting\n",
    "random_xgbc.fit(X_train, y_train)"
   ]
  },
  {
   "cell_type": "code",
   "execution_count": 35,
   "metadata": {},
   "outputs": [
    {
     "data": {
      "text/html": [
       "<div>\n",
       "<style scoped>\n",
       "    .dataframe tbody tr th:only-of-type {\n",
       "        vertical-align: middle;\n",
       "    }\n",
       "\n",
       "    .dataframe tbody tr th {\n",
       "        vertical-align: top;\n",
       "    }\n",
       "\n",
       "    .dataframe thead th {\n",
       "        text-align: right;\n",
       "    }\n",
       "</style>\n",
       "<table border=\"1\" class=\"dataframe\">\n",
       "  <thead>\n",
       "    <tr style=\"text-align: right;\">\n",
       "      <th></th>\n",
       "      <th>mean_fit_time</th>\n",
       "      <th>std_fit_time</th>\n",
       "      <th>mean_score_time</th>\n",
       "      <th>std_score_time</th>\n",
       "      <th>param_transformer__pipe_impute_robust__scaler</th>\n",
       "      <th>param_transformer__pipe_impute_robust__poly__degree</th>\n",
       "      <th>param_model__subsample</th>\n",
       "      <th>param_model__n_estimators</th>\n",
       "      <th>param_model__max_depth</th>\n",
       "      <th>param_model__learning_rate</th>\n",
       "      <th>param_model__colsample_bytree</th>\n",
       "      <th>param_balancing</th>\n",
       "      <th>params</th>\n",
       "      <th>split0_test_score</th>\n",
       "      <th>split1_test_score</th>\n",
       "      <th>split2_test_score</th>\n",
       "      <th>split3_test_score</th>\n",
       "      <th>split4_test_score</th>\n",
       "      <th>mean_test_score</th>\n",
       "      <th>std_test_score</th>\n",
       "      <th>rank_test_score</th>\n",
       "    </tr>\n",
       "  </thead>\n",
       "  <tbody>\n",
       "    <tr>\n",
       "      <th>704</th>\n",
       "      <td>0.147011</td>\n",
       "      <td>0.006957</td>\n",
       "      <td>0.018801</td>\n",
       "      <td>0.000749</td>\n",
       "      <td>StandardScaler()</td>\n",
       "      <td>1</td>\n",
       "      <td>0.95</td>\n",
       "      <td>78</td>\n",
       "      <td>105</td>\n",
       "      <td>0.35</td>\n",
       "      <td>0.7</td>\n",
       "      <td>RandomUnderSampler(random_state=0)</td>\n",
       "      <td>{'transformer__pipe_impute_robust__scaler': St...</td>\n",
       "      <td>0.797546</td>\n",
       "      <td>0.786164</td>\n",
       "      <td>0.774194</td>\n",
       "      <td>0.757576</td>\n",
       "      <td>0.774793</td>\n",
       "      <td>0.778054</td>\n",
       "      <td>0.013346</td>\n",
       "      <td>1</td>\n",
       "    </tr>\n",
       "    <tr>\n",
       "      <th>276</th>\n",
       "      <td>0.745854</td>\n",
       "      <td>0.019661</td>\n",
       "      <td>0.029205</td>\n",
       "      <td>0.000979</td>\n",
       "      <td>StandardScaler()</td>\n",
       "      <td>2</td>\n",
       "      <td>0.95</td>\n",
       "      <td>96</td>\n",
       "      <td>76</td>\n",
       "      <td>0.15</td>\n",
       "      <td>0.8</td>\n",
       "      <td>RandomUnderSampler(random_state=0)</td>\n",
       "      <td>{'transformer__pipe_impute_robust__scaler': St...</td>\n",
       "      <td>0.797980</td>\n",
       "      <td>0.766046</td>\n",
       "      <td>0.730689</td>\n",
       "      <td>0.773196</td>\n",
       "      <td>0.802846</td>\n",
       "      <td>0.774151</td>\n",
       "      <td>0.025872</td>\n",
       "      <td>2</td>\n",
       "    </tr>\n",
       "    <tr>\n",
       "      <th>11</th>\n",
       "      <td>0.339027</td>\n",
       "      <td>0.028826</td>\n",
       "      <td>0.034004</td>\n",
       "      <td>0.002966</td>\n",
       "      <td>StandardScaler()</td>\n",
       "      <td>1</td>\n",
       "      <td>0.9</td>\n",
       "      <td>83</td>\n",
       "      <td>109</td>\n",
       "      <td>0.15</td>\n",
       "      <td>0.85</td>\n",
       "      <td>RandomUnderSampler(random_state=0)</td>\n",
       "      <td>{'transformer__pipe_impute_robust__scaler': St...</td>\n",
       "      <td>0.804829</td>\n",
       "      <td>0.757261</td>\n",
       "      <td>0.752119</td>\n",
       "      <td>0.772358</td>\n",
       "      <td>0.781893</td>\n",
       "      <td>0.773692</td>\n",
       "      <td>0.018836</td>\n",
       "      <td>3</td>\n",
       "    </tr>\n",
       "    <tr>\n",
       "      <th>483</th>\n",
       "      <td>0.319738</td>\n",
       "      <td>0.027862</td>\n",
       "      <td>0.029602</td>\n",
       "      <td>0.001855</td>\n",
       "      <td>StandardScaler()</td>\n",
       "      <td>1</td>\n",
       "      <td>0.95</td>\n",
       "      <td>71</td>\n",
       "      <td>94</td>\n",
       "      <td>0.1</td>\n",
       "      <td>0.75</td>\n",
       "      <td>RandomUnderSampler(random_state=0)</td>\n",
       "      <td>{'transformer__pipe_impute_robust__scaler': St...</td>\n",
       "      <td>0.809717</td>\n",
       "      <td>0.757261</td>\n",
       "      <td>0.734043</td>\n",
       "      <td>0.769231</td>\n",
       "      <td>0.797546</td>\n",
       "      <td>0.773559</td>\n",
       "      <td>0.027308</td>\n",
       "      <td>4</td>\n",
       "    </tr>\n",
       "    <tr>\n",
       "      <th>543</th>\n",
       "      <td>0.606407</td>\n",
       "      <td>0.050653</td>\n",
       "      <td>0.030603</td>\n",
       "      <td>0.002654</td>\n",
       "      <td>StandardScaler()</td>\n",
       "      <td>2</td>\n",
       "      <td>0.95</td>\n",
       "      <td>85</td>\n",
       "      <td>40</td>\n",
       "      <td>0.15</td>\n",
       "      <td>0.6</td>\n",
       "      <td>RandomUnderSampler(random_state=0)</td>\n",
       "      <td>{'transformer__pipe_impute_robust__scaler': St...</td>\n",
       "      <td>0.791075</td>\n",
       "      <td>0.759754</td>\n",
       "      <td>0.755319</td>\n",
       "      <td>0.758197</td>\n",
       "      <td>0.802469</td>\n",
       "      <td>0.773363</td>\n",
       "      <td>0.019502</td>\n",
       "      <td>5</td>\n",
       "    </tr>\n",
       "  </tbody>\n",
       "</table>\n",
       "</div>"
      ],
      "text/plain": [
       "     mean_fit_time  std_fit_time  mean_score_time  std_score_time  \\\n",
       "704       0.147011      0.006957         0.018801        0.000749   \n",
       "276       0.745854      0.019661         0.029205        0.000979   \n",
       "11        0.339027      0.028826         0.034004        0.002966   \n",
       "483       0.319738      0.027862         0.029602        0.001855   \n",
       "543       0.606407      0.050653         0.030603        0.002654   \n",
       "\n",
       "    param_transformer__pipe_impute_robust__scaler  \\\n",
       "704                              StandardScaler()   \n",
       "276                              StandardScaler()   \n",
       "11                               StandardScaler()   \n",
       "483                              StandardScaler()   \n",
       "543                              StandardScaler()   \n",
       "\n",
       "    param_transformer__pipe_impute_robust__poly__degree  \\\n",
       "704                                                  1    \n",
       "276                                                  2    \n",
       "11                                                   1    \n",
       "483                                                  1    \n",
       "543                                                  2    \n",
       "\n",
       "    param_model__subsample param_model__n_estimators param_model__max_depth  \\\n",
       "704                   0.95                        78                    105   \n",
       "276                   0.95                        96                     76   \n",
       "11                     0.9                        83                    109   \n",
       "483                   0.95                        71                     94   \n",
       "543                   0.95                        85                     40   \n",
       "\n",
       "    param_model__learning_rate param_model__colsample_bytree  \\\n",
       "704                       0.35                           0.7   \n",
       "276                       0.15                           0.8   \n",
       "11                        0.15                          0.85   \n",
       "483                        0.1                          0.75   \n",
       "543                       0.15                           0.6   \n",
       "\n",
       "                        param_balancing  \\\n",
       "704  RandomUnderSampler(random_state=0)   \n",
       "276  RandomUnderSampler(random_state=0)   \n",
       "11   RandomUnderSampler(random_state=0)   \n",
       "483  RandomUnderSampler(random_state=0)   \n",
       "543  RandomUnderSampler(random_state=0)   \n",
       "\n",
       "                                                params  split0_test_score  \\\n",
       "704  {'transformer__pipe_impute_robust__scaler': St...           0.797546   \n",
       "276  {'transformer__pipe_impute_robust__scaler': St...           0.797980   \n",
       "11   {'transformer__pipe_impute_robust__scaler': St...           0.804829   \n",
       "483  {'transformer__pipe_impute_robust__scaler': St...           0.809717   \n",
       "543  {'transformer__pipe_impute_robust__scaler': St...           0.791075   \n",
       "\n",
       "     split1_test_score  split2_test_score  split3_test_score  \\\n",
       "704           0.786164           0.774194           0.757576   \n",
       "276           0.766046           0.730689           0.773196   \n",
       "11            0.757261           0.752119           0.772358   \n",
       "483           0.757261           0.734043           0.769231   \n",
       "543           0.759754           0.755319           0.758197   \n",
       "\n",
       "     split4_test_score  mean_test_score  std_test_score  rank_test_score  \n",
       "704           0.774793         0.778054        0.013346                1  \n",
       "276           0.802846         0.774151        0.025872                2  \n",
       "11            0.781893         0.773692        0.018836                3  \n",
       "483           0.797546         0.773559        0.027308                4  \n",
       "543           0.802469         0.773363        0.019502                5  "
      ]
     },
     "execution_count": 35,
     "metadata": {},
     "output_type": "execute_result"
    }
   ],
   "source": [
    "# create dataframe\n",
    "pd.DataFrame(random_xgbc.cv_results_).sort_values(by='rank_test_score').head()"
   ]
  },
  {
   "cell_type": "code",
   "execution_count": 36,
   "metadata": {},
   "outputs": [
    {
     "name": "stdout",
     "output_type": "stream",
     "text": [
      "XGBoost\n",
      "Best_score: 0.7780544457350247\n",
      "Best_params: {'transformer__pipe_impute_robust__scaler': StandardScaler(), 'transformer__pipe_impute_robust__poly__degree': 1, 'model__subsample': 0.9500000000000004, 'model__n_estimators': 78, 'model__max_depth': 105, 'model__learning_rate': 0.3500000000000001, 'model__colsample_bytree': 0.7000000000000002, 'balancing': RandomUnderSampler(random_state=0)}\n"
     ]
    }
   ],
   "source": [
    "print('XGBoost')\n",
    "print('Best_score:', random_xgbc.best_score_)\n",
    "print('Best_params:', random_xgbc.best_params_)"
   ]
  },
  {
   "cell_type": "markdown",
   "metadata": {},
   "source": [
    "XGBoost algorithm done by twice tuning. First Tuning are able to improve best score model from before tuned model. Second Tuning are done by narrowing the range from available parameter, setting best parameters from the first tuning, best score from second tuning are also improving."
   ]
  },
  {
   "cell_type": "markdown",
   "metadata": {},
   "source": [
    "### Random Forest"
   ]
  },
  {
   "cell_type": "markdown",
   "metadata": {},
   "source": [
    "First Tuning"
   ]
  },
  {
   "cell_type": "code",
   "execution_count": 37,
   "metadata": {},
   "outputs": [],
   "source": [
    "# Hyperparam space Random Forest\n",
    "hyperparam_space_rf = {\n",
    "    'balancing':[smote, rus, ros, nearmiss, None],\n",
    "    'model__max_depth': list(np.arange(1,100,2)), \n",
    "    'model__n_estimators': list(np.arange(1,100,2)),\n",
    "    'model__max_features': ['auto', 'sqrt', 'log2'],\n",
    "    'model__min_samples_leaf': list(np.arange(1,100,2)),\n",
    "    'model__min_samples_split': list(np.arange(1,100,2)),\n",
    "    'transformer__pipe_impute_robust__scaler': [MinMaxScaler(), StandardScaler(), RobustScaler()],\n",
    "    'transformer__pipe_impute_robust__poly__degree': [1,2,3]\n",
    "}"
   ]
  },
  {
   "cell_type": "code",
   "execution_count": 38,
   "metadata": {},
   "outputs": [],
   "source": [
    "# Benchmark model 2\n",
    "rf = RandomForestClassifier(random_state=0, class_weight='balanced') \n",
    "\n",
    "# Create the algorithm chains\n",
    "pipe_model = Pipeline([\n",
    "        ('transformer', transformer),\n",
    "        ('balancing', smote), \n",
    "        ('model', rf)\n",
    "        ])\n",
    "\n",
    "# Hyperparameter tuning\n",
    "random_rf = RandomizedSearchCV(\n",
    "    estimator = pipe_model, \n",
    "    param_distributions = hyperparam_space_rf, \n",
    "    cv = 5, \n",
    "    scoring = f2_score, \n",
    "    n_jobs = -1,  \n",
    "    random_state=0,\n",
    "    n_iter= 1000\n",
    ")"
   ]
  },
  {
   "cell_type": "code",
   "execution_count": 39,
   "metadata": {},
   "outputs": [
    {
     "data": {
      "text/html": [
       "<style>#sk-container-id-4 {color: black;background-color: white;}#sk-container-id-4 pre{padding: 0;}#sk-container-id-4 div.sk-toggleable {background-color: white;}#sk-container-id-4 label.sk-toggleable__label {cursor: pointer;display: block;width: 100%;margin-bottom: 0;padding: 0.3em;box-sizing: border-box;text-align: center;}#sk-container-id-4 label.sk-toggleable__label-arrow:before {content: \"▸\";float: left;margin-right: 0.25em;color: #696969;}#sk-container-id-4 label.sk-toggleable__label-arrow:hover:before {color: black;}#sk-container-id-4 div.sk-estimator:hover label.sk-toggleable__label-arrow:before {color: black;}#sk-container-id-4 div.sk-toggleable__content {max-height: 0;max-width: 0;overflow: hidden;text-align: left;background-color: #f0f8ff;}#sk-container-id-4 div.sk-toggleable__content pre {margin: 0.2em;color: black;border-radius: 0.25em;background-color: #f0f8ff;}#sk-container-id-4 input.sk-toggleable__control:checked~div.sk-toggleable__content {max-height: 200px;max-width: 100%;overflow: auto;}#sk-container-id-4 input.sk-toggleable__control:checked~label.sk-toggleable__label-arrow:before {content: \"▾\";}#sk-container-id-4 div.sk-estimator input.sk-toggleable__control:checked~label.sk-toggleable__label {background-color: #d4ebff;}#sk-container-id-4 div.sk-label input.sk-toggleable__control:checked~label.sk-toggleable__label {background-color: #d4ebff;}#sk-container-id-4 input.sk-hidden--visually {border: 0;clip: rect(1px 1px 1px 1px);clip: rect(1px, 1px, 1px, 1px);height: 1px;margin: -1px;overflow: hidden;padding: 0;position: absolute;width: 1px;}#sk-container-id-4 div.sk-estimator {font-family: monospace;background-color: #f0f8ff;border: 1px dotted black;border-radius: 0.25em;box-sizing: border-box;margin-bottom: 0.5em;}#sk-container-id-4 div.sk-estimator:hover {background-color: #d4ebff;}#sk-container-id-4 div.sk-parallel-item::after {content: \"\";width: 100%;border-bottom: 1px solid gray;flex-grow: 1;}#sk-container-id-4 div.sk-label:hover label.sk-toggleable__label {background-color: #d4ebff;}#sk-container-id-4 div.sk-serial::before {content: \"\";position: absolute;border-left: 1px solid gray;box-sizing: border-box;top: 0;bottom: 0;left: 50%;z-index: 0;}#sk-container-id-4 div.sk-serial {display: flex;flex-direction: column;align-items: center;background-color: white;padding-right: 0.2em;padding-left: 0.2em;position: relative;}#sk-container-id-4 div.sk-item {position: relative;z-index: 1;}#sk-container-id-4 div.sk-parallel {display: flex;align-items: stretch;justify-content: center;background-color: white;position: relative;}#sk-container-id-4 div.sk-item::before, #sk-container-id-4 div.sk-parallel-item::before {content: \"\";position: absolute;border-left: 1px solid gray;box-sizing: border-box;top: 0;bottom: 0;left: 50%;z-index: -1;}#sk-container-id-4 div.sk-parallel-item {display: flex;flex-direction: column;z-index: 1;position: relative;background-color: white;}#sk-container-id-4 div.sk-parallel-item:first-child::after {align-self: flex-end;width: 50%;}#sk-container-id-4 div.sk-parallel-item:last-child::after {align-self: flex-start;width: 50%;}#sk-container-id-4 div.sk-parallel-item:only-child::after {width: 0;}#sk-container-id-4 div.sk-dashed-wrapped {border: 1px dashed gray;margin: 0 0.4em 0.5em 0.4em;box-sizing: border-box;padding-bottom: 0.4em;background-color: white;}#sk-container-id-4 div.sk-label label {font-family: monospace;font-weight: bold;display: inline-block;line-height: 1.2em;}#sk-container-id-4 div.sk-label-container {text-align: center;}#sk-container-id-4 div.sk-container {/* jupyter's `normalize.less` sets `[hidden] { display: none; }` but bootstrap.min.css set `[hidden] { display: none !important; }` so we also need the `!important` here to be able to override the default hidden behavior on the sphinx rendered scikit-learn.org. See: https://github.com/scikit-learn/scikit-learn/issues/21755 */display: inline-block !important;position: relative;}#sk-container-id-4 div.sk-text-repr-fallback {display: none;}</style><div id=\"sk-container-id-4\" class=\"sk-top-container\"><div class=\"sk-text-repr-fallback\"><pre>RandomizedSearchCV(cv=5,\n",
       "                   estimator=Pipeline(steps=[(&#x27;transformer&#x27;,\n",
       "                                              ColumnTransformer(remainder=&#x27;passthrough&#x27;,\n",
       "                                                                transformers=[(&#x27;pipe_impute_robust&#x27;,\n",
       "                                                                               Pipeline(steps=[(&#x27;median&#x27;,\n",
       "                                                                                                SimpleImputer(strategy=&#x27;median&#x27;)),\n",
       "                                                                                               (&#x27;poly&#x27;,\n",
       "                                                                                                PolynomialFeatures()),\n",
       "                                                                                               (&#x27;scaler&#x27;,\n",
       "                                                                                                RobustScaler())]),\n",
       "                                                                               [&#x27;Tenure&#x27;,\n",
       "                                                                                &#x27;WarehouseToHome&#x27;,\n",
       "                                                                                &#x27;NumberOfDeviceRegistered&#x27;,\n",
       "                                                                                &#x27;SatisfactionScore&#x27;,\n",
       "                                                                                &#x27;NumberOfAddre...\n",
       "                                                                     39, 41, 43,\n",
       "                                                                     45, 47, 49,\n",
       "                                                                     51, 53, 55,\n",
       "                                                                     57, 59, ...],\n",
       "                                        &#x27;model__n_estimators&#x27;: [1, 3, 5, 7, 9,\n",
       "                                                                11, 13, 15, 17,\n",
       "                                                                19, 21, 23, 25,\n",
       "                                                                27, 29, 31, 33,\n",
       "                                                                35, 37, 39, 41,\n",
       "                                                                43, 45, 47, 49,\n",
       "                                                                51, 53, 55, 57,\n",
       "                                                                59, ...],\n",
       "                                        &#x27;transformer__pipe_impute_robust__poly__degree&#x27;: [1,\n",
       "                                                                                          2,\n",
       "                                                                                          3],\n",
       "                                        &#x27;transformer__pipe_impute_robust__scaler&#x27;: [MinMaxScaler(),\n",
       "                                                                                    StandardScaler(),\n",
       "                                                                                    RobustScaler()]},\n",
       "                   random_state=0, scoring=make_scorer(fbeta_score, beta=2))</pre><b>In a Jupyter environment, please rerun this cell to show the HTML representation or trust the notebook. <br />On GitHub, the HTML representation is unable to render, please try loading this page with nbviewer.org.</b></div><div class=\"sk-container\" hidden><div class=\"sk-item sk-dashed-wrapped\"><div class=\"sk-label-container\"><div class=\"sk-label sk-toggleable\"><input class=\"sk-toggleable__control sk-hidden--visually\" id=\"sk-estimator-id-36\" type=\"checkbox\" ><label for=\"sk-estimator-id-36\" class=\"sk-toggleable__label sk-toggleable__label-arrow\">RandomizedSearchCV</label><div class=\"sk-toggleable__content\"><pre>RandomizedSearchCV(cv=5,\n",
       "                   estimator=Pipeline(steps=[(&#x27;transformer&#x27;,\n",
       "                                              ColumnTransformer(remainder=&#x27;passthrough&#x27;,\n",
       "                                                                transformers=[(&#x27;pipe_impute_robust&#x27;,\n",
       "                                                                               Pipeline(steps=[(&#x27;median&#x27;,\n",
       "                                                                                                SimpleImputer(strategy=&#x27;median&#x27;)),\n",
       "                                                                                               (&#x27;poly&#x27;,\n",
       "                                                                                                PolynomialFeatures()),\n",
       "                                                                                               (&#x27;scaler&#x27;,\n",
       "                                                                                                RobustScaler())]),\n",
       "                                                                               [&#x27;Tenure&#x27;,\n",
       "                                                                                &#x27;WarehouseToHome&#x27;,\n",
       "                                                                                &#x27;NumberOfDeviceRegistered&#x27;,\n",
       "                                                                                &#x27;SatisfactionScore&#x27;,\n",
       "                                                                                &#x27;NumberOfAddre...\n",
       "                                                                     39, 41, 43,\n",
       "                                                                     45, 47, 49,\n",
       "                                                                     51, 53, 55,\n",
       "                                                                     57, 59, ...],\n",
       "                                        &#x27;model__n_estimators&#x27;: [1, 3, 5, 7, 9,\n",
       "                                                                11, 13, 15, 17,\n",
       "                                                                19, 21, 23, 25,\n",
       "                                                                27, 29, 31, 33,\n",
       "                                                                35, 37, 39, 41,\n",
       "                                                                43, 45, 47, 49,\n",
       "                                                                51, 53, 55, 57,\n",
       "                                                                59, ...],\n",
       "                                        &#x27;transformer__pipe_impute_robust__poly__degree&#x27;: [1,\n",
       "                                                                                          2,\n",
       "                                                                                          3],\n",
       "                                        &#x27;transformer__pipe_impute_robust__scaler&#x27;: [MinMaxScaler(),\n",
       "                                                                                    StandardScaler(),\n",
       "                                                                                    RobustScaler()]},\n",
       "                   random_state=0, scoring=make_scorer(fbeta_score, beta=2))</pre></div></div></div><div class=\"sk-parallel\"><div class=\"sk-parallel-item\"><div class=\"sk-item\"><div class=\"sk-label-container\"><div class=\"sk-label sk-toggleable\"><input class=\"sk-toggleable__control sk-hidden--visually\" id=\"sk-estimator-id-37\" type=\"checkbox\" ><label for=\"sk-estimator-id-37\" class=\"sk-toggleable__label sk-toggleable__label-arrow\">estimator: Pipeline</label><div class=\"sk-toggleable__content\"><pre>Pipeline(steps=[(&#x27;transformer&#x27;,\n",
       "                 ColumnTransformer(remainder=&#x27;passthrough&#x27;,\n",
       "                                   transformers=[(&#x27;pipe_impute_robust&#x27;,\n",
       "                                                  Pipeline(steps=[(&#x27;median&#x27;,\n",
       "                                                                   SimpleImputer(strategy=&#x27;median&#x27;)),\n",
       "                                                                  (&#x27;poly&#x27;,\n",
       "                                                                   PolynomialFeatures()),\n",
       "                                                                  (&#x27;scaler&#x27;,\n",
       "                                                                   RobustScaler())]),\n",
       "                                                  [&#x27;Tenure&#x27;, &#x27;WarehouseToHome&#x27;,\n",
       "                                                   &#x27;NumberOfDeviceRegistered&#x27;,\n",
       "                                                   &#x27;SatisfactionScore&#x27;,\n",
       "                                                   &#x27;NumberOfAddress&#x27;,\n",
       "                                                   &#x27;DaySinceLastOrder&#x27;,\n",
       "                                                   &#x27;CashbackAmount&#x27;]),\n",
       "                                                 (&#x27;onehot&#x27;,\n",
       "                                                  OneHotEncoder(drop=&#x27;first&#x27;),\n",
       "                                                  [&#x27;PreferedOrderCat&#x27;,\n",
       "                                                   &#x27;MaritalStatus&#x27;])])),\n",
       "                (&#x27;balancing&#x27;, SMOTE(random_state=0)),\n",
       "                (&#x27;model&#x27;,\n",
       "                 RandomForestClassifier(class_weight=&#x27;balanced&#x27;,\n",
       "                                        random_state=0))])</pre></div></div></div><div class=\"sk-serial\"><div class=\"sk-item\"><div class=\"sk-serial\"><div class=\"sk-item sk-dashed-wrapped\"><div class=\"sk-label-container\"><div class=\"sk-label sk-toggleable\"><input class=\"sk-toggleable__control sk-hidden--visually\" id=\"sk-estimator-id-38\" type=\"checkbox\" ><label for=\"sk-estimator-id-38\" class=\"sk-toggleable__label sk-toggleable__label-arrow\">transformer: ColumnTransformer</label><div class=\"sk-toggleable__content\"><pre>ColumnTransformer(remainder=&#x27;passthrough&#x27;,\n",
       "                  transformers=[(&#x27;pipe_impute_robust&#x27;,\n",
       "                                 Pipeline(steps=[(&#x27;median&#x27;,\n",
       "                                                  SimpleImputer(strategy=&#x27;median&#x27;)),\n",
       "                                                 (&#x27;poly&#x27;, PolynomialFeatures()),\n",
       "                                                 (&#x27;scaler&#x27;, RobustScaler())]),\n",
       "                                 [&#x27;Tenure&#x27;, &#x27;WarehouseToHome&#x27;,\n",
       "                                  &#x27;NumberOfDeviceRegistered&#x27;,\n",
       "                                  &#x27;SatisfactionScore&#x27;, &#x27;NumberOfAddress&#x27;,\n",
       "                                  &#x27;DaySinceLastOrder&#x27;, &#x27;CashbackAmount&#x27;]),\n",
       "                                (&#x27;onehot&#x27;, OneHotEncoder(drop=&#x27;first&#x27;),\n",
       "                                 [&#x27;PreferedOrderCat&#x27;, &#x27;MaritalStatus&#x27;])])</pre></div></div></div><div class=\"sk-parallel\"><div class=\"sk-parallel-item\"><div class=\"sk-item\"><div class=\"sk-label-container\"><div class=\"sk-label sk-toggleable\"><input class=\"sk-toggleable__control sk-hidden--visually\" id=\"sk-estimator-id-39\" type=\"checkbox\" ><label for=\"sk-estimator-id-39\" class=\"sk-toggleable__label sk-toggleable__label-arrow\">pipe_impute_robust</label><div class=\"sk-toggleable__content\"><pre>[&#x27;Tenure&#x27;, &#x27;WarehouseToHome&#x27;, &#x27;NumberOfDeviceRegistered&#x27;, &#x27;SatisfactionScore&#x27;, &#x27;NumberOfAddress&#x27;, &#x27;DaySinceLastOrder&#x27;, &#x27;CashbackAmount&#x27;]</pre></div></div></div><div class=\"sk-serial\"><div class=\"sk-item\"><div class=\"sk-serial\"><div class=\"sk-item\"><div class=\"sk-estimator sk-toggleable\"><input class=\"sk-toggleable__control sk-hidden--visually\" id=\"sk-estimator-id-40\" type=\"checkbox\" ><label for=\"sk-estimator-id-40\" class=\"sk-toggleable__label sk-toggleable__label-arrow\">SimpleImputer</label><div class=\"sk-toggleable__content\"><pre>SimpleImputer(strategy=&#x27;median&#x27;)</pre></div></div></div><div class=\"sk-item\"><div class=\"sk-estimator sk-toggleable\"><input class=\"sk-toggleable__control sk-hidden--visually\" id=\"sk-estimator-id-41\" type=\"checkbox\" ><label for=\"sk-estimator-id-41\" class=\"sk-toggleable__label sk-toggleable__label-arrow\">PolynomialFeatures</label><div class=\"sk-toggleable__content\"><pre>PolynomialFeatures()</pre></div></div></div><div class=\"sk-item\"><div class=\"sk-estimator sk-toggleable\"><input class=\"sk-toggleable__control sk-hidden--visually\" id=\"sk-estimator-id-42\" type=\"checkbox\" ><label for=\"sk-estimator-id-42\" class=\"sk-toggleable__label sk-toggleable__label-arrow\">RobustScaler</label><div class=\"sk-toggleable__content\"><pre>RobustScaler()</pre></div></div></div></div></div></div></div></div><div class=\"sk-parallel-item\"><div class=\"sk-item\"><div class=\"sk-label-container\"><div class=\"sk-label sk-toggleable\"><input class=\"sk-toggleable__control sk-hidden--visually\" id=\"sk-estimator-id-43\" type=\"checkbox\" ><label for=\"sk-estimator-id-43\" class=\"sk-toggleable__label sk-toggleable__label-arrow\">onehot</label><div class=\"sk-toggleable__content\"><pre>[&#x27;PreferedOrderCat&#x27;, &#x27;MaritalStatus&#x27;]</pre></div></div></div><div class=\"sk-serial\"><div class=\"sk-item\"><div class=\"sk-estimator sk-toggleable\"><input class=\"sk-toggleable__control sk-hidden--visually\" id=\"sk-estimator-id-44\" type=\"checkbox\" ><label for=\"sk-estimator-id-44\" class=\"sk-toggleable__label sk-toggleable__label-arrow\">OneHotEncoder</label><div class=\"sk-toggleable__content\"><pre>OneHotEncoder(drop=&#x27;first&#x27;)</pre></div></div></div></div></div></div><div class=\"sk-parallel-item\"><div class=\"sk-item\"><div class=\"sk-label-container\"><div class=\"sk-label sk-toggleable\"><input class=\"sk-toggleable__control sk-hidden--visually\" id=\"sk-estimator-id-45\" type=\"checkbox\" ><label for=\"sk-estimator-id-45\" class=\"sk-toggleable__label sk-toggleable__label-arrow\">remainder</label><div class=\"sk-toggleable__content\"><pre></pre></div></div></div><div class=\"sk-serial\"><div class=\"sk-item\"><div class=\"sk-estimator sk-toggleable\"><input class=\"sk-toggleable__control sk-hidden--visually\" id=\"sk-estimator-id-46\" type=\"checkbox\" ><label for=\"sk-estimator-id-46\" class=\"sk-toggleable__label sk-toggleable__label-arrow\">passthrough</label><div class=\"sk-toggleable__content\"><pre>passthrough</pre></div></div></div></div></div></div></div></div><div class=\"sk-item\"><div class=\"sk-estimator sk-toggleable\"><input class=\"sk-toggleable__control sk-hidden--visually\" id=\"sk-estimator-id-47\" type=\"checkbox\" ><label for=\"sk-estimator-id-47\" class=\"sk-toggleable__label sk-toggleable__label-arrow\">SMOTE</label><div class=\"sk-toggleable__content\"><pre>SMOTE(random_state=0)</pre></div></div></div><div class=\"sk-item\"><div class=\"sk-estimator sk-toggleable\"><input class=\"sk-toggleable__control sk-hidden--visually\" id=\"sk-estimator-id-48\" type=\"checkbox\" ><label for=\"sk-estimator-id-48\" class=\"sk-toggleable__label sk-toggleable__label-arrow\">RandomForestClassifier</label><div class=\"sk-toggleable__content\"><pre>RandomForestClassifier(class_weight=&#x27;balanced&#x27;, random_state=0)</pre></div></div></div></div></div></div></div></div></div></div></div></div>"
      ],
      "text/plain": [
       "RandomizedSearchCV(cv=5,\n",
       "                   estimator=Pipeline(steps=[('transformer',\n",
       "                                              ColumnTransformer(remainder='passthrough',\n",
       "                                                                transformers=[('pipe_impute_robust',\n",
       "                                                                               Pipeline(steps=[('median',\n",
       "                                                                                                SimpleImputer(strategy='median')),\n",
       "                                                                                               ('poly',\n",
       "                                                                                                PolynomialFeatures()),\n",
       "                                                                                               ('scaler',\n",
       "                                                                                                RobustScaler())]),\n",
       "                                                                               ['Tenure',\n",
       "                                                                                'WarehouseToHome',\n",
       "                                                                                'NumberOfDeviceRegistered',\n",
       "                                                                                'SatisfactionScore',\n",
       "                                                                                'NumberOfAddre...\n",
       "                                                                     39, 41, 43,\n",
       "                                                                     45, 47, 49,\n",
       "                                                                     51, 53, 55,\n",
       "                                                                     57, 59, ...],\n",
       "                                        'model__n_estimators': [1, 3, 5, 7, 9,\n",
       "                                                                11, 13, 15, 17,\n",
       "                                                                19, 21, 23, 25,\n",
       "                                                                27, 29, 31, 33,\n",
       "                                                                35, 37, 39, 41,\n",
       "                                                                43, 45, 47, 49,\n",
       "                                                                51, 53, 55, 57,\n",
       "                                                                59, ...],\n",
       "                                        'transformer__pipe_impute_robust__poly__degree': [1,\n",
       "                                                                                          2,\n",
       "                                                                                          3],\n",
       "                                        'transformer__pipe_impute_robust__scaler': [MinMaxScaler(),\n",
       "                                                                                    StandardScaler(),\n",
       "                                                                                    RobustScaler()]},\n",
       "                   random_state=0, scoring=make_scorer(fbeta_score, beta=2))"
      ]
     },
     "execution_count": 39,
     "metadata": {},
     "output_type": "execute_result"
    }
   ],
   "source": [
    "# fitting\n",
    "random_rf.fit(X_train, y_train)"
   ]
  },
  {
   "cell_type": "code",
   "execution_count": 40,
   "metadata": {},
   "outputs": [
    {
     "data": {
      "text/html": [
       "<div>\n",
       "<style scoped>\n",
       "    .dataframe tbody tr th:only-of-type {\n",
       "        vertical-align: middle;\n",
       "    }\n",
       "\n",
       "    .dataframe tbody tr th {\n",
       "        vertical-align: top;\n",
       "    }\n",
       "\n",
       "    .dataframe thead th {\n",
       "        text-align: right;\n",
       "    }\n",
       "</style>\n",
       "<table border=\"1\" class=\"dataframe\">\n",
       "  <thead>\n",
       "    <tr style=\"text-align: right;\">\n",
       "      <th></th>\n",
       "      <th>mean_fit_time</th>\n",
       "      <th>std_fit_time</th>\n",
       "      <th>mean_score_time</th>\n",
       "      <th>std_score_time</th>\n",
       "      <th>param_transformer__pipe_impute_robust__scaler</th>\n",
       "      <th>param_transformer__pipe_impute_robust__poly__degree</th>\n",
       "      <th>param_model__n_estimators</th>\n",
       "      <th>param_model__min_samples_split</th>\n",
       "      <th>param_model__min_samples_leaf</th>\n",
       "      <th>param_model__max_features</th>\n",
       "      <th>param_model__max_depth</th>\n",
       "      <th>param_balancing</th>\n",
       "      <th>params</th>\n",
       "      <th>split0_test_score</th>\n",
       "      <th>split1_test_score</th>\n",
       "      <th>split2_test_score</th>\n",
       "      <th>split3_test_score</th>\n",
       "      <th>split4_test_score</th>\n",
       "      <th>mean_test_score</th>\n",
       "      <th>std_test_score</th>\n",
       "      <th>rank_test_score</th>\n",
       "    </tr>\n",
       "  </thead>\n",
       "  <tbody>\n",
       "    <tr>\n",
       "      <th>468</th>\n",
       "      <td>0.756923</td>\n",
       "      <td>0.012836</td>\n",
       "      <td>0.052806</td>\n",
       "      <td>0.001165</td>\n",
       "      <td>MinMaxScaler()</td>\n",
       "      <td>1</td>\n",
       "      <td>67</td>\n",
       "      <td>9</td>\n",
       "      <td>9</td>\n",
       "      <td>auto</td>\n",
       "      <td>29</td>\n",
       "      <td>RandomOverSampler(random_state=0)</td>\n",
       "      <td>{'transformer__pipe_impute_robust__scaler': Mi...</td>\n",
       "      <td>0.791757</td>\n",
       "      <td>0.728261</td>\n",
       "      <td>0.742358</td>\n",
       "      <td>0.764192</td>\n",
       "      <td>0.766739</td>\n",
       "      <td>0.758661</td>\n",
       "      <td>0.021823</td>\n",
       "      <td>1</td>\n",
       "    </tr>\n",
       "    <tr>\n",
       "      <th>69</th>\n",
       "      <td>0.642300</td>\n",
       "      <td>0.016598</td>\n",
       "      <td>0.056747</td>\n",
       "      <td>0.006968</td>\n",
       "      <td>RobustScaler()</td>\n",
       "      <td>1</td>\n",
       "      <td>59</td>\n",
       "      <td>37</td>\n",
       "      <td>3</td>\n",
       "      <td>sqrt</td>\n",
       "      <td>53</td>\n",
       "      <td>RandomOverSampler(random_state=0)</td>\n",
       "      <td>{'transformer__pipe_impute_robust__scaler': Ro...</td>\n",
       "      <td>0.808190</td>\n",
       "      <td>0.703463</td>\n",
       "      <td>0.736264</td>\n",
       "      <td>0.753275</td>\n",
       "      <td>0.788337</td>\n",
       "      <td>0.757906</td>\n",
       "      <td>0.037171</td>\n",
       "      <td>2</td>\n",
       "    </tr>\n",
       "    <tr>\n",
       "      <th>781</th>\n",
       "      <td>1.077497</td>\n",
       "      <td>0.020382</td>\n",
       "      <td>0.048204</td>\n",
       "      <td>0.006242</td>\n",
       "      <td>MinMaxScaler()</td>\n",
       "      <td>2</td>\n",
       "      <td>89</td>\n",
       "      <td>1</td>\n",
       "      <td>9</td>\n",
       "      <td>log2</td>\n",
       "      <td>33</td>\n",
       "      <td>RandomOverSampler(random_state=0)</td>\n",
       "      <td>{'transformer__pipe_impute_robust__scaler': Mi...</td>\n",
       "      <td>0.793478</td>\n",
       "      <td>0.701559</td>\n",
       "      <td>0.720824</td>\n",
       "      <td>0.775281</td>\n",
       "      <td>0.736607</td>\n",
       "      <td>0.745550</td>\n",
       "      <td>0.034081</td>\n",
       "      <td>3</td>\n",
       "    </tr>\n",
       "    <tr>\n",
       "      <th>42</th>\n",
       "      <td>0.536638</td>\n",
       "      <td>0.026485</td>\n",
       "      <td>0.058405</td>\n",
       "      <td>0.008870</td>\n",
       "      <td>MinMaxScaler()</td>\n",
       "      <td>1</td>\n",
       "      <td>39</td>\n",
       "      <td>55</td>\n",
       "      <td>13</td>\n",
       "      <td>sqrt</td>\n",
       "      <td>9</td>\n",
       "      <td>RandomOverSampler(random_state=0)</td>\n",
       "      <td>{'transformer__pipe_impute_robust__scaler': Mi...</td>\n",
       "      <td>0.753138</td>\n",
       "      <td>0.706638</td>\n",
       "      <td>0.737179</td>\n",
       "      <td>0.752119</td>\n",
       "      <td>0.748441</td>\n",
       "      <td>0.739503</td>\n",
       "      <td>0.017381</td>\n",
       "      <td>4</td>\n",
       "    </tr>\n",
       "    <tr>\n",
       "      <th>232</th>\n",
       "      <td>0.466266</td>\n",
       "      <td>0.045399</td>\n",
       "      <td>0.039402</td>\n",
       "      <td>0.001743</td>\n",
       "      <td>StandardScaler()</td>\n",
       "      <td>1</td>\n",
       "      <td>37</td>\n",
       "      <td>49</td>\n",
       "      <td>13</td>\n",
       "      <td>log2</td>\n",
       "      <td>53</td>\n",
       "      <td>RandomOverSampler(random_state=0)</td>\n",
       "      <td>{'transformer__pipe_impute_robust__scaler': St...</td>\n",
       "      <td>0.756303</td>\n",
       "      <td>0.699153</td>\n",
       "      <td>0.724947</td>\n",
       "      <td>0.752119</td>\n",
       "      <td>0.750529</td>\n",
       "      <td>0.736610</td>\n",
       "      <td>0.021731</td>\n",
       "      <td>5</td>\n",
       "    </tr>\n",
       "  </tbody>\n",
       "</table>\n",
       "</div>"
      ],
      "text/plain": [
       "     mean_fit_time  std_fit_time  mean_score_time  std_score_time  \\\n",
       "468       0.756923      0.012836         0.052806        0.001165   \n",
       "69        0.642300      0.016598         0.056747        0.006968   \n",
       "781       1.077497      0.020382         0.048204        0.006242   \n",
       "42        0.536638      0.026485         0.058405        0.008870   \n",
       "232       0.466266      0.045399         0.039402        0.001743   \n",
       "\n",
       "    param_transformer__pipe_impute_robust__scaler  \\\n",
       "468                                MinMaxScaler()   \n",
       "69                                 RobustScaler()   \n",
       "781                                MinMaxScaler()   \n",
       "42                                 MinMaxScaler()   \n",
       "232                              StandardScaler()   \n",
       "\n",
       "    param_transformer__pipe_impute_robust__poly__degree  \\\n",
       "468                                                  1    \n",
       "69                                                   1    \n",
       "781                                                  2    \n",
       "42                                                   1    \n",
       "232                                                  1    \n",
       "\n",
       "    param_model__n_estimators param_model__min_samples_split  \\\n",
       "468                        67                              9   \n",
       "69                         59                             37   \n",
       "781                        89                              1   \n",
       "42                         39                             55   \n",
       "232                        37                             49   \n",
       "\n",
       "    param_model__min_samples_leaf param_model__max_features  \\\n",
       "468                             9                      auto   \n",
       "69                              3                      sqrt   \n",
       "781                             9                      log2   \n",
       "42                             13                      sqrt   \n",
       "232                            13                      log2   \n",
       "\n",
       "    param_model__max_depth                    param_balancing  \\\n",
       "468                     29  RandomOverSampler(random_state=0)   \n",
       "69                      53  RandomOverSampler(random_state=0)   \n",
       "781                     33  RandomOverSampler(random_state=0)   \n",
       "42                       9  RandomOverSampler(random_state=0)   \n",
       "232                     53  RandomOverSampler(random_state=0)   \n",
       "\n",
       "                                                params  split0_test_score  \\\n",
       "468  {'transformer__pipe_impute_robust__scaler': Mi...           0.791757   \n",
       "69   {'transformer__pipe_impute_robust__scaler': Ro...           0.808190   \n",
       "781  {'transformer__pipe_impute_robust__scaler': Mi...           0.793478   \n",
       "42   {'transformer__pipe_impute_robust__scaler': Mi...           0.753138   \n",
       "232  {'transformer__pipe_impute_robust__scaler': St...           0.756303   \n",
       "\n",
       "     split1_test_score  split2_test_score  split3_test_score  \\\n",
       "468           0.728261           0.742358           0.764192   \n",
       "69            0.703463           0.736264           0.753275   \n",
       "781           0.701559           0.720824           0.775281   \n",
       "42            0.706638           0.737179           0.752119   \n",
       "232           0.699153           0.724947           0.752119   \n",
       "\n",
       "     split4_test_score  mean_test_score  std_test_score  rank_test_score  \n",
       "468           0.766739         0.758661        0.021823                1  \n",
       "69            0.788337         0.757906        0.037171                2  \n",
       "781           0.736607         0.745550        0.034081                3  \n",
       "42            0.748441         0.739503        0.017381                4  \n",
       "232           0.750529         0.736610        0.021731                5  "
      ]
     },
     "execution_count": 40,
     "metadata": {},
     "output_type": "execute_result"
    }
   ],
   "source": [
    "# create dataframe\n",
    "pd.DataFrame(random_rf.cv_results_).sort_values(by='rank_test_score').head()"
   ]
  },
  {
   "cell_type": "code",
   "execution_count": 41,
   "metadata": {},
   "outputs": [
    {
     "name": "stdout",
     "output_type": "stream",
     "text": [
      "Random Forest\n",
      "Best_score: 0.7586613597408993\n",
      "Best_params: {'transformer__pipe_impute_robust__scaler': MinMaxScaler(), 'transformer__pipe_impute_robust__poly__degree': 1, 'model__n_estimators': 67, 'model__min_samples_split': 9, 'model__min_samples_leaf': 9, 'model__max_features': 'auto', 'model__max_depth': 29, 'balancing': RandomOverSampler(random_state=0)}\n"
     ]
    }
   ],
   "source": [
    "print('Random Forest')\n",
    "print('Best_score:', random_rf.best_score_)\n",
    "print('Best_params:', random_rf.best_params_)"
   ]
  },
  {
   "cell_type": "markdown",
   "metadata": {},
   "source": [
    "Secong Tuning"
   ]
  },
  {
   "cell_type": "code",
   "execution_count": 42,
   "metadata": {},
   "outputs": [],
   "source": [
    "# Hyperparam space Random Forest\n",
    "hyperparam_space_rf = {\n",
    "    'balancing':[smote, rus, ros, None],\n",
    "    'model__max_depth': list(np.arange(15,80,1)), \n",
    "    'model__n_estimators': list(np.arange(1,100,1)),\n",
    "    'model__max_features': ['auto'],\n",
    "    'model__min_samples_leaf': list(np.arange(1,85,1)),\n",
    "    'model__min_samples_split': list(np.arange(35,120,1)),\n",
    "    'transformer__pipe_impute_robust__scaler': [MinMaxScaler(), RobustScaler()],\n",
    "    'transformer__pipe_impute_robust__poly__degree': [1,2,3]\n",
    "}"
   ]
  },
  {
   "cell_type": "code",
   "execution_count": 43,
   "metadata": {},
   "outputs": [],
   "source": [
    "# Benchmark model 2\n",
    "rf = RandomForestClassifier(random_state=0, class_weight='balanced') \n",
    "\n",
    "# Create the algorithm chains\n",
    "pipe_model = Pipeline([\n",
    "        ('transformer', transformer),\n",
    "        ('balancing', smote), \n",
    "        ('model', rf)\n",
    "        ])\n",
    "\n",
    "# Hyperparameter tuning\n",
    "random_rf = RandomizedSearchCV(\n",
    "    estimator = pipe_model, \n",
    "    param_distributions = hyperparam_space_rf, \n",
    "    cv = 5, \n",
    "    scoring = f2_score, \n",
    "    n_jobs = -1,  \n",
    "    random_state=0,\n",
    "    n_iter= 1000\n",
    ")"
   ]
  },
  {
   "cell_type": "code",
   "execution_count": 44,
   "metadata": {},
   "outputs": [
    {
     "data": {
      "text/html": [
       "<style>#sk-container-id-5 {color: black;background-color: white;}#sk-container-id-5 pre{padding: 0;}#sk-container-id-5 div.sk-toggleable {background-color: white;}#sk-container-id-5 label.sk-toggleable__label {cursor: pointer;display: block;width: 100%;margin-bottom: 0;padding: 0.3em;box-sizing: border-box;text-align: center;}#sk-container-id-5 label.sk-toggleable__label-arrow:before {content: \"▸\";float: left;margin-right: 0.25em;color: #696969;}#sk-container-id-5 label.sk-toggleable__label-arrow:hover:before {color: black;}#sk-container-id-5 div.sk-estimator:hover label.sk-toggleable__label-arrow:before {color: black;}#sk-container-id-5 div.sk-toggleable__content {max-height: 0;max-width: 0;overflow: hidden;text-align: left;background-color: #f0f8ff;}#sk-container-id-5 div.sk-toggleable__content pre {margin: 0.2em;color: black;border-radius: 0.25em;background-color: #f0f8ff;}#sk-container-id-5 input.sk-toggleable__control:checked~div.sk-toggleable__content {max-height: 200px;max-width: 100%;overflow: auto;}#sk-container-id-5 input.sk-toggleable__control:checked~label.sk-toggleable__label-arrow:before {content: \"▾\";}#sk-container-id-5 div.sk-estimator input.sk-toggleable__control:checked~label.sk-toggleable__label {background-color: #d4ebff;}#sk-container-id-5 div.sk-label input.sk-toggleable__control:checked~label.sk-toggleable__label {background-color: #d4ebff;}#sk-container-id-5 input.sk-hidden--visually {border: 0;clip: rect(1px 1px 1px 1px);clip: rect(1px, 1px, 1px, 1px);height: 1px;margin: -1px;overflow: hidden;padding: 0;position: absolute;width: 1px;}#sk-container-id-5 div.sk-estimator {font-family: monospace;background-color: #f0f8ff;border: 1px dotted black;border-radius: 0.25em;box-sizing: border-box;margin-bottom: 0.5em;}#sk-container-id-5 div.sk-estimator:hover {background-color: #d4ebff;}#sk-container-id-5 div.sk-parallel-item::after {content: \"\";width: 100%;border-bottom: 1px solid gray;flex-grow: 1;}#sk-container-id-5 div.sk-label:hover label.sk-toggleable__label {background-color: #d4ebff;}#sk-container-id-5 div.sk-serial::before {content: \"\";position: absolute;border-left: 1px solid gray;box-sizing: border-box;top: 0;bottom: 0;left: 50%;z-index: 0;}#sk-container-id-5 div.sk-serial {display: flex;flex-direction: column;align-items: center;background-color: white;padding-right: 0.2em;padding-left: 0.2em;position: relative;}#sk-container-id-5 div.sk-item {position: relative;z-index: 1;}#sk-container-id-5 div.sk-parallel {display: flex;align-items: stretch;justify-content: center;background-color: white;position: relative;}#sk-container-id-5 div.sk-item::before, #sk-container-id-5 div.sk-parallel-item::before {content: \"\";position: absolute;border-left: 1px solid gray;box-sizing: border-box;top: 0;bottom: 0;left: 50%;z-index: -1;}#sk-container-id-5 div.sk-parallel-item {display: flex;flex-direction: column;z-index: 1;position: relative;background-color: white;}#sk-container-id-5 div.sk-parallel-item:first-child::after {align-self: flex-end;width: 50%;}#sk-container-id-5 div.sk-parallel-item:last-child::after {align-self: flex-start;width: 50%;}#sk-container-id-5 div.sk-parallel-item:only-child::after {width: 0;}#sk-container-id-5 div.sk-dashed-wrapped {border: 1px dashed gray;margin: 0 0.4em 0.5em 0.4em;box-sizing: border-box;padding-bottom: 0.4em;background-color: white;}#sk-container-id-5 div.sk-label label {font-family: monospace;font-weight: bold;display: inline-block;line-height: 1.2em;}#sk-container-id-5 div.sk-label-container {text-align: center;}#sk-container-id-5 div.sk-container {/* jupyter's `normalize.less` sets `[hidden] { display: none; }` but bootstrap.min.css set `[hidden] { display: none !important; }` so we also need the `!important` here to be able to override the default hidden behavior on the sphinx rendered scikit-learn.org. See: https://github.com/scikit-learn/scikit-learn/issues/21755 */display: inline-block !important;position: relative;}#sk-container-id-5 div.sk-text-repr-fallback {display: none;}</style><div id=\"sk-container-id-5\" class=\"sk-top-container\"><div class=\"sk-text-repr-fallback\"><pre>RandomizedSearchCV(cv=5,\n",
       "                   estimator=Pipeline(steps=[(&#x27;transformer&#x27;,\n",
       "                                              ColumnTransformer(remainder=&#x27;passthrough&#x27;,\n",
       "                                                                transformers=[(&#x27;pipe_impute_robust&#x27;,\n",
       "                                                                               Pipeline(steps=[(&#x27;median&#x27;,\n",
       "                                                                                                SimpleImputer(strategy=&#x27;median&#x27;)),\n",
       "                                                                                               (&#x27;poly&#x27;,\n",
       "                                                                                                PolynomialFeatures()),\n",
       "                                                                                               (&#x27;scaler&#x27;,\n",
       "                                                                                                RobustScaler())]),\n",
       "                                                                               [&#x27;Tenure&#x27;,\n",
       "                                                                                &#x27;WarehouseToHome&#x27;,\n",
       "                                                                                &#x27;NumberOfDeviceRegistered&#x27;,\n",
       "                                                                                &#x27;SatisfactionScore&#x27;,\n",
       "                                                                                &#x27;NumberOfAddre...\n",
       "                                                                     47, 48, 49,\n",
       "                                                                     50, 51, 52,\n",
       "                                                                     53, 54, 55,\n",
       "                                                                     56, 57, 58,\n",
       "                                                                     59, 60, 61,\n",
       "                                                                     62, 63, 64, ...],\n",
       "                                        &#x27;model__n_estimators&#x27;: [1, 2, 3, 4, 5,\n",
       "                                                                6, 7, 8, 9, 10,\n",
       "                                                                11, 12, 13, 14,\n",
       "                                                                15, 16, 17, 18,\n",
       "                                                                19, 20, 21, 22,\n",
       "                                                                23, 24, 25, 26,\n",
       "                                                                27, 28, 29, 30, ...],\n",
       "                                        &#x27;transformer__pipe_impute_robust__poly__degree&#x27;: [1,\n",
       "                                                                                          2,\n",
       "                                                                                          3],\n",
       "                                        &#x27;transformer__pipe_impute_robust__scaler&#x27;: [MinMaxScaler(),\n",
       "                                                                                    RobustScaler()]},\n",
       "                   random_state=0, scoring=make_scorer(fbeta_score, beta=2))</pre><b>In a Jupyter environment, please rerun this cell to show the HTML representation or trust the notebook. <br />On GitHub, the HTML representation is unable to render, please try loading this page with nbviewer.org.</b></div><div class=\"sk-container\" hidden><div class=\"sk-item sk-dashed-wrapped\"><div class=\"sk-label-container\"><div class=\"sk-label sk-toggleable\"><input class=\"sk-toggleable__control sk-hidden--visually\" id=\"sk-estimator-id-49\" type=\"checkbox\" ><label for=\"sk-estimator-id-49\" class=\"sk-toggleable__label sk-toggleable__label-arrow\">RandomizedSearchCV</label><div class=\"sk-toggleable__content\"><pre>RandomizedSearchCV(cv=5,\n",
       "                   estimator=Pipeline(steps=[(&#x27;transformer&#x27;,\n",
       "                                              ColumnTransformer(remainder=&#x27;passthrough&#x27;,\n",
       "                                                                transformers=[(&#x27;pipe_impute_robust&#x27;,\n",
       "                                                                               Pipeline(steps=[(&#x27;median&#x27;,\n",
       "                                                                                                SimpleImputer(strategy=&#x27;median&#x27;)),\n",
       "                                                                                               (&#x27;poly&#x27;,\n",
       "                                                                                                PolynomialFeatures()),\n",
       "                                                                                               (&#x27;scaler&#x27;,\n",
       "                                                                                                RobustScaler())]),\n",
       "                                                                               [&#x27;Tenure&#x27;,\n",
       "                                                                                &#x27;WarehouseToHome&#x27;,\n",
       "                                                                                &#x27;NumberOfDeviceRegistered&#x27;,\n",
       "                                                                                &#x27;SatisfactionScore&#x27;,\n",
       "                                                                                &#x27;NumberOfAddre...\n",
       "                                                                     47, 48, 49,\n",
       "                                                                     50, 51, 52,\n",
       "                                                                     53, 54, 55,\n",
       "                                                                     56, 57, 58,\n",
       "                                                                     59, 60, 61,\n",
       "                                                                     62, 63, 64, ...],\n",
       "                                        &#x27;model__n_estimators&#x27;: [1, 2, 3, 4, 5,\n",
       "                                                                6, 7, 8, 9, 10,\n",
       "                                                                11, 12, 13, 14,\n",
       "                                                                15, 16, 17, 18,\n",
       "                                                                19, 20, 21, 22,\n",
       "                                                                23, 24, 25, 26,\n",
       "                                                                27, 28, 29, 30, ...],\n",
       "                                        &#x27;transformer__pipe_impute_robust__poly__degree&#x27;: [1,\n",
       "                                                                                          2,\n",
       "                                                                                          3],\n",
       "                                        &#x27;transformer__pipe_impute_robust__scaler&#x27;: [MinMaxScaler(),\n",
       "                                                                                    RobustScaler()]},\n",
       "                   random_state=0, scoring=make_scorer(fbeta_score, beta=2))</pre></div></div></div><div class=\"sk-parallel\"><div class=\"sk-parallel-item\"><div class=\"sk-item\"><div class=\"sk-label-container\"><div class=\"sk-label sk-toggleable\"><input class=\"sk-toggleable__control sk-hidden--visually\" id=\"sk-estimator-id-50\" type=\"checkbox\" ><label for=\"sk-estimator-id-50\" class=\"sk-toggleable__label sk-toggleable__label-arrow\">estimator: Pipeline</label><div class=\"sk-toggleable__content\"><pre>Pipeline(steps=[(&#x27;transformer&#x27;,\n",
       "                 ColumnTransformer(remainder=&#x27;passthrough&#x27;,\n",
       "                                   transformers=[(&#x27;pipe_impute_robust&#x27;,\n",
       "                                                  Pipeline(steps=[(&#x27;median&#x27;,\n",
       "                                                                   SimpleImputer(strategy=&#x27;median&#x27;)),\n",
       "                                                                  (&#x27;poly&#x27;,\n",
       "                                                                   PolynomialFeatures()),\n",
       "                                                                  (&#x27;scaler&#x27;,\n",
       "                                                                   RobustScaler())]),\n",
       "                                                  [&#x27;Tenure&#x27;, &#x27;WarehouseToHome&#x27;,\n",
       "                                                   &#x27;NumberOfDeviceRegistered&#x27;,\n",
       "                                                   &#x27;SatisfactionScore&#x27;,\n",
       "                                                   &#x27;NumberOfAddress&#x27;,\n",
       "                                                   &#x27;DaySinceLastOrder&#x27;,\n",
       "                                                   &#x27;CashbackAmount&#x27;]),\n",
       "                                                 (&#x27;onehot&#x27;,\n",
       "                                                  OneHotEncoder(drop=&#x27;first&#x27;),\n",
       "                                                  [&#x27;PreferedOrderCat&#x27;,\n",
       "                                                   &#x27;MaritalStatus&#x27;])])),\n",
       "                (&#x27;balancing&#x27;, SMOTE(random_state=0)),\n",
       "                (&#x27;model&#x27;,\n",
       "                 RandomForestClassifier(class_weight=&#x27;balanced&#x27;,\n",
       "                                        random_state=0))])</pre></div></div></div><div class=\"sk-serial\"><div class=\"sk-item\"><div class=\"sk-serial\"><div class=\"sk-item sk-dashed-wrapped\"><div class=\"sk-label-container\"><div class=\"sk-label sk-toggleable\"><input class=\"sk-toggleable__control sk-hidden--visually\" id=\"sk-estimator-id-51\" type=\"checkbox\" ><label for=\"sk-estimator-id-51\" class=\"sk-toggleable__label sk-toggleable__label-arrow\">transformer: ColumnTransformer</label><div class=\"sk-toggleable__content\"><pre>ColumnTransformer(remainder=&#x27;passthrough&#x27;,\n",
       "                  transformers=[(&#x27;pipe_impute_robust&#x27;,\n",
       "                                 Pipeline(steps=[(&#x27;median&#x27;,\n",
       "                                                  SimpleImputer(strategy=&#x27;median&#x27;)),\n",
       "                                                 (&#x27;poly&#x27;, PolynomialFeatures()),\n",
       "                                                 (&#x27;scaler&#x27;, RobustScaler())]),\n",
       "                                 [&#x27;Tenure&#x27;, &#x27;WarehouseToHome&#x27;,\n",
       "                                  &#x27;NumberOfDeviceRegistered&#x27;,\n",
       "                                  &#x27;SatisfactionScore&#x27;, &#x27;NumberOfAddress&#x27;,\n",
       "                                  &#x27;DaySinceLastOrder&#x27;, &#x27;CashbackAmount&#x27;]),\n",
       "                                (&#x27;onehot&#x27;, OneHotEncoder(drop=&#x27;first&#x27;),\n",
       "                                 [&#x27;PreferedOrderCat&#x27;, &#x27;MaritalStatus&#x27;])])</pre></div></div></div><div class=\"sk-parallel\"><div class=\"sk-parallel-item\"><div class=\"sk-item\"><div class=\"sk-label-container\"><div class=\"sk-label sk-toggleable\"><input class=\"sk-toggleable__control sk-hidden--visually\" id=\"sk-estimator-id-52\" type=\"checkbox\" ><label for=\"sk-estimator-id-52\" class=\"sk-toggleable__label sk-toggleable__label-arrow\">pipe_impute_robust</label><div class=\"sk-toggleable__content\"><pre>[&#x27;Tenure&#x27;, &#x27;WarehouseToHome&#x27;, &#x27;NumberOfDeviceRegistered&#x27;, &#x27;SatisfactionScore&#x27;, &#x27;NumberOfAddress&#x27;, &#x27;DaySinceLastOrder&#x27;, &#x27;CashbackAmount&#x27;]</pre></div></div></div><div class=\"sk-serial\"><div class=\"sk-item\"><div class=\"sk-serial\"><div class=\"sk-item\"><div class=\"sk-estimator sk-toggleable\"><input class=\"sk-toggleable__control sk-hidden--visually\" id=\"sk-estimator-id-53\" type=\"checkbox\" ><label for=\"sk-estimator-id-53\" class=\"sk-toggleable__label sk-toggleable__label-arrow\">SimpleImputer</label><div class=\"sk-toggleable__content\"><pre>SimpleImputer(strategy=&#x27;median&#x27;)</pre></div></div></div><div class=\"sk-item\"><div class=\"sk-estimator sk-toggleable\"><input class=\"sk-toggleable__control sk-hidden--visually\" id=\"sk-estimator-id-54\" type=\"checkbox\" ><label for=\"sk-estimator-id-54\" class=\"sk-toggleable__label sk-toggleable__label-arrow\">PolynomialFeatures</label><div class=\"sk-toggleable__content\"><pre>PolynomialFeatures()</pre></div></div></div><div class=\"sk-item\"><div class=\"sk-estimator sk-toggleable\"><input class=\"sk-toggleable__control sk-hidden--visually\" id=\"sk-estimator-id-55\" type=\"checkbox\" ><label for=\"sk-estimator-id-55\" class=\"sk-toggleable__label sk-toggleable__label-arrow\">RobustScaler</label><div class=\"sk-toggleable__content\"><pre>RobustScaler()</pre></div></div></div></div></div></div></div></div><div class=\"sk-parallel-item\"><div class=\"sk-item\"><div class=\"sk-label-container\"><div class=\"sk-label sk-toggleable\"><input class=\"sk-toggleable__control sk-hidden--visually\" id=\"sk-estimator-id-56\" type=\"checkbox\" ><label for=\"sk-estimator-id-56\" class=\"sk-toggleable__label sk-toggleable__label-arrow\">onehot</label><div class=\"sk-toggleable__content\"><pre>[&#x27;PreferedOrderCat&#x27;, &#x27;MaritalStatus&#x27;]</pre></div></div></div><div class=\"sk-serial\"><div class=\"sk-item\"><div class=\"sk-estimator sk-toggleable\"><input class=\"sk-toggleable__control sk-hidden--visually\" id=\"sk-estimator-id-57\" type=\"checkbox\" ><label for=\"sk-estimator-id-57\" class=\"sk-toggleable__label sk-toggleable__label-arrow\">OneHotEncoder</label><div class=\"sk-toggleable__content\"><pre>OneHotEncoder(drop=&#x27;first&#x27;)</pre></div></div></div></div></div></div><div class=\"sk-parallel-item\"><div class=\"sk-item\"><div class=\"sk-label-container\"><div class=\"sk-label sk-toggleable\"><input class=\"sk-toggleable__control sk-hidden--visually\" id=\"sk-estimator-id-58\" type=\"checkbox\" ><label for=\"sk-estimator-id-58\" class=\"sk-toggleable__label sk-toggleable__label-arrow\">remainder</label><div class=\"sk-toggleable__content\"><pre></pre></div></div></div><div class=\"sk-serial\"><div class=\"sk-item\"><div class=\"sk-estimator sk-toggleable\"><input class=\"sk-toggleable__control sk-hidden--visually\" id=\"sk-estimator-id-59\" type=\"checkbox\" ><label for=\"sk-estimator-id-59\" class=\"sk-toggleable__label sk-toggleable__label-arrow\">passthrough</label><div class=\"sk-toggleable__content\"><pre>passthrough</pre></div></div></div></div></div></div></div></div><div class=\"sk-item\"><div class=\"sk-estimator sk-toggleable\"><input class=\"sk-toggleable__control sk-hidden--visually\" id=\"sk-estimator-id-60\" type=\"checkbox\" ><label for=\"sk-estimator-id-60\" class=\"sk-toggleable__label sk-toggleable__label-arrow\">SMOTE</label><div class=\"sk-toggleable__content\"><pre>SMOTE(random_state=0)</pre></div></div></div><div class=\"sk-item\"><div class=\"sk-estimator sk-toggleable\"><input class=\"sk-toggleable__control sk-hidden--visually\" id=\"sk-estimator-id-61\" type=\"checkbox\" ><label for=\"sk-estimator-id-61\" class=\"sk-toggleable__label sk-toggleable__label-arrow\">RandomForestClassifier</label><div class=\"sk-toggleable__content\"><pre>RandomForestClassifier(class_weight=&#x27;balanced&#x27;, random_state=0)</pre></div></div></div></div></div></div></div></div></div></div></div></div>"
      ],
      "text/plain": [
       "RandomizedSearchCV(cv=5,\n",
       "                   estimator=Pipeline(steps=[('transformer',\n",
       "                                              ColumnTransformer(remainder='passthrough',\n",
       "                                                                transformers=[('pipe_impute_robust',\n",
       "                                                                               Pipeline(steps=[('median',\n",
       "                                                                                                SimpleImputer(strategy='median')),\n",
       "                                                                                               ('poly',\n",
       "                                                                                                PolynomialFeatures()),\n",
       "                                                                                               ('scaler',\n",
       "                                                                                                RobustScaler())]),\n",
       "                                                                               ['Tenure',\n",
       "                                                                                'WarehouseToHome',\n",
       "                                                                                'NumberOfDeviceRegistered',\n",
       "                                                                                'SatisfactionScore',\n",
       "                                                                                'NumberOfAddre...\n",
       "                                                                     47, 48, 49,\n",
       "                                                                     50, 51, 52,\n",
       "                                                                     53, 54, 55,\n",
       "                                                                     56, 57, 58,\n",
       "                                                                     59, 60, 61,\n",
       "                                                                     62, 63, 64, ...],\n",
       "                                        'model__n_estimators': [1, 2, 3, 4, 5,\n",
       "                                                                6, 7, 8, 9, 10,\n",
       "                                                                11, 12, 13, 14,\n",
       "                                                                15, 16, 17, 18,\n",
       "                                                                19, 20, 21, 22,\n",
       "                                                                23, 24, 25, 26,\n",
       "                                                                27, 28, 29, 30, ...],\n",
       "                                        'transformer__pipe_impute_robust__poly__degree': [1,\n",
       "                                                                                          2,\n",
       "                                                                                          3],\n",
       "                                        'transformer__pipe_impute_robust__scaler': [MinMaxScaler(),\n",
       "                                                                                    RobustScaler()]},\n",
       "                   random_state=0, scoring=make_scorer(fbeta_score, beta=2))"
      ]
     },
     "execution_count": 44,
     "metadata": {},
     "output_type": "execute_result"
    }
   ],
   "source": [
    "# fitting\n",
    "random_rf.fit(X_train, y_train)"
   ]
  },
  {
   "cell_type": "code",
   "execution_count": 45,
   "metadata": {},
   "outputs": [
    {
     "data": {
      "text/html": [
       "<div>\n",
       "<style scoped>\n",
       "    .dataframe tbody tr th:only-of-type {\n",
       "        vertical-align: middle;\n",
       "    }\n",
       "\n",
       "    .dataframe tbody tr th {\n",
       "        vertical-align: top;\n",
       "    }\n",
       "\n",
       "    .dataframe thead th {\n",
       "        text-align: right;\n",
       "    }\n",
       "</style>\n",
       "<table border=\"1\" class=\"dataframe\">\n",
       "  <thead>\n",
       "    <tr style=\"text-align: right;\">\n",
       "      <th></th>\n",
       "      <th>mean_fit_time</th>\n",
       "      <th>std_fit_time</th>\n",
       "      <th>mean_score_time</th>\n",
       "      <th>std_score_time</th>\n",
       "      <th>param_transformer__pipe_impute_robust__scaler</th>\n",
       "      <th>param_transformer__pipe_impute_robust__poly__degree</th>\n",
       "      <th>param_model__n_estimators</th>\n",
       "      <th>param_model__min_samples_split</th>\n",
       "      <th>param_model__min_samples_leaf</th>\n",
       "      <th>param_model__max_features</th>\n",
       "      <th>param_model__max_depth</th>\n",
       "      <th>param_balancing</th>\n",
       "      <th>params</th>\n",
       "      <th>split0_test_score</th>\n",
       "      <th>split1_test_score</th>\n",
       "      <th>split2_test_score</th>\n",
       "      <th>split3_test_score</th>\n",
       "      <th>split4_test_score</th>\n",
       "      <th>mean_test_score</th>\n",
       "      <th>std_test_score</th>\n",
       "      <th>rank_test_score</th>\n",
       "    </tr>\n",
       "  </thead>\n",
       "  <tbody>\n",
       "    <tr>\n",
       "      <th>57</th>\n",
       "      <td>0.784257</td>\n",
       "      <td>0.021180</td>\n",
       "      <td>0.064443</td>\n",
       "      <td>0.004056</td>\n",
       "      <td>MinMaxScaler()</td>\n",
       "      <td>1</td>\n",
       "      <td>69</td>\n",
       "      <td>57</td>\n",
       "      <td>5</td>\n",
       "      <td>auto</td>\n",
       "      <td>40</td>\n",
       "      <td>RandomOverSampler(random_state=0)</td>\n",
       "      <td>{'transformer__pipe_impute_robust__scaler': Mi...</td>\n",
       "      <td>0.778252</td>\n",
       "      <td>0.718816</td>\n",
       "      <td>0.741935</td>\n",
       "      <td>0.752688</td>\n",
       "      <td>0.759494</td>\n",
       "      <td>0.750237</td>\n",
       "      <td>0.019661</td>\n",
       "      <td>1</td>\n",
       "    </tr>\n",
       "    <tr>\n",
       "      <th>884</th>\n",
       "      <td>0.946733</td>\n",
       "      <td>0.016136</td>\n",
       "      <td>0.071372</td>\n",
       "      <td>0.002841</td>\n",
       "      <td>MinMaxScaler()</td>\n",
       "      <td>1</td>\n",
       "      <td>89</td>\n",
       "      <td>41</td>\n",
       "      <td>9</td>\n",
       "      <td>auto</td>\n",
       "      <td>27</td>\n",
       "      <td>RandomOverSampler(random_state=0)</td>\n",
       "      <td>{'transformer__pipe_impute_robust__scaler': Mi...</td>\n",
       "      <td>0.783262</td>\n",
       "      <td>0.717345</td>\n",
       "      <td>0.725108</td>\n",
       "      <td>0.737527</td>\n",
       "      <td>0.769231</td>\n",
       "      <td>0.746495</td>\n",
       "      <td>0.025520</td>\n",
       "      <td>2</td>\n",
       "    </tr>\n",
       "    <tr>\n",
       "      <th>866</th>\n",
       "      <td>0.417631</td>\n",
       "      <td>0.010172</td>\n",
       "      <td>0.044404</td>\n",
       "      <td>0.002333</td>\n",
       "      <td>MinMaxScaler()</td>\n",
       "      <td>1</td>\n",
       "      <td>38</td>\n",
       "      <td>54</td>\n",
       "      <td>13</td>\n",
       "      <td>auto</td>\n",
       "      <td>60</td>\n",
       "      <td>RandomOverSampler(random_state=0)</td>\n",
       "      <td>{'transformer__pipe_impute_robust__scaler': Mi...</td>\n",
       "      <td>0.762004</td>\n",
       "      <td>0.702128</td>\n",
       "      <td>0.731183</td>\n",
       "      <td>0.748945</td>\n",
       "      <td>0.741525</td>\n",
       "      <td>0.737157</td>\n",
       "      <td>0.020190</td>\n",
       "      <td>3</td>\n",
       "    </tr>\n",
       "    <tr>\n",
       "      <th>750</th>\n",
       "      <td>0.537640</td>\n",
       "      <td>0.014924</td>\n",
       "      <td>0.042004</td>\n",
       "      <td>0.002830</td>\n",
       "      <td>MinMaxScaler()</td>\n",
       "      <td>1</td>\n",
       "      <td>99</td>\n",
       "      <td>37</td>\n",
       "      <td>6</td>\n",
       "      <td>auto</td>\n",
       "      <td>23</td>\n",
       "      <td>None</td>\n",
       "      <td>{'transformer__pipe_impute_robust__scaler': Mi...</td>\n",
       "      <td>0.750529</td>\n",
       "      <td>0.715789</td>\n",
       "      <td>0.720430</td>\n",
       "      <td>0.761803</td>\n",
       "      <td>0.736515</td>\n",
       "      <td>0.737013</td>\n",
       "      <td>0.017452</td>\n",
       "      <td>4</td>\n",
       "    </tr>\n",
       "    <tr>\n",
       "      <th>926</th>\n",
       "      <td>0.741678</td>\n",
       "      <td>0.074233</td>\n",
       "      <td>0.062206</td>\n",
       "      <td>0.006524</td>\n",
       "      <td>RobustScaler()</td>\n",
       "      <td>1</td>\n",
       "      <td>81</td>\n",
       "      <td>54</td>\n",
       "      <td>25</td>\n",
       "      <td>auto</td>\n",
       "      <td>46</td>\n",
       "      <td>RandomOverSampler(random_state=0)</td>\n",
       "      <td>{'transformer__pipe_impute_robust__scaler': Ro...</td>\n",
       "      <td>0.758836</td>\n",
       "      <td>0.703782</td>\n",
       "      <td>0.723542</td>\n",
       "      <td>0.742678</td>\n",
       "      <td>0.751566</td>\n",
       "      <td>0.736081</td>\n",
       "      <td>0.020008</td>\n",
       "      <td>5</td>\n",
       "    </tr>\n",
       "  </tbody>\n",
       "</table>\n",
       "</div>"
      ],
      "text/plain": [
       "     mean_fit_time  std_fit_time  mean_score_time  std_score_time  \\\n",
       "57        0.784257      0.021180         0.064443        0.004056   \n",
       "884       0.946733      0.016136         0.071372        0.002841   \n",
       "866       0.417631      0.010172         0.044404        0.002333   \n",
       "750       0.537640      0.014924         0.042004        0.002830   \n",
       "926       0.741678      0.074233         0.062206        0.006524   \n",
       "\n",
       "    param_transformer__pipe_impute_robust__scaler  \\\n",
       "57                                 MinMaxScaler()   \n",
       "884                                MinMaxScaler()   \n",
       "866                                MinMaxScaler()   \n",
       "750                                MinMaxScaler()   \n",
       "926                                RobustScaler()   \n",
       "\n",
       "    param_transformer__pipe_impute_robust__poly__degree  \\\n",
       "57                                                   1    \n",
       "884                                                  1    \n",
       "866                                                  1    \n",
       "750                                                  1    \n",
       "926                                                  1    \n",
       "\n",
       "    param_model__n_estimators param_model__min_samples_split  \\\n",
       "57                         69                             57   \n",
       "884                        89                             41   \n",
       "866                        38                             54   \n",
       "750                        99                             37   \n",
       "926                        81                             54   \n",
       "\n",
       "    param_model__min_samples_leaf param_model__max_features  \\\n",
       "57                              5                      auto   \n",
       "884                             9                      auto   \n",
       "866                            13                      auto   \n",
       "750                             6                      auto   \n",
       "926                            25                      auto   \n",
       "\n",
       "    param_model__max_depth                    param_balancing  \\\n",
       "57                      40  RandomOverSampler(random_state=0)   \n",
       "884                     27  RandomOverSampler(random_state=0)   \n",
       "866                     60  RandomOverSampler(random_state=0)   \n",
       "750                     23                               None   \n",
       "926                     46  RandomOverSampler(random_state=0)   \n",
       "\n",
       "                                                params  split0_test_score  \\\n",
       "57   {'transformer__pipe_impute_robust__scaler': Mi...           0.778252   \n",
       "884  {'transformer__pipe_impute_robust__scaler': Mi...           0.783262   \n",
       "866  {'transformer__pipe_impute_robust__scaler': Mi...           0.762004   \n",
       "750  {'transformer__pipe_impute_robust__scaler': Mi...           0.750529   \n",
       "926  {'transformer__pipe_impute_robust__scaler': Ro...           0.758836   \n",
       "\n",
       "     split1_test_score  split2_test_score  split3_test_score  \\\n",
       "57            0.718816           0.741935           0.752688   \n",
       "884           0.717345           0.725108           0.737527   \n",
       "866           0.702128           0.731183           0.748945   \n",
       "750           0.715789           0.720430           0.761803   \n",
       "926           0.703782           0.723542           0.742678   \n",
       "\n",
       "     split4_test_score  mean_test_score  std_test_score  rank_test_score  \n",
       "57            0.759494         0.750237        0.019661                1  \n",
       "884           0.769231         0.746495        0.025520                2  \n",
       "866           0.741525         0.737157        0.020190                3  \n",
       "750           0.736515         0.737013        0.017452                4  \n",
       "926           0.751566         0.736081        0.020008                5  "
      ]
     },
     "execution_count": 45,
     "metadata": {},
     "output_type": "execute_result"
    }
   ],
   "source": [
    "# create dataframe\n",
    "pd.DataFrame(random_rf.cv_results_).sort_values(by='rank_test_score').head()"
   ]
  },
  {
   "cell_type": "code",
   "execution_count": 46,
   "metadata": {},
   "outputs": [
    {
     "name": "stdout",
     "output_type": "stream",
     "text": [
      "Random Forest\n",
      "Best_score: 0.7502369987200906\n",
      "Best_params: {'transformer__pipe_impute_robust__scaler': MinMaxScaler(), 'transformer__pipe_impute_robust__poly__degree': 1, 'model__n_estimators': 69, 'model__min_samples_split': 57, 'model__min_samples_leaf': 5, 'model__max_features': 'auto', 'model__max_depth': 40, 'balancing': RandomOverSampler(random_state=0)}\n"
     ]
    }
   ],
   "source": [
    "print('Random Forest')\n",
    "print('Best_score:', random_rf.best_score_)\n",
    "print('Best_params:', random_rf.best_params_)"
   ]
  },
  {
   "cell_type": "markdown",
   "metadata": {},
   "source": [
    "Random Forest algorithm tuning are also done twice. First Tuning are able to improve pertama best score model from before tuned model. Second Tuning are done by narrowing the range from available parameter, setting best parameters from the first tuning, best score from second tuning are also improving."
   ]
  },
  {
   "cell_type": "markdown",
   "metadata": {},
   "source": [
    "### Best Model"
   ]
  },
  {
   "cell_type": "markdown",
   "metadata": {},
   "source": [
    "Best score comparison between XGBoost and Random Forest, before and after tuning :"
   ]
  },
  {
   "cell_type": "code",
   "execution_count": 47,
   "metadata": {},
   "outputs": [
    {
     "name": "stdout",
     "output_type": "stream",
     "text": [
      "0.7079019658819716 XGBoost Benchmark\n",
      "0.7780544457350247 XGBoost Tuning\n",
      "0.7023430119545925 Random Forest Benchmark\n",
      "0.7502369987200906 Random Forest Tuning\n"
     ]
    }
   ],
   "source": [
    "print(df_cv[df_cv['model']=='xgbc']['mean'].values[0], 'XGBoost Benchmark')\n",
    "print(random_xgbc.best_score_, 'XGBoost Tuning')\n",
    "\n",
    "print(df_cv[df_cv['model']=='rf']['mean'].values[0], 'Random Forest Benchmark')\n",
    "print(random_rf.best_score_, 'Random Forest Tuning')"
   ]
  },
  {
   "cell_type": "markdown",
   "metadata": {},
   "source": [
    "based on those two tuned algorithm, XGBoost has higher best score than Random Forest. for that reason, we will continue into modelling process into test by using XGBoost algorithm.\n",
    "\n",
    "Best XGBoost parameter after second tuning:\n",
    "- transformer__pipe_impute_robust__scaler : StandardScaler()\n",
    "- transformer__pipe_impute_robust__poly__degree : 1\n",
    "- model__subsample : 0.9500000000000004\n",
    "- model__n_estimators : 78\n",
    "- model__max_depth : 105\n",
    "- model__learning_rate : 0.3500000000000001\n",
    "- model__colsample_bytree : 0.7000000000000002\n",
    "- balancing : RandomUnderSampler(random_state=0)\n"
   ]
  },
  {
   "cell_type": "markdown",
   "metadata": {},
   "source": [
    "---\n",
    "## **Performance in Test Set**"
   ]
  },
  {
   "cell_type": "markdown",
   "metadata": {},
   "source": [
    "XGBoost (Extreme Gradient Boosting) are popular machine learning algorithm that used for classification, regression and ranking problem. XGBoost is gradient boosting library optimized for efficiency, flexibility and Transferable.\n",
    "\n",
    "XGBoost are ensemble model type that using combination from weak model to create stronger model. . weaker model are usually from decision tree, created by sequence inside boosting process. During Boosting, every new tree will try to fix mistake from previous tree, so the model will get more accurate gradually. \n",
    "\n",
    "How XGBoost works for classification:\n",
    "\n",
    "- Data Preparation: XGBoost need input data in certain formats. data needs to be in matrixes, where every line represent an instance and every column represent a feature. Target Variable need to be binary or categorical.\n",
    "- Early Model: First Decision tree created using training data.\n",
    "\n",
    "- Residual Calculation: Residual are calculate by reducing target score that being predicted from previous target score. This Residual will be used for target variable for next decision tree.\n",
    "\n",
    "- Gradient boosting: Created for fixing previous decision tree mistake. \n",
    "\n",
    "- Tree pruning: Decision tree are cut to avoid overfitting. done by setting minimum sample needed.\n",
    "\n",
    "- Prediction: after all decision tree are created, final prediction done by adding prediction from all trees. predicted score are  the class with highest probability.\n",
    "\n",
    "- Regularization: XGBoost using regularization to avoid overfitting. regularization term added to objective function being optimized \n",
    "\n",
    "- Setting Hyperparameter: XGBoost has many hyperparameter that can be setting to improve model performance. This Hyperparameter including learning rate, number of trees, maximum depth of the trees, minimum number of samples required to be at a leaf node, etc.\n",
    "\n",
    "- XGBoost known for its speed and accuracy."
   ]
  },
  {
   "cell_type": "markdown",
   "metadata": {},
   "source": [
    "Hyperparameter that been done from tuning:\n",
    "\n",
    "- max_depth: Determining maximum depth in every tree. the bigger the value, the model will getting more complex and slower to train. however, to small value will create overfitting. \n",
    "\n",
    "- learning_rate: Determining how fast model will learn. smaller the value, the model will get slower to learn but more accurate.\n",
    "\n",
    "- n_estimators: Number of trees that will be created inside algorithm. The bigger the value, the model will getting more complex and slower to train. \n",
    "\n",
    "- subsample: Determining data sample proportion used in every tree.  Menentukan proporsi sampel data yang digunakan untuk setiap tree. Smaller the value, fewer data will be used and training time will get faster, however if its to small, it will get overfitting. \n",
    "\n",
    "- colsample_bytree: Determining feature proportion that used in every tree. Smaller the value, fewer feature will be used and training time will get faster, however if its to small, it will get underfitting."
   ]
  },
  {
   "cell_type": "markdown",
   "metadata": {},
   "source": [
    "### Before Hyperparameter Tuning"
   ]
  },
  {
   "cell_type": "code",
   "execution_count": 48,
   "metadata": {},
   "outputs": [
    {
     "data": {
      "text/plain": [
       "0.7182835820895522"
      ]
     },
     "execution_count": 48,
     "metadata": {},
     "output_type": "execute_result"
    }
   ],
   "source": [
    "model= XGBClassifier(random_state=0, verbosity=0, class_weight='balanced')\n",
    "\n",
    "model_pipe = Pipeline([\n",
    "    ('transformer', transformer),\n",
    "    ('resampler', smote),\n",
    "    ('model', model)\n",
    "])\n",
    "\n",
    "# fitting\n",
    "model_pipe.fit(X_train, y_train)\n",
    "\n",
    "# predict\n",
    "y_pred = model_pipe.predict(X_test)\n",
    "\n",
    "# f2 score score\n",
    "f2score_xgbc_benchmark = fbeta_score(y_test, y_pred, beta=2)\n",
    "f2score_xgbc_benchmark"
   ]
  },
  {
   "cell_type": "markdown",
   "metadata": {},
   "source": [
    "### After Hyperparameter Tuning"
   ]
  },
  {
   "cell_type": "code",
   "execution_count": 49,
   "metadata": {},
   "outputs": [
    {
     "data": {
      "text/plain": [
       "0.7894736842105262"
      ]
     },
     "execution_count": 49,
     "metadata": {},
     "output_type": "execute_result"
    }
   ],
   "source": [
    "# best model\n",
    "xgbc_tuning = random_xgbc.best_estimator_\n",
    "\n",
    "# fitting\n",
    "xgbc_tuning.fit(X_train, y_train)\n",
    "\n",
    "# predict\n",
    "y_pred_xgbc_tuning = xgbc_tuning.predict(X_test)\n",
    "\n",
    "# f2 score\n",
    "f2score_xgbc_tuning = fbeta_score(y_test, y_pred_xgbc_tuning, beta=2)\n",
    "f2score_xgbc_tuning"
   ]
  },
  {
   "cell_type": "code",
   "execution_count": 50,
   "metadata": {},
   "outputs": [
    {
     "name": "stdout",
     "output_type": "stream",
     "text": [
      "0.7182835820895522 XGboost Benchmark\n",
      "0.7894736842105262 XGboost Tuning\n"
     ]
    }
   ],
   "source": [
    "print(f2score_xgbc_benchmark, 'XGboost Benchmark')\n",
    "print(f2score_xgbc_tuning, 'XGboost Tuning')"
   ]
  },
  {
   "cell_type": "markdown",
   "metadata": {},
   "source": [
    "### Confusion Matrix"
   ]
  },
  {
   "cell_type": "code",
   "execution_count": 51,
   "metadata": {},
   "outputs": [
    {
     "data": {
      "image/png": "[encoded data removed]",
      "text/plain": [
       "<Figure size 1200x400 with 4 Axes>"
      ]
     },
     "metadata": {},
     "output_type": "display_data"
    }
   ],
   "source": [
    "plt.figure(figsize=(12,4))\n",
    "\n",
    "# Model XGBoost before tuning\n",
    "plt.subplot(1,2,1)\n",
    "sns.heatmap(confusion_matrix(y_test, y_pred), annot=True, fmt='.0f', square=True)\n",
    "plt.xlabel('y Prediction')\n",
    "plt.ylabel('y Actual')\n",
    "plt.title('XGBoost before tuning')\n",
    "\n",
    "# Model XGBoost after tuning\n",
    "plt.subplot(1,2,2)\n",
    "sns.heatmap(confusion_matrix(y_test, y_pred_xgbc_tuning), annot=True, fmt='.0f', square=True)\n",
    "plt.xlabel('y Prediction')\n",
    "plt.ylabel('y Actual')\n",
    "plt.title('XGBoost after tuning');"
   ]
  },
  {
   "cell_type": "markdown",
   "metadata": {},
   "source": [
    "The Purpose of this project is to know the costumer will churn or not, according to business problem,we can know:\n",
    "\n",
    "- Model has probabillity to correctly predict churn and not churn costumer((TP+TN)/total) for 85.47%\n",
    "- Model has probabillity to correctly predict churn costumer (TP/(TP+FN)) for 89.71%\n",
    "- Error Rate is 14.52%\n",
    "\n",
    "**Type 1 error**: False Positive \n",
    "- Action: Giving promotion with estimated cost *$150* per capita per year.\n",
    "- Consequences: giving promotion to wrong target, creating inappropiate cost to the company\n",
    "\n",
    " **Type 2 error**: False Negative\n",
    "- Action: Not giving attention to costumer predicted not to churn that could give profit up to *$600* per capita per year. \n",
    "- Consequences: Company is losing income because losing costumer\n",
    "<br>\n",
    "<br>\n",
    "- Cost FP : $ 150\n",
    "- Cost FN : $ 600\n",
    "\n",
    "**Without Machine Learning**\n",
    "\n",
    "Company can't know which costumer will churn, so the Company need to give promotion to all costumers to keep costumers. This creating bigger cost to the company to its promotion strategy.\n",
    "\n",
    "- Company cost for promotion (TP+FP+TN+FN): $150 x 654 = $98,100\n",
    "- On Target churn costumer promotion cost (TP+FN): $150 X 107 = $16,060\n",
    "\n",
    "The company will create more promotion cost for: $98,100 - $16,060 = `$82,040`. With machine learning, the cost can be surpressed.\n",
    "\n",
    "**With Machine Learning**\n",
    "\n",
    "Promotion cost can be focused on churn costumer, based on prediction we can known:\n",
    "\n",
    "- Cost of mistaken promotion to loyal costumer (FP): $150 x 84 = $12,600\n",
    "- Cost of losing costumer due to unpredicted churn (FN): $600 X 11 = $6,600\n",
    "\n",
    "Total Cost: $12,600 + $6,600 = `$19,200`\n",
    "\n",
    "**LOSS OF INCOME ARE REDUCED AFTER USING MACHINE LEARNING**\n",
    "\n",
    "- Before ML: $82,040\n",
    "- After ML: $19,200\n",
    "\n",
    "We can conclude using XGBoost algorithm twice tuning machine learning, are able to reduced loss of income up to `76.59%` --> (($82,040 - $19,200) / $82,040)\n"
   ]
  },
  {
   "cell_type": "markdown",
   "metadata": {},
   "source": [
    "---\n",
    "## **Summary**"
   ]
  },
  {
   "cell_type": "markdown",
   "metadata": {},
   "source": [
    "According to XGBoost:\n",
    "\n",
    "- Train Set:\n",
    "   - Before tuning: 0.70\n",
    "   - After tuning: 0.77\n",
    "\n",
    "- Test Set:\n",
    "   - Before tuning: 0.70\n",
    "   - After tuning: 0.78\n",
    "\n",
    "\n",
    "Hyperparameter tuning are able to improve  F2 Score on test set from XGBoost for 0.08. \n",
    "Model performance for 0.78 is good enough because f2 score on train and test set are not much different, and the false negative is 10% from class 1 total (churn). "
   ]
  },
  {
   "cell_type": "markdown",
   "metadata": {},
   "source": [
    "---\n",
    "## **Explainable Machine Learning**"
   ]
  },
  {
   "cell_type": "markdown",
   "metadata": {},
   "source": [
    "### Feature Importance"
   ]
  },
  {
   "cell_type": "code",
   "execution_count": 52,
   "metadata": {},
   "outputs": [
    {
     "data": {
      "text/plain": [
       "array([0.        , 0.18643306, 0.04730441, 0.03666269, 0.04375068,\n",
       "       0.0632892 , 0.06057208, 0.0480593 , 0.03314517, 0.04618186,\n",
       "       0.14539906, 0.01099807, 0.07325104, 0.05902387, 0.14592943],\n",
       "      dtype=float32)"
      ]
     },
     "execution_count": 52,
     "metadata": {},
     "output_type": "execute_result"
    }
   ],
   "source": [
    "# See value dari features importance\n",
    "xgbc_tuning['model'].feature_importances_"
   ]
  },
  {
   "cell_type": "code",
   "execution_count": 53,
   "metadata": {},
   "outputs": [
    {
     "data": {
      "text/plain": [
       "array(['1', 'x0', 'x1', 'x2', 'x3', 'x4', 'x5', 'x6'], dtype=object)"
      ]
     },
     "execution_count": 53,
     "metadata": {},
     "output_type": "execute_result"
    }
   ],
   "source": [
    "# Constanta = 1 from polynomial\n",
    "xgbc_tuning['transformer'].transformers_[0][1][1].get_feature_names_out()"
   ]
  },
  {
   "cell_type": "code",
   "execution_count": 54,
   "metadata": {},
   "outputs": [
    {
     "data": {
      "text/plain": [
       "[1,\n",
       " 'Tenure',\n",
       " 'WarehouseToHome',\n",
       " 'NumberOfDeviceRegistered',\n",
       " 'SatisfactionScore',\n",
       " 'NumberOfAddress',\n",
       " 'DaySinceLastOrder',\n",
       " 'CashbackAmount',\n",
       " 'PreferedOrderCat_Grocery',\n",
       " 'PreferedOrderCat_Laptop & Accessory',\n",
       " 'PreferedOrderCat_Mobile Phone',\n",
       " 'PreferedOrderCat_Others',\n",
       " 'MaritalStatus_Married',\n",
       " 'MaritalStatus_Single',\n",
       " 'Complain']"
      ]
     },
     "execution_count": 54,
     "metadata": {},
     "output_type": "execute_result"
    }
   ],
   "source": [
    "# features name based on transform process\n",
    "feat_scale = xgbc_tuning['transformer'].transformers_[0][2]\n",
    "feat_onehot = list(xgbc_tuning['transformer'].transformers_[1][1].get_feature_names_out())\n",
    "feat_remainder = list(X.columns[xgbc_tuning['transformer'].transformers_[2][2]])\n",
    "\n",
    "feat = [1] + feat_scale + feat_onehot + feat_remainder\n",
    "feat"
   ]
  },
  {
   "cell_type": "code",
   "execution_count": 55,
   "metadata": {},
   "outputs": [
    {
     "data": {
      "text/html": [
       "<div>\n",
       "<style scoped>\n",
       "    .dataframe tbody tr th:only-of-type {\n",
       "        vertical-align: middle;\n",
       "    }\n",
       "\n",
       "    .dataframe tbody tr th {\n",
       "        vertical-align: top;\n",
       "    }\n",
       "\n",
       "    .dataframe thead th {\n",
       "        text-align: right;\n",
       "    }\n",
       "</style>\n",
       "<table border=\"1\" class=\"dataframe\">\n",
       "  <thead>\n",
       "    <tr style=\"text-align: right;\">\n",
       "      <th></th>\n",
       "      <th>feature</th>\n",
       "      <th>importance</th>\n",
       "    </tr>\n",
       "  </thead>\n",
       "  <tbody>\n",
       "    <tr>\n",
       "      <th>1</th>\n",
       "      <td>Tenure</td>\n",
       "      <td>0.186433</td>\n",
       "    </tr>\n",
       "    <tr>\n",
       "      <th>14</th>\n",
       "      <td>Complain</td>\n",
       "      <td>0.145929</td>\n",
       "    </tr>\n",
       "    <tr>\n",
       "      <th>10</th>\n",
       "      <td>PreferedOrderCat_Mobile Phone</td>\n",
       "      <td>0.145399</td>\n",
       "    </tr>\n",
       "    <tr>\n",
       "      <th>12</th>\n",
       "      <td>MaritalStatus_Married</td>\n",
       "      <td>0.073251</td>\n",
       "    </tr>\n",
       "    <tr>\n",
       "      <th>5</th>\n",
       "      <td>NumberOfAddress</td>\n",
       "      <td>0.063289</td>\n",
       "    </tr>\n",
       "    <tr>\n",
       "      <th>6</th>\n",
       "      <td>DaySinceLastOrder</td>\n",
       "      <td>0.060572</td>\n",
       "    </tr>\n",
       "    <tr>\n",
       "      <th>13</th>\n",
       "      <td>MaritalStatus_Single</td>\n",
       "      <td>0.059024</td>\n",
       "    </tr>\n",
       "    <tr>\n",
       "      <th>7</th>\n",
       "      <td>CashbackAmount</td>\n",
       "      <td>0.048059</td>\n",
       "    </tr>\n",
       "    <tr>\n",
       "      <th>2</th>\n",
       "      <td>WarehouseToHome</td>\n",
       "      <td>0.047304</td>\n",
       "    </tr>\n",
       "    <tr>\n",
       "      <th>9</th>\n",
       "      <td>PreferedOrderCat_Laptop &amp; Accessory</td>\n",
       "      <td>0.046182</td>\n",
       "    </tr>\n",
       "    <tr>\n",
       "      <th>4</th>\n",
       "      <td>SatisfactionScore</td>\n",
       "      <td>0.043751</td>\n",
       "    </tr>\n",
       "    <tr>\n",
       "      <th>3</th>\n",
       "      <td>NumberOfDeviceRegistered</td>\n",
       "      <td>0.036663</td>\n",
       "    </tr>\n",
       "    <tr>\n",
       "      <th>8</th>\n",
       "      <td>PreferedOrderCat_Grocery</td>\n",
       "      <td>0.033145</td>\n",
       "    </tr>\n",
       "    <tr>\n",
       "      <th>11</th>\n",
       "      <td>PreferedOrderCat_Others</td>\n",
       "      <td>0.010998</td>\n",
       "    </tr>\n",
       "    <tr>\n",
       "      <th>0</th>\n",
       "      <td>1</td>\n",
       "      <td>0.000000</td>\n",
       "    </tr>\n",
       "  </tbody>\n",
       "</table>\n",
       "</div>"
      ],
      "text/plain": [
       "                                feature  importance\n",
       "1                                Tenure    0.186433\n",
       "14                             Complain    0.145929\n",
       "10        PreferedOrderCat_Mobile Phone    0.145399\n",
       "12                MaritalStatus_Married    0.073251\n",
       "5                       NumberOfAddress    0.063289\n",
       "6                     DaySinceLastOrder    0.060572\n",
       "13                 MaritalStatus_Single    0.059024\n",
       "7                        CashbackAmount    0.048059\n",
       "2                       WarehouseToHome    0.047304\n",
       "9   PreferedOrderCat_Laptop & Accessory    0.046182\n",
       "4                     SatisfactionScore    0.043751\n",
       "3              NumberOfDeviceRegistered    0.036663\n",
       "8              PreferedOrderCat_Grocery    0.033145\n",
       "11              PreferedOrderCat_Others    0.010998\n",
       "0                                     1    0.000000"
      ]
     },
     "execution_count": 55,
     "metadata": {},
     "output_type": "execute_result"
    }
   ],
   "source": [
    "# data frame feature importance that are sequenced based on highest importance value\n",
    "imp = pd.DataFrame({\n",
    "    'feature':feat,\n",
    "    'importance':xgbc_tuning['model'].feature_importances_\n",
    "}).sort_values('importance', ascending=False)\n",
    "\n",
    "imp"
   ]
  },
  {
   "cell_type": "code",
   "execution_count": 56,
   "metadata": {},
   "outputs": [
    {
     "data": {
      "text/plain": [
       "Text(0.5, 1.0, 'Feature Importance')"
      ]
     },
     "execution_count": 56,
     "metadata": {},
     "output_type": "execute_result"
    },
    {
     "data": {
      "image/png": "[encoded data removed]",
      "text/plain": [
       "<Figure size 640x480 with 1 Axes>"
      ]
     },
     "metadata": {},
     "output_type": "display_data"
    }
   ],
   "source": [
    "# creating barplot to visualized from feature importance\n",
    "sns.barplot(data=imp, y='feature', x='importance', color='b')\n",
    "plt.title('Feature Importance')"
   ]
  },
  {
   "cell_type": "markdown",
   "metadata": {},
   "source": [
    "3 Features with highest importance value or have important influence to the costumer that will churn or not based on feature importance:\n",
    "- Tenure, duration of the costumer using e-commmerce company\n",
    "- Complain\n",
    "- PreferedOrderCat_Mobile Phone, Costumer purchase category in one month"
   ]
  },
  {
   "cell_type": "markdown",
   "metadata": {},
   "source": [
    "### Shapley Value of Explanations (SHAP)"
   ]
  },
  {
   "cell_type": "code",
   "execution_count": 57,
   "metadata": {},
   "outputs": [
    {
     "name": "stderr",
     "output_type": "stream",
     "text": [
      " 96%|=================== | 2516/2616 [00:16<00:00]       "
     ]
    }
   ],
   "source": [
    "my_model = xgbc_tuning[-1]\n",
    "my_data = xgbc_tuning[0].fit_transform(X_train)\n",
    "\n",
    "# define explainer\n",
    "explainer = shap.TreeExplainer(\n",
    "    model = my_model,\n",
    "    data = my_data\n",
    ")\n",
    "\n",
    "# count shap value for every line in data train\n",
    "shap_values = explainer.shap_values(my_data)\n"
   ]
  },
  {
   "cell_type": "code",
   "execution_count": 58,
   "metadata": {},
   "outputs": [
    {
     "data": {
      "image/png": "[encoded data removed]",
      "text/plain": [
       "<Figure size 800x750 with 2 Axes>"
      ]
     },
     "metadata": {},
     "output_type": "display_data"
    }
   ],
   "source": [
    "# show most important feature affect the churn\n",
    "shap.summary_plot(shap_values, my_data, feature_names = feat)"
   ]
  },
  {
   "cell_type": "markdown",
   "metadata": {},
   "source": [
    "3 Features that has important influence to costumer that will churn or not based on SHAP: \n",
    "- Tenure: The Longer costumer using this e-commerce company(higher tenure), the costumer most likely will not churn. with smaller tenure, costumer are most likely will churn.\n",
    "- CashbackAmount: Lower the promotion number in cashback amount, the costumer most likely will churn.\n",
    "- Complain: Customer that giving complains during last month, most likely will churn."
   ]
  },
  {
   "cell_type": "markdown",
   "metadata": {},
   "source": [
    "### Insights of Features Importance & SHAP combined"
   ]
  },
  {
   "cell_type": "markdown",
   "metadata": {},
   "source": [
    "Through explainable ML, with using feature importance and SHAP, most influencing feature to influence costumer will churn is `Tenure` and `Complain`."
   ]
  },
  {
   "cell_type": "markdown",
   "metadata": {},
   "source": [
    "**Tenure**"
   ]
  },
  {
   "cell_type": "code",
   "execution_count": 59,
   "metadata": {},
   "outputs": [
    {
     "data": {
      "text/plain": [
       "<Axes: xlabel='Churn', ylabel='Tenure'>"
      ]
     },
     "execution_count": 59,
     "metadata": {},
     "output_type": "execute_result"
    },
    {
     "data": {
      "image/png": "[encoded data removed]",
      "text/plain": [
       "<Figure size 640x480 with 1 Axes>"
      ]
     },
     "metadata": {},
     "output_type": "display_data"
    }
   ],
   "source": [
    "sns.barplot(x='Churn', y='Tenure', data=df)"
   ]
  },
  {
   "cell_type": "markdown",
   "metadata": {},
   "source": [
    "Result from feature importance and SHAP, show that tenure are feature that will influence churn costumer or nut, supported by the barplot. costumer with low tenure average, most likely will churn. "
   ]
  },
  {
   "cell_type": "markdown",
   "metadata": {},
   "source": [
    "**Complain**"
   ]
  },
  {
   "cell_type": "code",
   "execution_count": 60,
   "metadata": {},
   "outputs": [
    {
     "data": {
      "text/plain": [
       "<Axes: xlabel='Churn', ylabel='Complain'>"
      ]
     },
     "execution_count": 60,
     "metadata": {},
     "output_type": "execute_result"
    },
    {
     "data": {
      "image/png": "[encoded data removed]",
      "text/plain": [
       "<Figure size 640x480 with 1 Axes>"
      ]
     },
     "metadata": {},
     "output_type": "display_data"
    }
   ],
   "source": [
    "sns.barplot(x='Churn', y='Complain', data=df)"
   ]
  },
  {
   "cell_type": "markdown",
   "metadata": {},
   "source": [
    "Result from feature importance and SHAP, show that Complain are feature that will influence churn costumer or nut, supported by the barplot. Customer with average to complain, most likely will churn."
   ]
  },
  {
   "cell_type": "markdown",
   "metadata": {},
   "source": [
    "---\n",
    "## **Save Final Model**"
   ]
  },
  {
   "cell_type": "markdown",
   "metadata": {},
   "source": [
    "### Save with Pickle\n",
    "Pickle is one of library that can be used for saving machine learning model."
   ]
  },
  {
   "cell_type": "code",
   "execution_count": 61,
   "metadata": {},
   "outputs": [],
   "source": [
    "import pickle"
   ]
  },
  {
   "cell_type": "code",
   "execution_count": 62,
   "metadata": {},
   "outputs": [],
   "source": [
    "# best model\n",
    "xgbc_tuning = random_xgbc.best_estimator_\n",
    "xgbc_tuning\n",
    "\n",
    "# fit\n",
    "xgbc_tuning.fit(X, y)\n",
    "\n",
    "# save with pickle\n",
    "pickle.dump(xgbc_tuning, open('finalmodel_xgboost.sav', 'wb'))"
   ]
  },
  {
   "cell_type": "markdown",
   "metadata": {},
   "source": [
    "---\n",
    "## **Prediction to Customer with Final Model**"
   ]
  },
  {
   "cell_type": "markdown",
   "metadata": {},
   "source": [
    "### Load Model"
   ]
  },
  {
   "cell_type": "code",
   "execution_count": 63,
   "metadata": {},
   "outputs": [
    {
     "data": {
      "text/html": [
       "<style>#sk-container-id-6 {color: black;background-color: white;}#sk-container-id-6 pre{padding: 0;}#sk-container-id-6 div.sk-toggleable {background-color: white;}#sk-container-id-6 label.sk-toggleable__label {cursor: pointer;display: block;width: 100%;margin-bottom: 0;padding: 0.3em;box-sizing: border-box;text-align: center;}#sk-container-id-6 label.sk-toggleable__label-arrow:before {content: \"▸\";float: left;margin-right: 0.25em;color: #696969;}#sk-container-id-6 label.sk-toggleable__label-arrow:hover:before {color: black;}#sk-container-id-6 div.sk-estimator:hover label.sk-toggleable__label-arrow:before {color: black;}#sk-container-id-6 div.sk-toggleable__content {max-height: 0;max-width: 0;overflow: hidden;text-align: left;background-color: #f0f8ff;}#sk-container-id-6 div.sk-toggleable__content pre {margin: 0.2em;color: black;border-radius: 0.25em;background-color: #f0f8ff;}#sk-container-id-6 input.sk-toggleable__control:checked~div.sk-toggleable__content {max-height: 200px;max-width: 100%;overflow: auto;}#sk-container-id-6 input.sk-toggleable__control:checked~label.sk-toggleable__label-arrow:before {content: \"▾\";}#sk-container-id-6 div.sk-estimator input.sk-toggleable__control:checked~label.sk-toggleable__label {background-color: #d4ebff;}#sk-container-id-6 div.sk-label input.sk-toggleable__control:checked~label.sk-toggleable__label {background-color: #d4ebff;}#sk-container-id-6 input.sk-hidden--visually {border: 0;clip: rect(1px 1px 1px 1px);clip: rect(1px, 1px, 1px, 1px);height: 1px;margin: -1px;overflow: hidden;padding: 0;position: absolute;width: 1px;}#sk-container-id-6 div.sk-estimator {font-family: monospace;background-color: #f0f8ff;border: 1px dotted black;border-radius: 0.25em;box-sizing: border-box;margin-bottom: 0.5em;}#sk-container-id-6 div.sk-estimator:hover {background-color: #d4ebff;}#sk-container-id-6 div.sk-parallel-item::after {content: \"\";width: 100%;border-bottom: 1px solid gray;flex-grow: 1;}#sk-container-id-6 div.sk-label:hover label.sk-toggleable__label {background-color: #d4ebff;}#sk-container-id-6 div.sk-serial::before {content: \"\";position: absolute;border-left: 1px solid gray;box-sizing: border-box;top: 0;bottom: 0;left: 50%;z-index: 0;}#sk-container-id-6 div.sk-serial {display: flex;flex-direction: column;align-items: center;background-color: white;padding-right: 0.2em;padding-left: 0.2em;position: relative;}#sk-container-id-6 div.sk-item {position: relative;z-index: 1;}#sk-container-id-6 div.sk-parallel {display: flex;align-items: stretch;justify-content: center;background-color: white;position: relative;}#sk-container-id-6 div.sk-item::before, #sk-container-id-6 div.sk-parallel-item::before {content: \"\";position: absolute;border-left: 1px solid gray;box-sizing: border-box;top: 0;bottom: 0;left: 50%;z-index: -1;}#sk-container-id-6 div.sk-parallel-item {display: flex;flex-direction: column;z-index: 1;position: relative;background-color: white;}#sk-container-id-6 div.sk-parallel-item:first-child::after {align-self: flex-end;width: 50%;}#sk-container-id-6 div.sk-parallel-item:last-child::after {align-self: flex-start;width: 50%;}#sk-container-id-6 div.sk-parallel-item:only-child::after {width: 0;}#sk-container-id-6 div.sk-dashed-wrapped {border: 1px dashed gray;margin: 0 0.4em 0.5em 0.4em;box-sizing: border-box;padding-bottom: 0.4em;background-color: white;}#sk-container-id-6 div.sk-label label {font-family: monospace;font-weight: bold;display: inline-block;line-height: 1.2em;}#sk-container-id-6 div.sk-label-container {text-align: center;}#sk-container-id-6 div.sk-container {/* jupyter's `normalize.less` sets `[hidden] { display: none; }` but bootstrap.min.css set `[hidden] { display: none !important; }` so we also need the `!important` here to be able to override the default hidden behavior on the sphinx rendered scikit-learn.org. See: https://github.com/scikit-learn/scikit-learn/issues/21755 */display: inline-block !important;position: relative;}#sk-container-id-6 div.sk-text-repr-fallback {display: none;}</style><div id=\"sk-container-id-6\" class=\"sk-top-container\"><div class=\"sk-text-repr-fallback\"><pre>Pipeline(steps=[(&#x27;transformer&#x27;,\n",
       "                 ColumnTransformer(remainder=&#x27;passthrough&#x27;,\n",
       "                                   transformers=[(&#x27;pipe_impute_robust&#x27;,\n",
       "                                                  Pipeline(steps=[(&#x27;median&#x27;,\n",
       "                                                                   SimpleImputer(strategy=&#x27;median&#x27;)),\n",
       "                                                                  (&#x27;poly&#x27;,\n",
       "                                                                   PolynomialFeatures(degree=1)),\n",
       "                                                                  (&#x27;scaler&#x27;,\n",
       "                                                                   StandardScaler())]),\n",
       "                                                  [&#x27;Tenure&#x27;, &#x27;WarehouseToHome&#x27;,\n",
       "                                                   &#x27;NumberOfDeviceRegistered&#x27;,\n",
       "                                                   &#x27;SatisfactionScore&#x27;,\n",
       "                                                   &#x27;NumberOfAddress&#x27;,\n",
       "                                                   &#x27;DaySinceLastOrder&#x27;,...\n",
       "                               feature_types=None, gamma=None, gpu_id=None,\n",
       "                               grow_policy=None, importance_type=None,\n",
       "                               interaction_constraints=None,\n",
       "                               learning_rate=0.3500000000000001, max_bin=None,\n",
       "                               max_cat_threshold=None, max_cat_to_onehot=None,\n",
       "                               max_delta_step=None, max_depth=105,\n",
       "                               max_leaves=None, min_child_weight=None,\n",
       "                               missing=nan, monotone_constraints=None,\n",
       "                               n_estimators=78, n_jobs=None,\n",
       "                               num_parallel_tree=None, predictor=None, ...))])</pre><b>In a Jupyter environment, please rerun this cell to show the HTML representation or trust the notebook. <br />On GitHub, the HTML representation is unable to render, please try loading this page with nbviewer.org.</b></div><div class=\"sk-container\" hidden><div class=\"sk-item sk-dashed-wrapped\"><div class=\"sk-label-container\"><div class=\"sk-label sk-toggleable\"><input class=\"sk-toggleable__control sk-hidden--visually\" id=\"sk-estimator-id-62\" type=\"checkbox\" ><label for=\"sk-estimator-id-62\" class=\"sk-toggleable__label sk-toggleable__label-arrow\">Pipeline</label><div class=\"sk-toggleable__content\"><pre>Pipeline(steps=[(&#x27;transformer&#x27;,\n",
       "                 ColumnTransformer(remainder=&#x27;passthrough&#x27;,\n",
       "                                   transformers=[(&#x27;pipe_impute_robust&#x27;,\n",
       "                                                  Pipeline(steps=[(&#x27;median&#x27;,\n",
       "                                                                   SimpleImputer(strategy=&#x27;median&#x27;)),\n",
       "                                                                  (&#x27;poly&#x27;,\n",
       "                                                                   PolynomialFeatures(degree=1)),\n",
       "                                                                  (&#x27;scaler&#x27;,\n",
       "                                                                   StandardScaler())]),\n",
       "                                                  [&#x27;Tenure&#x27;, &#x27;WarehouseToHome&#x27;,\n",
       "                                                   &#x27;NumberOfDeviceRegistered&#x27;,\n",
       "                                                   &#x27;SatisfactionScore&#x27;,\n",
       "                                                   &#x27;NumberOfAddress&#x27;,\n",
       "                                                   &#x27;DaySinceLastOrder&#x27;,...\n",
       "                               feature_types=None, gamma=None, gpu_id=None,\n",
       "                               grow_policy=None, importance_type=None,\n",
       "                               interaction_constraints=None,\n",
       "                               learning_rate=0.3500000000000001, max_bin=None,\n",
       "                               max_cat_threshold=None, max_cat_to_onehot=None,\n",
       "                               max_delta_step=None, max_depth=105,\n",
       "                               max_leaves=None, min_child_weight=None,\n",
       "                               missing=nan, monotone_constraints=None,\n",
       "                               n_estimators=78, n_jobs=None,\n",
       "                               num_parallel_tree=None, predictor=None, ...))])</pre></div></div></div><div class=\"sk-serial\"><div class=\"sk-item sk-dashed-wrapped\"><div class=\"sk-label-container\"><div class=\"sk-label sk-toggleable\"><input class=\"sk-toggleable__control sk-hidden--visually\" id=\"sk-estimator-id-63\" type=\"checkbox\" ><label for=\"sk-estimator-id-63\" class=\"sk-toggleable__label sk-toggleable__label-arrow\">transformer: ColumnTransformer</label><div class=\"sk-toggleable__content\"><pre>ColumnTransformer(remainder=&#x27;passthrough&#x27;,\n",
       "                  transformers=[(&#x27;pipe_impute_robust&#x27;,\n",
       "                                 Pipeline(steps=[(&#x27;median&#x27;,\n",
       "                                                  SimpleImputer(strategy=&#x27;median&#x27;)),\n",
       "                                                 (&#x27;poly&#x27;,\n",
       "                                                  PolynomialFeatures(degree=1)),\n",
       "                                                 (&#x27;scaler&#x27;, StandardScaler())]),\n",
       "                                 [&#x27;Tenure&#x27;, &#x27;WarehouseToHome&#x27;,\n",
       "                                  &#x27;NumberOfDeviceRegistered&#x27;,\n",
       "                                  &#x27;SatisfactionScore&#x27;, &#x27;NumberOfAddress&#x27;,\n",
       "                                  &#x27;DaySinceLastOrder&#x27;, &#x27;CashbackAmount&#x27;]),\n",
       "                                (&#x27;onehot&#x27;, OneHotEncoder(drop=&#x27;first&#x27;),\n",
       "                                 [&#x27;PreferedOrderCat&#x27;, &#x27;MaritalStatus&#x27;])])</pre></div></div></div><div class=\"sk-parallel\"><div class=\"sk-parallel-item\"><div class=\"sk-item\"><div class=\"sk-label-container\"><div class=\"sk-label sk-toggleable\"><input class=\"sk-toggleable__control sk-hidden--visually\" id=\"sk-estimator-id-64\" type=\"checkbox\" ><label for=\"sk-estimator-id-64\" class=\"sk-toggleable__label sk-toggleable__label-arrow\">pipe_impute_robust</label><div class=\"sk-toggleable__content\"><pre>[&#x27;Tenure&#x27;, &#x27;WarehouseToHome&#x27;, &#x27;NumberOfDeviceRegistered&#x27;, &#x27;SatisfactionScore&#x27;, &#x27;NumberOfAddress&#x27;, &#x27;DaySinceLastOrder&#x27;, &#x27;CashbackAmount&#x27;]</pre></div></div></div><div class=\"sk-serial\"><div class=\"sk-item\"><div class=\"sk-serial\"><div class=\"sk-item\"><div class=\"sk-estimator sk-toggleable\"><input class=\"sk-toggleable__control sk-hidden--visually\" id=\"sk-estimator-id-65\" type=\"checkbox\" ><label for=\"sk-estimator-id-65\" class=\"sk-toggleable__label sk-toggleable__label-arrow\">SimpleImputer</label><div class=\"sk-toggleable__content\"><pre>SimpleImputer(strategy=&#x27;median&#x27;)</pre></div></div></div><div class=\"sk-item\"><div class=\"sk-estimator sk-toggleable\"><input class=\"sk-toggleable__control sk-hidden--visually\" id=\"sk-estimator-id-66\" type=\"checkbox\" ><label for=\"sk-estimator-id-66\" class=\"sk-toggleable__label sk-toggleable__label-arrow\">PolynomialFeatures</label><div class=\"sk-toggleable__content\"><pre>PolynomialFeatures(degree=1)</pre></div></div></div><div class=\"sk-item\"><div class=\"sk-estimator sk-toggleable\"><input class=\"sk-toggleable__control sk-hidden--visually\" id=\"sk-estimator-id-67\" type=\"checkbox\" ><label for=\"sk-estimator-id-67\" class=\"sk-toggleable__label sk-toggleable__label-arrow\">StandardScaler</label><div class=\"sk-toggleable__content\"><pre>StandardScaler()</pre></div></div></div></div></div></div></div></div><div class=\"sk-parallel-item\"><div class=\"sk-item\"><div class=\"sk-label-container\"><div class=\"sk-label sk-toggleable\"><input class=\"sk-toggleable__control sk-hidden--visually\" id=\"sk-estimator-id-68\" type=\"checkbox\" ><label for=\"sk-estimator-id-68\" class=\"sk-toggleable__label sk-toggleable__label-arrow\">onehot</label><div class=\"sk-toggleable__content\"><pre>[&#x27;PreferedOrderCat&#x27;, &#x27;MaritalStatus&#x27;]</pre></div></div></div><div class=\"sk-serial\"><div class=\"sk-item\"><div class=\"sk-estimator sk-toggleable\"><input class=\"sk-toggleable__control sk-hidden--visually\" id=\"sk-estimator-id-69\" type=\"checkbox\" ><label for=\"sk-estimator-id-69\" class=\"sk-toggleable__label sk-toggleable__label-arrow\">OneHotEncoder</label><div class=\"sk-toggleable__content\"><pre>OneHotEncoder(drop=&#x27;first&#x27;)</pre></div></div></div></div></div></div><div class=\"sk-parallel-item\"><div class=\"sk-item\"><div class=\"sk-label-container\"><div class=\"sk-label sk-toggleable\"><input class=\"sk-toggleable__control sk-hidden--visually\" id=\"sk-estimator-id-70\" type=\"checkbox\" ><label for=\"sk-estimator-id-70\" class=\"sk-toggleable__label sk-toggleable__label-arrow\">remainder</label><div class=\"sk-toggleable__content\"><pre>[&#x27;Complain&#x27;]</pre></div></div></div><div class=\"sk-serial\"><div class=\"sk-item\"><div class=\"sk-estimator sk-toggleable\"><input class=\"sk-toggleable__control sk-hidden--visually\" id=\"sk-estimator-id-71\" type=\"checkbox\" ><label for=\"sk-estimator-id-71\" class=\"sk-toggleable__label sk-toggleable__label-arrow\">passthrough</label><div class=\"sk-toggleable__content\"><pre>passthrough</pre></div></div></div></div></div></div></div></div><div class=\"sk-item\"><div class=\"sk-estimator sk-toggleable\"><input class=\"sk-toggleable__control sk-hidden--visually\" id=\"sk-estimator-id-72\" type=\"checkbox\" ><label for=\"sk-estimator-id-72\" class=\"sk-toggleable__label sk-toggleable__label-arrow\">RandomUnderSampler</label><div class=\"sk-toggleable__content\"><pre>RandomUnderSampler(random_state=0)</pre></div></div></div><div class=\"sk-item\"><div class=\"sk-estimator sk-toggleable\"><input class=\"sk-toggleable__control sk-hidden--visually\" id=\"sk-estimator-id-73\" type=\"checkbox\" ><label for=\"sk-estimator-id-73\" class=\"sk-toggleable__label sk-toggleable__label-arrow\">XGBClassifier</label><div class=\"sk-toggleable__content\"><pre>XGBClassifier(base_score=None, booster=None, callbacks=None,\n",
       "              class_weight=&#x27;balanced&#x27;, colsample_bylevel=None,\n",
       "              colsample_bynode=None, colsample_bytree=0.7000000000000002,\n",
       "              early_stopping_rounds=None, enable_categorical=False,\n",
       "              eval_metric=None, feature_types=None, gamma=None, gpu_id=None,\n",
       "              grow_policy=None, importance_type=None,\n",
       "              interaction_constraints=None, learning_rate=0.3500000000000001,\n",
       "              max_bin=None, max_cat_threshold=None, max_cat_to_onehot=None,\n",
       "              max_delta_step=None, max_depth=105, max_leaves=None,\n",
       "              min_child_weight=None, missing=nan, monotone_constraints=None,\n",
       "              n_estimators=78, n_jobs=None, num_parallel_tree=None,\n",
       "              predictor=None, ...)</pre></div></div></div></div></div></div></div>"
      ],
      "text/plain": [
       "Pipeline(steps=[('transformer',\n",
       "                 ColumnTransformer(remainder='passthrough',\n",
       "                                   transformers=[('pipe_impute_robust',\n",
       "                                                  Pipeline(steps=[('median',\n",
       "                                                                   SimpleImputer(strategy='median')),\n",
       "                                                                  ('poly',\n",
       "                                                                   PolynomialFeatures(degree=1)),\n",
       "                                                                  ('scaler',\n",
       "                                                                   StandardScaler())]),\n",
       "                                                  ['Tenure', 'WarehouseToHome',\n",
       "                                                   'NumberOfDeviceRegistered',\n",
       "                                                   'SatisfactionScore',\n",
       "                                                   'NumberOfAddress',\n",
       "                                                   'DaySinceLastOrder',...\n",
       "                               feature_types=None, gamma=None, gpu_id=None,\n",
       "                               grow_policy=None, importance_type=None,\n",
       "                               interaction_constraints=None,\n",
       "                               learning_rate=0.3500000000000001, max_bin=None,\n",
       "                               max_cat_threshold=None, max_cat_to_onehot=None,\n",
       "                               max_delta_step=None, max_depth=105,\n",
       "                               max_leaves=None, min_child_weight=None,\n",
       "                               missing=nan, monotone_constraints=None,\n",
       "                               n_estimators=78, n_jobs=None,\n",
       "                               num_parallel_tree=None, predictor=None, ...))])"
      ]
     },
     "execution_count": 63,
     "metadata": {},
     "output_type": "execute_result"
    }
   ],
   "source": [
    "model = pickle.load(open('finalmodel_xgboost.sav', 'rb'))\n",
    "model"
   ]
  },
  {
   "cell_type": "markdown",
   "metadata": {},
   "source": [
    "### Prediction to Customer in Dataset"
   ]
  },
  {
   "cell_type": "code",
   "execution_count": 64,
   "metadata": {},
   "outputs": [
    {
     "data": {
      "text/html": [
       "<div>\n",
       "<style scoped>\n",
       "    .dataframe tbody tr th:only-of-type {\n",
       "        vertical-align: middle;\n",
       "    }\n",
       "\n",
       "    .dataframe tbody tr th {\n",
       "        vertical-align: top;\n",
       "    }\n",
       "\n",
       "    .dataframe thead th {\n",
       "        text-align: right;\n",
       "    }\n",
       "</style>\n",
       "<table border=\"1\" class=\"dataframe\">\n",
       "  <thead>\n",
       "    <tr style=\"text-align: right;\">\n",
       "      <th></th>\n",
       "      <th>Tenure</th>\n",
       "      <th>WarehouseToHome</th>\n",
       "      <th>NumberOfDeviceRegistered</th>\n",
       "      <th>PreferedOrderCat</th>\n",
       "      <th>SatisfactionScore</th>\n",
       "      <th>MaritalStatus</th>\n",
       "      <th>NumberOfAddress</th>\n",
       "      <th>Complain</th>\n",
       "      <th>DaySinceLastOrder</th>\n",
       "      <th>CashbackAmount</th>\n",
       "    </tr>\n",
       "  </thead>\n",
       "  <tbody>\n",
       "    <tr>\n",
       "      <th>7</th>\n",
       "      <td>1.0</td>\n",
       "      <td>11.0</td>\n",
       "      <td>4</td>\n",
       "      <td>Mobile Phone</td>\n",
       "      <td>5</td>\n",
       "      <td>Single</td>\n",
       "      <td>3</td>\n",
       "      <td>0</td>\n",
       "      <td>1.0</td>\n",
       "      <td>154.73</td>\n",
       "    </tr>\n",
       "  </tbody>\n",
       "</table>\n",
       "</div>"
      ],
      "text/plain": [
       "   Tenure  WarehouseToHome  NumberOfDeviceRegistered PreferedOrderCat  \\\n",
       "7     1.0             11.0                         4     Mobile Phone   \n",
       "\n",
       "   SatisfactionScore MaritalStatus  NumberOfAddress  Complain  \\\n",
       "7                  5        Single                3         0   \n",
       "\n",
       "   DaySinceLastOrder  CashbackAmount  \n",
       "7                1.0          154.73  "
      ]
     },
     "execution_count": 64,
     "metadata": {},
     "output_type": "execute_result"
    }
   ],
   "source": [
    "# customer index 7 to be predicted\n",
    "X.iloc[[7], :]"
   ]
  },
  {
   "cell_type": "code",
   "execution_count": 65,
   "metadata": {},
   "outputs": [
    {
     "data": {
      "text/plain": [
       "array([1])"
      ]
     },
     "execution_count": 65,
     "metadata": {},
     "output_type": "execute_result"
    }
   ],
   "source": [
    "# prediction on a  customer\n",
    "\n",
    "model.predict(X.iloc[[7], :])\n",
    "\n",
    "# customer index 7 predicted will churn"
   ]
  },
  {
   "cell_type": "code",
   "execution_count": 66,
   "metadata": {},
   "outputs": [
    {
     "data": {
      "text/plain": [
       "1"
      ]
     },
     "execution_count": 66,
     "metadata": {},
     "output_type": "execute_result"
    }
   ],
   "source": [
    "# y actual = 1 (Churn)\n",
    "# the prediction are correct. Customer index 7 is churn (TP)\n",
    "y[7]"
   ]
  },
  {
   "cell_type": "markdown",
   "metadata": {},
   "source": [
    "### Prediction to New Customer"
   ]
  },
  {
   "cell_type": "code",
   "execution_count": 67,
   "metadata": {},
   "outputs": [
    {
     "data": {
      "text/html": [
       "<div>\n",
       "<style scoped>\n",
       "    .dataframe tbody tr th:only-of-type {\n",
       "        vertical-align: middle;\n",
       "    }\n",
       "\n",
       "    .dataframe tbody tr th {\n",
       "        vertical-align: top;\n",
       "    }\n",
       "\n",
       "    .dataframe thead th {\n",
       "        text-align: right;\n",
       "    }\n",
       "</style>\n",
       "<table border=\"1\" class=\"dataframe\">\n",
       "  <thead>\n",
       "    <tr style=\"text-align: right;\">\n",
       "      <th></th>\n",
       "      <th>Tenure</th>\n",
       "      <th>WarehouseToHome</th>\n",
       "      <th>NumberOfDeviceRegistered</th>\n",
       "      <th>PreferedOrderCat</th>\n",
       "      <th>SatisfactionScore</th>\n",
       "      <th>MaritalStatus</th>\n",
       "      <th>NumberOfAddress</th>\n",
       "      <th>Complain</th>\n",
       "      <th>DaySinceLastOrder</th>\n",
       "      <th>CashbackAmount</th>\n",
       "    </tr>\n",
       "  </thead>\n",
       "  <tbody>\n",
       "    <tr>\n",
       "      <th>0</th>\n",
       "      <td>5</td>\n",
       "      <td>22</td>\n",
       "      <td>3</td>\n",
       "      <td>Fashion</td>\n",
       "      <td>3</td>\n",
       "      <td>Single</td>\n",
       "      <td>10</td>\n",
       "      <td>0</td>\n",
       "      <td>11</td>\n",
       "      <td>155</td>\n",
       "    </tr>\n",
       "  </tbody>\n",
       "</table>\n",
       "</div>"
      ],
      "text/plain": [
       "   Tenure  WarehouseToHome  NumberOfDeviceRegistered PreferedOrderCat  \\\n",
       "0       5               22                         3          Fashion   \n",
       "\n",
       "   SatisfactionScore MaritalStatus  NumberOfAddress  Complain  \\\n",
       "0                  3        Single               10         0   \n",
       "\n",
       "   DaySinceLastOrder  CashbackAmount  \n",
       "0                 11             155  "
      ]
     },
     "execution_count": 67,
     "metadata": {},
     "output_type": "execute_result"
    }
   ],
   "source": [
    "# adding new customer by inputing new costumer data on dataframe\n",
    "new_cust = pd.DataFrame({\n",
    "    'Tenure':[5],\n",
    "    'WarehouseToHome':[22],\n",
    "    'NumberOfDeviceRegistered':[3],\n",
    "    'PreferedOrderCat':['Fashion'],\n",
    "    'SatisfactionScore':[3],\n",
    "    'MaritalStatus':['Single'],\n",
    "    'NumberOfAddress':[10],\n",
    "    'Complain':[0],\n",
    "    'DaySinceLastOrder':[11],\n",
    "    'CashbackAmount':[155]\n",
    "})\n",
    "new_cust"
   ]
  },
  {
   "cell_type": "code",
   "execution_count": 68,
   "metadata": {},
   "outputs": [
    {
     "data": {
      "text/plain": [
       "array([0])"
      ]
     },
     "execution_count": 68,
     "metadata": {},
     "output_type": "execute_result"
    }
   ],
   "source": [
    "# Prediction on new costumer \n",
    "model.predict(new_cust)\n",
    "\n",
    "# new costumer will not churn"
   ]
  },
  {
   "cell_type": "markdown",
   "metadata": {},
   "source": [
    "---\n",
    "## **Conclusion and Recommendation**"
   ]
  },
  {
   "cell_type": "markdown",
   "metadata": {},
   "source": [
    "### Conclusion"
   ]
  },
  {
   "cell_type": "markdown",
   "metadata": {},
   "source": [
    "- Machine Learning capable to overcome problem in this company, to predict costumer that will churn. The algorithm being used is XGBoost by tuning it twice, with accuray of the model is 78% using F2 Score. This Model capable to lower the loss of income by 76.59%, by surpressing the false negative.\n",
    "\n",
    "- Based on explainable machine learning using feature importance and SHAP, tenure and complaint are most influencing factor for churn costumer."
   ]
  },
  {
   "cell_type": "markdown",
   "metadata": {},
   "source": [
    "### Recommendation"
   ]
  },
  {
   "cell_type": "markdown",
   "metadata": {},
   "source": [
    "**For Business:**\n",
    "\n",
    "Churn customer can create loss of income to the company. for that reason, company need to make strategy to keep product quality and service, also create more user friendly UX, to avoid complaint. Other than that, company need to make another strategy to keep costumer loyalilty by doing inovation and giving more appealing promotion that will make more higher tenure.\n",
    "\n",
    "Company needs to understand how to identifiy the cause of costumer to cancel its order, to make strategy to handle it.\n",
    "\n",
    "Company needs to used the machine learning that has been created, to avoid loss of income by giving promotion to right costumer that will churn.\n",
    "\n",
    "**For Model:**\n",
    "\n",
    "Model accuracy are limited to feature range:\n",
    "- Tenure: 0-61 month\n",
    "- Warehouse To Home: 5-127 km\n",
    "- Number of Device Registered: 1-6 devices\n",
    "- Number of Address: 1-22 address\n",
    "- Day since last order: 0-46 days\n",
    "- Cashback Amount: 0-324.99 \n",
    "\n",
    "For that reason, we need to collect more data especially on minority class, need to add another parameter in hyperparameter tuning, Costumer id to identify duplicate data, and also need other feature like delivery duration, on time performance of delivery, etc.\n",
    "\n"
   ]
  }
 ],
 "metadata": {
  "kernelspec": {
   "display_name": "Python 3 (ipykernel)",
   "language": "python",
   "name": "python3"
  },
  "language_info": {
   "codemirror_mode": {
    "name": "ipython",
    "version": 3
   },
   "file_extension": ".py",
   "mimetype": "text/x-python",
   "name": "python",
   "nbconvert_exporter": "python",
   "pygments_lexer": "ipython3",
   "version": "3.10.9"
  },
  "vscode": {
   "interpreter": {
    "hash": "40d59981e5d852fd1686b5f31528192b87f93b28d8648c339e8eca2fbbfdfbba"
   }
  }
 },
 "nbformat": 4,
 "nbformat_minor": 2
}
